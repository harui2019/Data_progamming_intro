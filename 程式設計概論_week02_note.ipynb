{
 "cells": [
  {
   "cell_type": "markdown",
   "metadata": {},
   "source": [
    "### ex2_106701011_programming"
   ]
  },
  {
   "cell_type": "code",
   "execution_count": 1,
   "metadata": {},
   "outputs": [
    {
     "name": "stdout",
     "output_type": "stream",
     "text": [
      "\n",
      "\n",
      "*\n",
      "\n",
      "**\n",
      "\n",
      "***\n",
      "\n",
      "**\n",
      "\n",
      "*\n",
      "\n"
     ]
    }
   ],
   "source": [
    "def print_triangle(n):\n",
    "    m=0\n",
    "    if(m<n+1):\n",
    "        for i in range(0, n+1):\n",
    "            for k in range(0, i):\n",
    "                print (\"*\",end=\"\")\n",
    "                k += 1\n",
    "            i += 1\n",
    "            m += 1\n",
    "            print (\"\\n\")\n",
    "    if(m==n+1):\n",
    "        for i in range(0, n-1):\n",
    "            for k in range(0, n-i-1):\n",
    "                print (\"*\",end=\"\")\n",
    "                k += 1\n",
    "            i += 1\n",
    "            print (\"\\n\")\n",
    "\n",
    "print_triangle(3)\n"
   ]
  },
  {
   "cell_type": "code",
   "execution_count": null,
   "metadata": {},
   "outputs": [],
   "source": []
  },
  {
   "cell_type": "code",
   "execution_count": 94,
   "metadata": {},
   "outputs": [
    {
     "name": "stdout",
     "output_type": "stream",
     "text": [
      "\n",
      "\n",
      "*\n",
      "\n",
      "**\n",
      "\n",
      "***\n",
      "\n"
     ]
    }
   ],
   "source": [
    "def print_uptriangle(n):\n",
    "    for i in range(0, n+1):\n",
    "        for k in range(0, i):\n",
    "            print (\"*\",end=\"\")\n",
    "            k += 1\n",
    "        i += 1\n",
    "        print (\"\\n\")\n",
    "print_uptriangle(3)"
   ]
  },
  {
   "cell_type": "code",
   "execution_count": null,
   "metadata": {},
   "outputs": [],
   "source": []
  }
 ],
 "metadata": {
  "kernelspec": {
   "display_name": "Python 3",
   "language": "python",
   "name": "python3"
  },
  "language_info": {
   "codemirror_mode": {
    "name": "ipython",
    "version": 3
   },
   "file_extension": ".py",
   "mimetype": "text/x-python",
   "name": "python",
   "nbconvert_exporter": "python",
   "pygments_lexer": "ipython3",
   "version": "3.6.9"
  }
 },
 "nbformat": 4,
 "nbformat_minor": 2
}
