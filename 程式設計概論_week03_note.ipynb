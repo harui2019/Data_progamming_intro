{
 "cells": [
  {
   "cell_type": "markdown",
   "metadata": {},
   "source": [
    "# 變數"
   ]
  },
  {
   "cell_type": "code",
   "execution_count": 101,
   "metadata": {
    "scrolled": true
   },
   "outputs": [],
   "source": [
    "x=0b11111111    #將二進位整數11111111指派給變數x \n",
    "y=0o77          #將八進位整數77指派給變數y\n",
    "z=0x4e          #將十六進位整數4e指派給變數z"
   ]
  },
  {
   "cell_type": "markdown",
   "metadata": {},
   "source": [
    "#### test 1"
   ]
  },
  {
   "cell_type": "code",
   "execution_count": 102,
   "metadata": {},
   "outputs": [
    {
     "name": "stdout",
     "output_type": "stream",
     "text": [
      "2\n"
     ]
    },
    {
     "ename": "NameError",
     "evalue": "name '總和' is not defined",
     "output_type": "error",
     "traceback": [
      "\u001b[1;31m---------------------------------------------------------------------------\u001b[0m",
      "\u001b[1;31mNameError\u001b[0m                                 Traceback (most recent call last)",
      "\u001b[1;32m<ipython-input-102-2d6f236fe92d>\u001b[0m in \u001b[0;36m<module>\u001b[1;34m()\u001b[0m\n\u001b[0;32m      2\u001b[0m \u001b[0mprint\u001b[0m\u001b[1;33m(\u001b[0m\u001b[0m總和\u001b[0m\u001b[1;33m)\u001b[0m\u001b[1;33m\u001b[0m\u001b[0m\n\u001b[0;32m      3\u001b[0m \u001b[1;32mdel\u001b[0m \u001b[0m總和\u001b[0m\u001b[1;33m\u001b[0m\u001b[0m\n\u001b[1;32m----> 4\u001b[1;33m \u001b[0mprint\u001b[0m\u001b[1;33m(\u001b[0m\u001b[0m總和\u001b[0m\u001b[1;33m)\u001b[0m\u001b[1;33m\u001b[0m\u001b[0m\n\u001b[0m",
      "\u001b[1;31mNameError\u001b[0m: name '總和' is not defined"
     ]
    }
   ],
   "source": [
    "總和= 2\n",
    "print(總和)\n",
    "del 總和\n",
    "print(總和)"
   ]
  },
  {
   "cell_type": "markdown",
   "metadata": {},
   "source": [
    "#### 因為取消了定義，所以會認定為未定義"
   ]
  },
  {
   "cell_type": "markdown",
   "metadata": {},
   "source": [
    "#### ex 1"
   ]
  },
  {
   "cell_type": "code",
   "execution_count": 103,
   "metadata": {},
   "outputs": [
    {
     "name": "stdout",
     "output_type": "stream",
     "text": [
      "148\n"
     ]
    }
   ],
   "source": [
    "num1=30\n",
    "num2=92\n",
    "_else=4\n",
    "_num4=10\n",
    "Num5=12\n",
    "print(num1+num2+_else+_num4+Num5)\n"
   ]
  },
  {
   "cell_type": "markdown",
   "metadata": {},
   "source": [
    "### section 1"
   ]
  },
  {
   "cell_type": "code",
   "execution_count": 104,
   "metadata": {},
   "outputs": [
    {
     "name": "stdout",
     "output_type": "stream",
     "text": [
      "255 印出變數x\n",
      "63 印出變數y\n",
      "78 印出變數z\n"
     ]
    }
   ],
   "source": [
    "print(x,\"印出變數x\")        #印出變數x\n",
    "print(y,\"印出變數y\")        #印出變數y\n",
    "print(z,\"印出變數z\")        #印出變數z"
   ]
  },
  {
   "cell_type": "markdown",
   "metadata": {},
   "source": [
    "### section 2"
   ]
  },
  {
   "cell_type": "code",
   "execution_count": 105,
   "metadata": {},
   "outputs": [
    {
     "name": "stdout",
     "output_type": "stream",
     "text": [
      "0b110011111101 以二進位的字串格式印出result\n",
      "0o6375 以八進位的字串格式印出result\n",
      "0xcfd 以十六進位的字串格式印出result\n"
     ]
    }
   ],
   "source": [
    "result = 3325 ;#把十進位3325指派給變數result\n",
    "print(bin(result),\"以二進位的字串格式印出result\")  \n",
    "print(oct(result),\"以八進位的字串格式印出result\")  #以八進位的字串格式印出result\n",
    "print(hex(result),\"以十六進位的字串格式印出result\")  #以十六進位的字串格式印出result"
   ]
  },
  {
   "cell_type": "code",
   "execution_count": 106,
   "metadata": {},
   "outputs": [
    {
     "data": {
      "text/plain": [
       "int"
      ]
     },
     "execution_count": 106,
     "metadata": {},
     "output_type": "execute_result"
    }
   ],
   "source": [
    "type(10)\n",
    "type(3.14159)\n",
    "type('a')\n",
    "num = 1\n",
    "type(num )"
   ]
  },
  {
   "cell_type": "markdown",
   "metadata": {},
   "source": [
    "### section 3"
   ]
  },
  {
   "cell_type": "code",
   "execution_count": 107,
   "metadata": {},
   "outputs": [
    {
     "name": "stdout",
     "output_type": "stream",
     "text": [
      "110011111101 去掉前面的0b以二進位的字串格式印出result\n",
      "6375 去掉前面的0o以八進位的字串格式印出result\n",
      "cfd 去掉前面的0x以十六進位的字串格式印出result\n"
     ]
    }
   ],
   "source": [
    "print(format(result, 'b'),\"去掉前面的0b以二進位的字串格式印出result\")  #去掉前面的0b以二進位的字串格式印出result\n",
    "print(format(result, 'o'),\"去掉前面的0o以八進位的字串格式印出result\")  #去掉前面的0o以八進位的字串格式印出result\n",
    "print(format(result, 'x'),\"去掉前面的0x以十六進位的字串格式印出result\")  #去掉前面的0x以十六進位的字串格式印出result"
   ]
  },
  {
   "cell_type": "markdown",
   "metadata": {},
   "source": [
    "### section 4"
   ]
  },
  {
   "cell_type": "code",
   "execution_count": 108,
   "metadata": {},
   "outputs": [
    {
     "name": "stdout",
     "output_type": "stream",
     "text": [
      "255\n",
      "86\n",
      "86\n",
      "56\n"
     ]
    }
   ],
   "source": [
    "print(int(0b11111111))\n",
    "print(int(0x56))\n",
    "print(int('56',16))\n",
    "print(int('56'))"
   ]
  },
  {
   "cell_type": "markdown",
   "metadata": {},
   "source": [
    "    第三行的是將'56'定義為16進位數\n",
    "    第四行為純字串"
   ]
  },
  {
   "cell_type": "markdown",
   "metadata": {},
   "source": [
    "### section 5"
   ]
  },
  {
   "cell_type": "code",
   "execution_count": 109,
   "metadata": {},
   "outputs": [
    {
     "name": "stdout",
     "output_type": "stream",
     "text": [
      "True\n",
      "False\n"
     ]
    },
    {
     "data": {
      "text/plain": [
       "bool"
      ]
     },
     "execution_count": 109,
     "metadata": {},
     "output_type": "execute_result"
    }
   ],
   "source": [
    "bool1=True\n",
    "bool2=False\n",
    "print(bool1)\n",
    "print(bool2)\n",
    "type(x) #print(\"回報此為何種資料型別\")\n",
    "type(y)\n",
    "type(z)\n",
    "type(result)\n",
    "type(bool1)\n",
    "type(bool2)"
   ]
  },
  {
   "cell_type": "markdown",
   "metadata": {},
   "source": [
    "    布林值(Boolean): True (1) 或False (0)"
   ]
  },
  {
   "cell_type": "markdown",
   "metadata": {},
   "source": [
    "### section 6"
   ]
  },
  {
   "cell_type": "code",
   "execution_count": 110,
   "metadata": {},
   "outputs": [
    {
     "name": "stdout",
     "output_type": "stream",
     "text": [
      "True\n",
      "False\n",
      "False\n",
      "False ,意指空字串\n",
      "True\n"
     ]
    }
   ],
   "source": [
    "print(bool(1))\n",
    "print(bool(0))\n",
    "print(bool(None))\n",
    "print(bool(''),\",意指空字串\")\n",
    "print(bool('3'))"
   ]
  },
  {
   "cell_type": "markdown",
   "metadata": {},
   "source": [
    "### section 7"
   ]
  },
  {
   "cell_type": "code",
   "execution_count": 111,
   "metadata": {},
   "outputs": [
    {
     "name": "stdout",
     "output_type": "stream",
     "text": [
      "2.14159 |印出total的值\n",
      "<class 'float'> |印出total的資料型別\n",
      "0.00089 |total0=8.9e-4,可以用科學記號表示浮點數\n",
      "7.2\n",
      "3.0\n"
     ]
    }
   ],
   "source": [
    "total= 3.14159-1  #將3.14159-1的結果指派給變數total\n",
    "print(total,\"|印出total的值\")    #印出total的值\n",
    "print(type(total),\"|印出total的資料型別\")  #印出total的資料型別\n",
    "total0=8.9e-4   #可以用科學記號表示浮點數\n",
    "print(total0,\"|total0=8.9e-4,可以用科學記號表示浮點數\")\n",
    "total1=float(7.2)\n",
    "print(total1)\n",
    "total2=float('3')\n",
    "print(total2)"
   ]
  },
  {
   "cell_type": "markdown",
   "metadata": {},
   "source": [
    "### section 8"
   ]
  },
  {
   "cell_type": "code",
   "execution_count": 112,
   "metadata": {},
   "outputs": [
    {
     "name": "stdout",
     "output_type": "stream",
     "text": [
      "<class 'complex'>\n",
      "5.0 --num1.real\n",
      "6.0 --num1.imag\n",
      "(5+6j)\n"
     ]
    }
   ],
   "source": [
    "num1=5+6j\n",
    "print(type(num1))\n",
    "print(num1.real,\"--num1.real\")\n",
    "print(num1.imag,\"--num1.imag\")\n",
    "num2=complex(5,6)\n",
    "print(num2)"
   ]
  },
  {
   "cell_type": "markdown",
   "metadata": {},
   "source": [
    "    num1=5+6j,j即為根號-1"
   ]
  },
  {
   "cell_type": "markdown",
   "metadata": {},
   "source": [
    "# 基本運算\n",
    "    (見pdf及onenote)"
   ]
  },
  {
   "cell_type": "markdown",
   "metadata": {},
   "source": [
    "#### ex 2\n",
    "    z的值如以下公式：\n",
    "        z=9(4/x+(9+x)/y),x=8,y=34\n"
   ]
  },
  {
   "cell_type": "code",
   "execution_count": 113,
   "metadata": {},
   "outputs": [
    {
     "name": "stdout",
     "output_type": "stream",
     "text": [
      "8 , 34 , 9.0\n",
      "3.0\n"
     ]
    }
   ],
   "source": [
    "x=8\n",
    "y=34\n",
    "z=9*(4/x+(9+x)/y)\n",
    "print(x,\",\",y,\",\",z)\n",
    "z/=3\n",
    "print(z)"
   ]
  },
  {
   "cell_type": "markdown",
   "metadata": {},
   "source": [
    "### 比較運算子"
   ]
  },
  {
   "cell_type": "code",
   "execution_count": 114,
   "metadata": {},
   "outputs": [
    {
     "name": "stdout",
     "output_type": "stream",
     "text": [
      "True\n",
      "False\n",
      "True\n",
      "False\n",
      "False\n",
      "True\n"
     ]
    }
   ],
   "source": [
    "a=20;b=10\n",
    "print(a>b)\n",
    "print(a<b)\n",
    "print(a>=b)\n",
    "print(a<=b)\n",
    "print(a==b)\n",
    "print(a!=b)"
   ]
  },
  {
   "cell_type": "markdown",
   "metadata": {},
   "source": [
    "### 邏輯運算子"
   ]
  },
  {
   "cell_type": "code",
   "execution_count": 115,
   "metadata": {},
   "outputs": [
    {
     "name": "stdout",
     "output_type": "stream",
     "text": [
      "False\n",
      "True\n",
      "True \n"
     ]
    }
   ],
   "source": [
    "num=15\n",
    "result1 = (num % 2 ==0) and (num % 3 ==0)\n",
    "result2 = (num % 2 ==0) or (num % 3 ==0)\n",
    "result3 = not(num % 2 ==0)\n",
    "print(result1)\n",
    "print(result2)\n",
    "print(result3,\"\")"
   ]
  },
  {
   "cell_type": "markdown",
   "metadata": {},
   "source": [
    "    result1：true and false -> false\n",
    "    result2：true or false -> true\n",
    "    result3：not(15無法被2整除) -> not(False) -> True"
   ]
  },
  {
   "cell_type": "markdown",
   "metadata": {},
   "source": [
    "#### Ex 3"
   ]
  },
  {
   "cell_type": "code",
   "execution_count": 140,
   "metadata": {},
   "outputs": [
    {
     "name": "stdout",
     "output_type": "stream",
     "text": [
      "True , True , True , True , True\n"
     ]
    }
   ],
   "source": [
    "x=2000\n",
    "y=2001\n",
    "z=2018\n",
    "result4 = (x % 4 == 0)\n",
    "result5 = not(y % 100 == 0)\n",
    "result6 = (z % 400 >= 0)\n",
    "result7 = (x % 4 == 0) and not(y % 100 == 0)\n",
    "result8 = (x % 4 == 0) or (z % 400 >= 0)\n",
    "print(result4,\",\",result5,\",\",result6,\",\",result7,\",\",result8)"
   ]
  },
  {
   "cell_type": "markdown",
   "metadata": {},
   "source": [
    "### 位元運算子"
   ]
  },
  {
   "cell_type": "code",
   "execution_count": 117,
   "metadata": {},
   "outputs": [
    {
     "name": "stdout",
     "output_type": "stream",
     "text": [
      "0b100\n",
      "0b1111\n",
      "0b1011\n",
      "-0b111\n",
      "0b11000\n",
      "0b1\n"
     ]
    }
   ],
   "source": [
    "b1=0b00000110\n",
    "b2=0b00001101\n",
    "print(bin(b1&b2))\n",
    "print(bin(b1|b2))\n",
    "print(bin(b1^b2))\n",
    "print(bin(~b1))\n",
    "print(bin(b1<<2))\n",
    "print(bin(b1>>2))\n"
   ]
  },
  {
   "cell_type": "markdown",
   "metadata": {},
   "source": [
    "# 字串"
   ]
  },
  {
   "cell_type": "code",
   "execution_count": 118,
   "metadata": {},
   "outputs": [
    {
     "data": {
      "text/plain": [
       "'1234'"
      ]
     },
     "execution_count": 118,
     "metadata": {},
     "output_type": "execute_result"
    }
   ],
   "source": [
    "end=''\n",
    "char='a'\n",
    "string1=\"Good Morning!!\"\n",
    "str()\n",
    "str(1234)"
   ]
  },
  {
   "cell_type": "markdown",
   "metadata": {},
   "source": [
    "### 資料型別轉換"
   ]
  },
  {
   "cell_type": "markdown",
   "metadata": {},
   "source": [
    "    • 不同資料型別所需要的記憶體空間不同\n",
    "    • 有些情況下Python會自動轉換\n",
    "        • 型別是bool和int時，以int為主\n",
    "        • 型別是int和float時，以float為主\n",
    "        • 型別是float和complex時，以complex為主\n",
    "    • 有些情況下需要寫程式的人轉換\n",
    "    int()\n",
    "    bool()\n",
    "    float()\n",
    "    str()"
   ]
  },
  {
   "cell_type": "markdown",
   "metadata": {},
   "source": [
    "### 小組討論"
   ]
  },
  {
   "cell_type": "code",
   "execution_count": 130,
   "metadata": {},
   "outputs": [
    {
     "name": "stdout",
     "output_type": "stream",
     "text": [
      "123 , <class 'str'>\n",
      "456 , <class 'int'>\n",
      "------------------\n",
      "579 , <class 'int'>\n",
      "123456 , <class 'str'>\n",
      "579.0 , <class 'float'>\n",
      "2 , <class 'int'>\n"
     ]
    }
   ],
   "source": [
    "d='123' #string\n",
    "e=456 #integer\n",
    "print(d,\",\",type(d))\n",
    "print(e,\",\",type(e))\n",
    "f=int(d)+int(e) #error\n",
    "print(\"------------------\")\n",
    "print(f,\",\",type(f))\n",
    "f1=str(d)+str(e)\n",
    "print(f1,\",\",type(f1))\n",
    "f2=float(d)+float(e)\n",
    "print(f2,\",\",type(f2))\n",
    "f3=bool(d)+bool(e)\n",
    "print(f3,\",\",type(f3))"
   ]
  },
  {
   "cell_type": "code",
   "execution_count": 2,
   "metadata": {},
   "outputs": [
    {
     "name": "stdout",
     "output_type": "stream",
     "text": [
      "請輸入一個西元年:22\n",
      "<class 'str'>\n",
      "<class 'int'>\n",
      "你所輸入的年份為西元 22 年\n",
      "你所輸入的年份為西元22年\n",
      "你所輸入的年份為西元\t22\t年\n",
      "你所輸入的年份為西元\n",
      "22\n",
      "年\n"
     ]
    }
   ],
   "source": [
    "years=input(\"請輸入一個西元年:\")\n",
    "print(type(years))\n",
    "year=int(years) #int(year)\n",
    "print(type(year))\n",
    "print(\"你所輸入的年份為西元\",year,\"年\")\n",
    "#print(\"你所輸入的年份為西元\"+year+\"年\")#該行要求字串\n",
    "print(\"你所輸入的年份為西元\"+years+\"年\")\n",
    "print(\"你所輸入的年份為西元\",year,\"年\",sep='\\t')\n",
    "print(\"你所輸入的年份為西元\",year,\"年\",sep='\\n')"
   ]
  },
  {
   "cell_type": "markdown",
   "metadata": {},
   "source": [
    "    • input,要求輸入變數,同時可自帶一段提示文字\n",
    "    • sep='\\t' ,在各變數間加空格\n",
    "    • sep='\\n' ,在各變數間換行"
   ]
  },
  {
   "cell_type": "markdown",
   "metadata": {},
   "source": [
    "#### Ex 4\n",
    "    • 攝氏(oC) 溫度轉換為華式(oF) 溫度的公式如下：\n",
    "        F=C*9/5+32\n",
    "    • 請寫一個程式，讓使用者輸入攝氏溫度後，等待使用者輸入攝氏溫度的提示語為：請輸入一個攝氏溫度：\n",
    "    • 程式將輸入的攝氏溫度轉為華氏溫度，並印出轉換後的華氏溫度，畫面印出的形式為：你所輸入的攝氏溫度xx 度，轉換為華氏溫度後為yy 度。\n",
    "    • xx: 代表輸入的值\n",
    "    • yy: 代表計算完後的華氏溫度的值"
   ]
  },
  {
   "cell_type": "code",
   "execution_count": 137,
   "metadata": {},
   "outputs": [
    {
     "name": "stdout",
     "output_type": "stream",
     "text": [
      "請輸入一個攝氏溫度：22\n",
      "你所輸入的攝氏溫度 22 度，轉換為華氏溫度後為 71.6 度\n"
     ]
    }
   ],
   "source": [
    "xx=input(\"請輸入一個攝氏溫度：\")\n",
    "xx=int(xx)\n",
    "yy=xx*9/5+32\n",
    "print(\"你所輸入的攝氏溫度\",xx,\"度，轉換為華氏溫度後為\",yy,\"度\")\n"
   ]
  },
  {
   "cell_type": "markdown",
   "metadata": {},
   "source": [
    "### <font color=#ffc512 size=4> 20190924 pm05:52 by huai"
   ]
  },
  {
   "cell_type": "code",
   "execution_count": null,
   "metadata": {},
   "outputs": [],
   "source": []
  }
 ],
 "metadata": {
  "kernelspec": {
   "display_name": "Python 3",
   "language": "python",
   "name": "python3"
  },
  "language_info": {
   "codemirror_mode": {
    "name": "ipython",
    "version": 3
   },
   "file_extension": ".py",
   "mimetype": "text/x-python",
   "name": "python",
   "nbconvert_exporter": "python",
   "pygments_lexer": "ipython3",
   "version": "3.6.5"
  }
 },
 "nbformat": 4,
 "nbformat_minor": 2
}
