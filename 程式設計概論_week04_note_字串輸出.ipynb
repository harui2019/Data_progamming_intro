{
 "cells": [
  {
   "cell_type": "markdown",
   "metadata": {},
   "source": [
    "# week 04 "
   ]
  },
  {
   "cell_type": "markdown",
   "metadata": {},
   "source": [
    "#### 小組討論"
   ]
  },
  {
   "cell_type": "code",
   "execution_count": 2,
   "metadata": {},
   "outputs": [
    {
     "name": "stdout",
     "output_type": "stream",
     "text": [
      "請輸入一個西元年:2019\n",
      "<class 'str'> years,the input\n",
      "<class 'int'> year,the int\n",
      "你所輸入的年份為西元 2019 年\n",
      "你所輸入的年份為西元2019年\n",
      "你所輸入的年份為西元\t2019\t年\n",
      "你所輸入的年份為西元\n",
      "2019\n",
      "年\n"
     ]
    }
   ],
   "source": [
    "years=input(\"請輸入一個西元年:\")\n",
    "print(type(years),\"years,the input\")\n",
    "year=int(years)\n",
    "print(type(year),\"year,the int\")\n",
    "print(\"你所輸入的年份為西元\",year,\"年\")\n",
    "#print(\"你所輸入的年份為西元\"+year+\"年\") #需用字串\n",
    "print(\"你所輸入的年份為西元\"+years+\"年\")\n",
    "print(\"你所輸入的年份為西元\",year,\"年\",sep='\\t') #sep 指定兩兩間隔\n",
    "print(\"你所輸入的年份為西元\",year,\"年\",sep='\\n') #sep 指定兩兩換行"
   ]
  },
  {
   "cell_type": "markdown",
   "metadata": {},
   "source": [
    "    1. 請問第(2) 行的程式碼執行時，為什麼會出現錯誤訊息? 可以如何修正此錯誤?\n",
    "    需用字串\n",
    "    \n",
    "    2. 請問第(1) 行和第(3) 行執行的結果有甚麼差別? 為什麼會有這樣的差別?\n",
    "    (1)間隔後連接\n",
    "    (3)串成更長字串\n",
    "    3. 請問第(4) 行和第(5) 行執行的結果有甚麼差別? 為什麼會有這樣的差別?\n",
    "    \n",
    "    "
   ]
  },
  {
   "cell_type": "markdown",
   "metadata": {},
   "source": [
    "## 字串"
   ]
  },
  {
   "cell_type": "markdown",
   "metadata": {},
   "source": [
    "### 字串內建函數\n",
    "#### section 1\n",
    "    ord(‘a’) \n",
    "    ord(‘A’)\n",
    "    chr(36)\n",
    "    + 連接字串\n",
    "    * 重複輸入\n",
    "    +=\n",
    "    *="
   ]
  },
  {
   "cell_type": "code",
   "execution_count": 3,
   "metadata": {},
   "outputs": [
    {
     "name": "stdout",
     "output_type": "stream",
     "text": [
      "97\n",
      "65\n",
      "$\n"
     ]
    }
   ],
   "source": [
    "print(ord('a'))\n",
    "print(ord('A'))\n",
    "print(chr(36))"
   ]
  },
  {
   "cell_type": "markdown",
   "metadata": {},
   "source": [
    "### 字串的切片運算\n",
    "#### section 3\n",
    "    string G o o d (space) a f t e r n o o n !\n",
    "    index 0 1 2 3 4 5 6 7 8 9 10 11 12 13 14"
   ]
  },
  {
   "cell_type": "code",
   "execution_count": 14,
   "metadata": {},
   "outputs": [
    {
     "name": "stdout",
     "output_type": "stream",
     "text": [
      " 0 is G\n",
      " 1 is o\n",
      " 2 is o\n",
      " 3 is d\n",
      " 4 is  \n",
      " 5 is a\n",
      " 6 is f\n",
      " 7 is t\n",
      " 8 is e\n",
      " 9 is r\n",
      "10 is n\n",
      "11 is o\n",
      "12 is o\n",
      "13 is n\n",
      "14 is !\n"
     ]
    }
   ],
   "source": [
    "greet =\"Good afternoon!\"\n",
    "for i in range(len(greet)):\n",
    "    print(str(i).rjust(2,' '),\"is\",greet[i])"
   ]
  },
  {
   "cell_type": "code",
   "execution_count": 17,
   "metadata": {},
   "outputs": [
    {
     "name": "stdout",
     "output_type": "stream",
     "text": [
      "(1) greet[index]------------- d\n",
      "(2) greet[start:end]--------- od \n",
      "(3) greet[start:]------------ afternoon!\n",
      "(4) greet[:end]-------------- Good after\n",
      "(5) greet[:]----------------- Good afternoon!\n",
      "(6) greet[::-1]-------------- !noonretfa dooG\n",
      "(7) greet[start:end:step]---- o feno\n",
      "(8) greet[-index]------------ o\n"
     ]
    }
   ],
   "source": [
    "greet =\"Good afternoon!\"\n",
    "\n",
    "print(\"(1)\",\"greet[index]\".ljust(25,\"-\"),greet[3])\n",
    "print(\"(2)\",\"greet[start:end]\".ljust(25,\"-\"),greet[2:5])\n",
    "print(\"(3)\",\"greet[start:]\".ljust(25,\"-\"),greet[5:])\n",
    "print(\"(4)\",\"greet[:end]\".ljust(25,\"-\"),greet[:10])\n",
    "print(\"(5)\",\"greet[:]\".ljust(25,\"-\"),greet[:])\n",
    "print(\"(6)\",\"greet[::-1]\".ljust(25,\"-\"),greet[::-1])\n",
    "print(\"(7)\",\"greet[start:end:step]\".ljust(25,\"-\"),greet[2:13:2])\n",
    "print(\"(8)\",\"greet[-index]\".ljust(25,\"-\"),greet[-3])"
   ]
  },
  {
   "cell_type": "markdown",
   "metadata": {},
   "source": [
    "### 脫逸字元(ESCAPE)\n",
    "#### section 4\n",
    "    \\n 換行\n",
    "    \\’ 單引號\n",
    "    \\t Tab鍵\n",
    "    \\” 雙引號\n",
    "    \\\\ 倒斜線"
   ]
  },
  {
   "cell_type": "code",
   "execution_count": 11,
   "metadata": {},
   "outputs": [
    {
     "name": "stdout",
     "output_type": "stream",
     "text": [
      "印出一個字串\n",
      "印出的字串中有\"雙引號\"\n",
      "印出的字串中有'單引號'\n",
      "印出的字串中有\\倒斜線\n",
      "印出\n",
      "換新行\n",
      "印出\t Tab\n",
      "印出前面有r的字串\\n\n"
     ]
    }
   ],
   "source": [
    "print(\"印出一個字串\")\n",
    "print(\"印出的字串中有\\\"雙引號\\\"\")\n",
    "print(\"印出的字串中有\\'單引號\\'\")\n",
    "print(\"印出的字串中有\\\\倒斜線\")\n",
    "print(\"印出\\n換新行\")\n",
    "print(\"印出\\t Tab\")\n",
    "print(r\"印出前面有r的字串\\n\")"
   ]
  },
  {
   "cell_type": "markdown",
   "metadata": {},
   "source": [
    "### 字串常用函數\n",
    "#### section 5\n",
    "\n",
    "#### len()\n",
    "    測量字串長度"
   ]
  },
  {
   "cell_type": "code",
   "execution_count": 21,
   "metadata": {},
   "outputs": [
    {
     "name": "stdout",
     "output_type": "stream",
     "text": [
      "5\n",
      "15\n"
     ]
    }
   ],
   "source": [
    "print(len('Maria'))\n",
    "print(len(greet))"
   ]
  },
  {
   "cell_type": "markdown",
   "metadata": {},
   "source": [
    "#### find()\n",
    "##### str_name.find(要找的特定字元)\n",
    "    如果有找到的話，會傳回該特定字元在字串中的索引值(自第幾格開始)\n",
    "    若沒找到會回傳-1"
   ]
  },
  {
   "cell_type": "code",
   "execution_count": 17,
   "metadata": {},
   "outputs": [
    {
     "name": "stdout",
     "output_type": "stream",
     "text": [
      "6\n",
      "-1\n",
      "-1\n"
     ]
    }
   ],
   "source": [
    "msg='Happy Halloween'\n",
    "print(msg.find('Hall'))\n",
    "print(msg.find('mouse'))\n",
    "print(msg.find('hall'))"
   ]
  },
  {
   "cell_type": "markdown",
   "metadata": {},
   "source": [
    "#### index() \n",
    "##### str_name.index(要找的特定字元)\n",
    "    如果有找到的話，會傳回該特定字元在字串中的索引值(自第幾格開始)\n",
    "    若沒找到會直接錯誤"
   ]
  },
  {
   "cell_type": "code",
   "execution_count": 18,
   "metadata": {},
   "outputs": [
    {
     "name": "stdout",
     "output_type": "stream",
     "text": [
      "6\n"
     ]
    },
    {
     "ename": "ValueError",
     "evalue": "substring not found",
     "output_type": "error",
     "traceback": [
      "\u001b[1;31m---------------------------------------------------------------------------\u001b[0m",
      "\u001b[1;31mValueError\u001b[0m                                Traceback (most recent call last)",
      "\u001b[1;32m<ipython-input-18-1904f037554a>\u001b[0m in \u001b[0;36m<module>\u001b[1;34m()\u001b[0m\n\u001b[0;32m      1\u001b[0m \u001b[0mprint\u001b[0m\u001b[1;33m(\u001b[0m\u001b[0mmsg\u001b[0m\u001b[1;33m.\u001b[0m\u001b[0mindex\u001b[0m\u001b[1;33m(\u001b[0m\u001b[1;34m'Hall'\u001b[0m\u001b[1;33m)\u001b[0m\u001b[1;33m)\u001b[0m\u001b[1;33m\u001b[0m\u001b[0m\n\u001b[1;32m----> 2\u001b[1;33m \u001b[0mprint\u001b[0m\u001b[1;33m(\u001b[0m\u001b[0mmsg\u001b[0m\u001b[1;33m.\u001b[0m\u001b[0mindex\u001b[0m\u001b[1;33m(\u001b[0m\u001b[1;34m'mouse'\u001b[0m\u001b[1;33m)\u001b[0m\u001b[1;33m)\u001b[0m\u001b[1;33m\u001b[0m\u001b[0m\n\u001b[0m\u001b[0;32m      3\u001b[0m \u001b[0mprint\u001b[0m\u001b[1;33m(\u001b[0m\u001b[0mmsg\u001b[0m\u001b[1;33m.\u001b[0m\u001b[0mindex\u001b[0m\u001b[1;33m(\u001b[0m\u001b[1;34m'hall'\u001b[0m\u001b[1;33m)\u001b[0m\u001b[1;33m)\u001b[0m\u001b[1;33m\u001b[0m\u001b[0m\n",
      "\u001b[1;31mValueError\u001b[0m: substring not found"
     ]
    }
   ],
   "source": [
    "print(msg.index('Hall'))\n",
    "print(msg.index('mouse'))\n",
    "print(msg.index('hall'))"
   ]
  },
  {
   "cell_type": "markdown",
   "metadata": {},
   "source": [
    "#### count()\n",
    "    str_name.count(字串)\n",
    "    計算字串出現的次數"
   ]
  },
  {
   "cell_type": "code",
   "execution_count": 19,
   "metadata": {},
   "outputs": [
    {
     "name": "stdout",
     "output_type": "stream",
     "text": [
      "3\n"
     ]
    }
   ],
   "source": [
    "msg1='app, apple, pineapple'\n",
    "print(msg1.count('app'))"
   ]
  },
  {
   "cell_type": "markdown",
   "metadata": {},
   "source": [
    "#### replace()\n",
    "##### str_name.replace(舊字串,新字串)\n",
    "    作用用新字串來取代舊字串"
   ]
  },
  {
   "cell_type": "code",
   "execution_count": 20,
   "metadata": {},
   "outputs": [
    {
     "name": "stdout",
     "output_type": "stream",
     "text": [
      "Happy Thanksgiving\n"
     ]
    }
   ],
   "source": [
    "print(msg.replace('Halloween','Thanksgiving'))\n",
    "msg2='Merry Christmas'"
   ]
  },
  {
   "cell_type": "markdown",
   "metadata": {},
   "source": [
    "#### startswith()\n",
    "##### str_name.startswith(字串)\n",
    "    判斷str_name的開頭是否為某個字串，如果是，會傳回True；如果不是，會傳回False"
   ]
  },
  {
   "cell_type": "code",
   "execution_count": 22,
   "metadata": {},
   "outputs": [
    {
     "name": "stdout",
     "output_type": "stream",
     "text": [
      "False\n"
     ]
    }
   ],
   "source": [
    "print(msg2.startswith('Happy'))"
   ]
  },
  {
   "cell_type": "markdown",
   "metadata": {},
   "source": [
    "### 【實作練習】1\n",
    "    word=‘There are two optional keyword-only arguments’\n",
    "1. 請用字串切片的方式，印出arguments\n",
    "2. 請用字串切片的方式，印出two optional\n",
    "3. 請用字串切片的方式，印出ra opoleo-lau\n",
    "4. 印出字串word的長度\n",
    "5. 印出字串word中，第一次出現’re’的索引值\n",
    "6. 印出字串word中，’re’出現的次數\n",
    "7. 將字串word中的‘two’ 替換為‘three’，並將替換後新產生的字串印出來"
   ]
  },
  {
   "cell_type": "code",
   "execution_count": 34,
   "metadata": {},
   "outputs": [
    {
     "name": "stdout",
     "output_type": "stream",
     "text": [
      "(1) arguments\n",
      "(2) two optional\n",
      "(3) ra opoleo-lau\n",
      "(4) 45\n",
      "(5) 3\n",
      "(6) 2\n",
      "(7) There are three optional keyword-only arguments\n"
     ]
    }
   ],
   "source": [
    "word=\"There are two optional keyword-only arguments\"\n",
    "a=word.find('arguments')\n",
    "print(\"(1)\",word[a:])\n",
    "\n",
    "b1=word.find('two optional')\n",
    "b2=len('two optional')\n",
    "print(\"(2)\",word[b1:b1+b2])\n",
    "\n",
    "cd=len(word)\n",
    "print(\"(3)\",word[3:cd-3:3])\n",
    "print(\"(4)\",cd)\n",
    "\n",
    "print(\"(5)\",word.find('re'))\n",
    "\n",
    "print(\"(6)\",word.count('re'))\n",
    "\n",
    "print(\"(7)\",word.replace('two','three'))"
   ]
  },
  {
   "cell_type": "markdown",
   "metadata": {},
   "source": [
    "### 【小組活動】\n",
    "    將字串與大小寫有關和與對齊格式有關的方法依函數、作用和範例的格式(且在後面附加資料來源的網址)，分組整理寫在moodle的共筆整理區，每人選兩個。\n",
    "    共筆整理完後，小組聚在一起，每人將自己所整理的資料，口頭與組員們分享。"
   ]
  },
  {
   "cell_type": "markdown",
   "metadata": {},
   "source": [
    "#### rjust()\n",
    "##### string.rjust(length, character)\n",
    "    透過輸入一個指定符號(character)，將字串用這個符號從頭不斷加上，直到新字串達到指定長度(length)"
   ]
  },
  {
   "cell_type": "code",
   "execution_count": 111,
   "metadata": {},
   "outputs": [
    {
     "name": "stdout",
     "output_type": "stream",
     "text": [
      "<class 'str'>\n",
      "AAAAAAAAAAAAAAbanana\n",
      "6是舊函數長度,20即是新函數長度\n"
     ]
    }
   ],
   "source": [
    "txt = \"banana\"\n",
    "print(type(txt))\n",
    "x = txt.rjust(20,\"A\")\n",
    "print(x)\n",
    "print(str(len(txt))+\"是舊函數長度,\"+str(len(x))+\"即是新函數長度\")"
   ]
  },
  {
   "cell_type": "markdown",
   "metadata": {},
   "source": [
    "    資料來源：https://www.w3schools.com/python/ref_string_rjust.asp"
   ]
  },
  {
   "cell_type": "markdown",
   "metadata": {},
   "source": [
    "### 格式化字串\n",
    "    print(“…輸出格式區…” % (資料區, ….))\n",
    "    輸出格式：% 旗標+寬度.精準度+轉換指定型式\n",
    "    \n",
    "    d 以十進位輸出資料\n",
    "    f 以十進位的方式輸出浮點數\n",
    "    e, E 以科學記號的方式輸出浮點數\n",
    "    x, X 將整數以16進位輸出\n",
    "    o, O 將整數以8進位輸出\n",
    "    s 輸出字串"
   ]
  },
  {
   "cell_type": "markdown",
   "metadata": {},
   "source": [
    "### 旗標\n",
    "    \n",
    "    0 數值前補0\n",
    "    - 靠左對齊\n",
    "    \n",
    "    範例：\n",
    "     • %04d：印出4位數寬度的整數，數字前方有空格時補0(0是旗標,4是寬度)\n",
    "     • %.4f：印出有四位小數的浮點數\n",
    "     • %10s：印出寬度為10的字串，向右對齊\n",
    "     • %-10s：印出寬度為10的字串，向左對齊(-是旗標,10是寬度)\n",
    "    "
   ]
  },
  {
   "cell_type": "code",
   "execution_count": 63,
   "metadata": {},
   "outputs": [
    {
     "name": "stdout",
     "output_type": "stream",
     "text": [
      "==================================================\n",
      "王曉明，你好。你的第2次數學考試成績是92.100000分\n",
      "第0002次考試\n",
      "考試成績是92.1000\n",
      "學生姓名是:       王曉明\n"
     ]
    }
   ],
   "source": [
    "print(\"=\"*50)\n",
    "format_str1 = \"{0:s}，你好。你的第{1:d}次數學考試成績是{2:f}分\"\n",
    "print(format_str1.format(name, count, score))\n",
    "print(\"第{0:04d}次考試\".format(count))\n",
    "print(\"考試成績是{0:.4f}\".format(score))\n",
    "print(\"學生姓名是:{0:>10s}\".format(name))"
   ]
  },
  {
   "cell_type": "markdown",
   "metadata": {},
   "source": [
    "#### str.format()\n",
    "    範例：\n",
    "    {0: 11s}\n",
    "    {1: .2f}\n",
    "    {0: {旗標+寬度.精準度+轉換指定型式}}\n",
    "    \n",
    "    旗標   說明\n",
    "    0   數值前補0\n",
    "    >   向右對齊\n",
    "    <   向左對齊"
   ]
  },
  {
   "cell_type": "code",
   "execution_count": 62,
   "metadata": {},
   "outputs": [
    {
     "name": "stdout",
     "output_type": "stream",
     "text": [
      "==================================================\n",
      "王曉明，你好。你的第2次數學考試成績是92.100000分\n",
      "第0002次考試\n",
      "考試成績是92.1000\n",
      "學生姓名是:       王曉明\n",
      "學生姓名是:王曉明       \n",
      "第2   次考試\n"
     ]
    }
   ],
   "source": [
    "print(\"=\"*50)\n",
    "name=\"王曉明\"\n",
    "count=2\n",
    "score=92.1\n",
    "format_str = \"%s，你好。你的第%d次數學考試成績是%f分\"\n",
    "print(format_str % (name, count, score))\n",
    "print(\"第%04d次考試\"%(count))\n",
    "print(\"考試成績是%.4f\"%(score))\n",
    "print(\"學生姓名是:%10s\"%(name))\n",
    "print(\"學生姓名是:%-10s\"%(name))\n",
    "print(\"第%-4d次考試\"%(count))"
   ]
  },
  {
   "cell_type": "code",
   "execution_count": 64,
   "metadata": {},
   "outputs": [
    {
     "name": "stdout",
     "output_type": "stream",
     "text": [
      "==================================================\n",
      "12345678901234567890123456789012345678901234567890\n",
      "靠左對齊      \n",
      "      靠右對齊\n",
      "靠左對齊            靠右對齊\n",
      "12345678901234567890123456789012345678901234567890\n",
      "left      \n",
      "     right\n",
      "left           right\n",
      "12345678901234567890123456789012345678901234567890\n",
      "靠左對齊      \n",
      "      靠右對齊\n",
      "靠左對齊            靠右對齊\n"
     ]
    }
   ],
   "source": [
    "print(\"=\"*50)\n",
    "print(\"1234567890\"*5)\n",
    "print(\"%-10s\"%(\"靠左對齊\"))\n",
    "print(\"%10s\"%(\"靠右對齊\"))\n",
    "print(\"%-10s%10s\"%(\"靠左對齊\",\"靠右對齊\"))\n",
    "print(\"1234567890\"*5)\n",
    "print(\"%-10s\"%(\"left\"))\n",
    "print(\"%10s\"%(\"right\"))\n",
    "print(\"%-10s%10s\"%(\"left\",\"right\"))\n",
    "print(\"1234567890\"*5)\n",
    "print(\"{0:<10s}\".format(\"靠左對齊\"))\n",
    "print(\"{0:>10s}\".format(\"靠右對齊\"))\n",
    "print(\"{0:<10s}{1:>10s}\".format(\"靠左對齊\",\"靠右對齊\"))"
   ]
  },
  {
   "cell_type": "markdown",
   "metadata": {},
   "source": [
    "### 【實作練習】2\n",
    "    有三位學生的原始成績資料如下：\n",
    "    Mary : 68.789\n",
    "    Tomas: 74.6752\n",
    "    William: 85\n",
    "    請將三位學生的成績如下方的格式印出：\n",
    "    =============================\n",
    "    學生姓名(靠右)   分數(靠左)\n",
    "    ---------------------------------------------------------------------\n",
    "    Mary 68.79\n",
    "    Tomas 74.68\n",
    "    William 85.00\n",
    "    • 寫完程式後，將檔名存為week04_ex2_你的學號.py，上傳到moodle的【程式碼上傳區】"
   ]
  },
  {
   "cell_type": "code",
   "execution_count": 18,
   "metadata": {},
   "outputs": [
    {
     "name": "stdout",
     "output_type": "stream",
     "text": [
      "==============================\n",
      "學生姓名                   分數\n",
      "------------------------------\n",
      "Mary                 21\n",
      "Tomas                75\n",
      "William              85\n"
     ]
    }
   ],
   "source": [
    "Mary = 68.79\n",
    "Tomas = 74.68\n",
    "William = 85.00\n",
    "print(\"=\"*30)\n",
    "print(\"{0:<21s}{1:>4s}\".format(\"學生姓名\",\"分數\"))\n",
    "print(\"-\"*30)\n",
    "print(\"{0:<21s}{1:>0d}\".format(\"Mary\".ljust(21,\" \"),21))\n",
    "print(\"{0:<21s}{1:>.0f}\".format(\"Tomas\".ljust(21,\" \"),Tomas))\n",
    "print(\"{0:<21s}{1:>.0f}\".format(\"William\".ljust(21,\" \"),William))"
   ]
  },
  {
   "cell_type": "code",
   "execution_count": 19,
   "metadata": {},
   "outputs": [],
   "source": [
    "    ref = {0: '不要亂打~好嗎~(๑¯ω¯๑)',\n",
    "           1: '不要亂輸啦(╬ﾟдﾟ)'}"
   ]
  },
  {
   "cell_type": "code",
   "execution_count": 20,
   "metadata": {},
   "outputs": [
    {
     "name": "stdout",
     "output_type": "stream",
     "text": [
      "<class 'dict'>\n"
     ]
    }
   ],
   "source": [
    "print(type(ref))"
   ]
  },
  {
   "cell_type": "code",
   "execution_count": 21,
   "metadata": {},
   "outputs": [
    {
     "name": "stdout",
     "output_type": "stream",
     "text": [
      "yes yes yes\n"
     ]
    }
   ],
   "source": [
    "if type(ref) == dict:\n",
    "    print(\"yes yes yes\")"
   ]
  },
  {
   "cell_type": "code",
   "execution_count": 51,
   "metadata": {},
   "outputs": [
    {
     "data": {
      "text/plain": [
       "{0: '不要亂打~好嗎~(๑¯ω¯๑)', 1: '不要亂輸啦(╬ﾟдﾟ)', 3: '333'}"
      ]
     },
     "execution_count": 51,
     "metadata": {},
     "output_type": "execute_result"
    }
   ],
   "source": [
    "ref"
   ]
  },
  {
   "cell_type": "code",
   "execution_count": 37,
   "metadata": {},
   "outputs": [
    {
     "data": {
      "text/plain": [
       "[0, 1]"
      ]
     },
     "execution_count": 37,
     "metadata": {},
     "output_type": "execute_result"
    }
   ],
   "source": [
    "list(ref.keys())"
   ]
  },
  {
   "cell_type": "code",
   "execution_count": 38,
   "metadata": {},
   "outputs": [
    {
     "data": {
      "text/plain": [
       "dict_values(['不要亂打~好嗎~(๑¯ω¯๑)', '不要亂輸啦(╬ﾟдﾟ)'])"
      ]
     },
     "execution_count": 38,
     "metadata": {},
     "output_type": "execute_result"
    }
   ],
   "source": [
    "ref.values()"
   ]
  },
  {
   "cell_type": "code",
   "execution_count": 50,
   "metadata": {},
   "outputs": [],
   "source": [
    "ref[3] = \"333\""
   ]
  },
  {
   "cell_type": "code",
   "execution_count": 53,
   "metadata": {},
   "outputs": [
    {
     "name": "stdout",
     "output_type": "stream",
     "text": [
      "0\n",
      "1\n",
      "2\n"
     ]
    }
   ],
   "source": [
    "for i in range(len(ref)): print(i)"
   ]
  },
  {
   "cell_type": "code",
   "execution_count": null,
   "metadata": {},
   "outputs": [],
   "source": []
  }
 ],
 "metadata": {
  "kernelspec": {
   "display_name": "Python 3",
   "language": "python",
   "name": "python3"
  },
  "language_info": {
   "codemirror_mode": {
    "name": "ipython",
    "version": 3
   },
   "file_extension": ".py",
   "mimetype": "text/x-python",
   "name": "python",
   "nbconvert_exporter": "python",
   "pygments_lexer": "ipython3",
   "version": "3.6.9"
  }
 },
 "nbformat": 4,
 "nbformat_minor": 2
}
