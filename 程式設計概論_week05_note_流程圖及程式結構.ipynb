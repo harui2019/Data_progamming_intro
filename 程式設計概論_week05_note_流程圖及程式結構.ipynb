{
 "cells": [
  {
   "cell_type": "markdown",
   "metadata": {},
   "source": [
    "# week05"
   ]
  },
  {
   "cell_type": "markdown",
   "metadata": {},
   "source": [
    "## 流程圖及程式結構 "
   ]
  },
  {
   "cell_type": "markdown",
   "metadata": {},
   "source": [
    "#### demo1"
   ]
  },
  {
   "cell_type": "code",
   "execution_count": 3,
   "metadata": {},
   "outputs": [
    {
     "name": "stdout",
     "output_type": "stream",
     "text": [
      "請輸入一個10進位整數:62\n",
      "十進位數字 62 轉換為二進位為: 111110\n"
     ]
    }
   ],
   "source": [
    "nums=input(\"請輸入一個10進位整數:\")\n",
    "num=int(nums)\n",
    "bins=''   #存放二進位轉換結果\n",
    "n = num   #n:商數\n",
    "\n",
    "while n>1:\n",
    "    bins+=str(n%2)\n",
    "    n//=2\n",
    "    \n",
    "bins+=str(n) #最後一次除完商數是1時，這個1也要加入到二進位轉換的結果中\n",
    "\n",
    "print(\"十進位數字\",num, \"轉換為二進位為:\",bins[::-1])\n"
   ]
  },
  {
   "cell_type": "code",
   "execution_count": null,
   "metadata": {},
   "outputs": [],
   "source": [
    "day=0\n"
   ]
  },
  {
   "cell_type": "markdown",
   "metadata": {},
   "source": [
    "<font size=\"3\" face=\"Microsoft YaHei Light\">\n",
    "請輸入未來之日期（ex格式:1123)，並設計出程式判斷距離今日(ex格式:1008）之日數。 \n",
    "<br>\n",
    "<br>（例如：今天是10/8，小明跟阿朱預計在11/23（阿朱生日）一起吃飯，但小明不想痴痴地等，請幫小明設計出程式幫他計算出正確的倒數日數，讓他可以知道自己還有多少天可以準備。）"
   ]
  },
  {
   "cell_type": "code",
   "execution_count": 2,
   "metadata": {},
   "outputs": [],
   "source": [
    "monthday=\"31 28 31 30 31 30 31 31 30 31 30 31 \"\n"
   ]
  },
  {
   "cell_type": "code",
   "execution_count": null,
   "metadata": {},
   "outputs": [],
   "source": [
    "m=14\n",
    "n=3*(m-1)\n",
    "monthday[n:n+2]\n",
    "print(\"month=\"+str(m),\"day=\"+str(monthday[n:n+2]))"
   ]
  },
  {
   "cell_type": "code",
   "execution_count": null,
   "metadata": {},
   "outputs": [],
   "source": [
    "monthday=\"31 28 31 30 31 30 31 31 30 31 30 31 \"\n",
    "today=\"1008\"\n",
    "targetday=input(\"請輸入要查詢的日期(格式:1123，2位數月份+2位數日期)\")\n",
    "\n",
    "#沒有google，我們還有baidu啊(X\n",
    "#沒有list，我們還有string啊(O\n",
    "\n",
    "while(True):\n",
    "    m1=int(today[0:2]);m11=0\n",
    "    n1=0\n",
    "    d1=int(today[2:4])\n",
    "    dayth1=0\n",
    "\n",
    "    m2=int(targetday[0:2]);m22=0\n",
    "    n2=0\n",
    "    d2=int(targetday[2:4])\n",
    "    dayth2=0   \n",
    "    if (m2<=12):\n",
    "        if (d2<=int(monthday[n2:n2+2])):\n",
    "            m11=m1\n",
    "            m22=m2\n",
    "            while (m22>0):\n",
    "                #print(m2)\n",
    "                m22-=1\n",
    "                n2=3*(m22-1)\n",
    "                dayth2+=int(monthday[n2:n2+2])\n",
    "            while (m11>0):\n",
    "                #print(m1)\n",
    "                m11-=1\n",
    "                n1=3*(m11-1)\n",
    "                dayth1+=int(monthday[n1:n1+2])\n",
    "            dayth1=dayth1+d1  \n",
    "            dayth2=dayth2+d2\n",
    "            print(dayth1)\n",
    "            print(dayth2)\n",
    "            print(\"今天是\"+str(m1)+\"/\"+str(d1)+\"離所輸入的日子\"+str(m2)+\"/\"+str(d2)+\"還有\"+str(dayth2-dayth1)+\"天\")\n",
    "            break\n",
    "        else:        \n",
    "            targetday=input(\"請重新輸入要查詢的日期(格式:1123，2位數月份+2位數日期)\")\n",
    "    else:\n",
    "        targetday=input(\"請重新輸入要查詢的日期(格式:1123，2位數月份+2位數日期)\")\n",
    "    \n",
    "\n"
   ]
  },
  {
   "cell_type": "code",
   "execution_count": 3,
   "metadata": {},
   "outputs": [
    {
     "name": "stdout",
     "output_type": "stream",
     "text": [
      "1011\n"
     ]
    }
   ],
   "source": [
    "import time as t\n",
    "today=t.strftime(\"%m%d\",t.localtime())\n",
    "print(today)"
   ]
  },
  {
   "cell_type": "markdown",
   "metadata": {},
   "source": [
    "### Full Function"
   ]
  },
  {
   "cell_type": "code",
   "execution_count": null,
   "metadata": {},
   "outputs": [],
   "source": [
    "monthday=\"31 28 31 30 31 30 31 31 30 31 30 31 \"\n",
    "today=\"1008\"\n",
    "import time as t\n",
    "today=t.strftime(\"%m%d\",t.localtime())\n",
    "targetday=input(\"請輸入要查詢的日期(格式:1123，2位數月份+2位數日期)\")\n",
    "\n",
    "#沒有google，我們還有baidu啊(X\n",
    "#沒有list，我們還有string啊(O\n",
    "\n",
    "while(True):\n",
    "    m1=int(today[0:2]);m11=0\n",
    "    n1=0\n",
    "    d1=int(today[2:4])\n",
    "    dayth1=0\n",
    "\n",
    "    m2=int(targetday[0:2]);m22=0\n",
    "    n2=0\n",
    "    d2=int(targetday[2:4])\n",
    "    dayth2=0\n",
    "    if (m2<=12 and m2>0):\n",
    "        if (d2<=int(monthday[n2:n2+2]) and d2>0):\n",
    "            m11=m1\n",
    "            m22=m2\n",
    "            while (m22>0):\n",
    "                #print(m22)\n",
    "                m22-=1\n",
    "                n2=3*(m22-1)\n",
    "                dayth2+=int(monthday[n2:n2+2])\n",
    "            while (m11>0):\n",
    "                #print(m11)\n",
    "                m11-=1\n",
    "                n1=3*(m11-1)\n",
    "                dayth1+=int(monthday[n1:n1+2])\n",
    "            dayth1=dayth1+d1  \n",
    "            dayth2=dayth2+d2\n",
    "            #print(dayth1)\n",
    "            #print(dayth2)\n",
    "            if(dayth2-dayth1<0):\n",
    "                targetday=input(\"輸入不能為過去日期(格式:1123，2位數月份+2位數日期)\")\n",
    "            else:\n",
    "                print(\"今天是\"+str(m1)+\"/\"+str(d1)+\"離所輸入的日子\"+str(m2)+\"/\"+str(d2)+\"還有\"+str(dayth2-dayth1)+\"天\")\n",
    "                break\n",
    "        else:        \n",
    "            targetday=input(\"請重新輸入要查詢的日期(格式:1123，2位數月份+2位數日期)\")\n",
    "    else:\n",
    "        targetday=input(\"請重新輸入要查詢的日期(格式:1123，2位數月份+2位數日期)\")"
   ]
  },
  {
   "cell_type": "markdown",
   "metadata": {},
   "source": [
    "### Very-very Simple"
   ]
  },
  {
   "cell_type": "code",
   "execution_count": 6,
   "metadata": {},
   "outputs": [
    {
     "name": "stdout",
     "output_type": "stream",
     "text": [
      "請輸入要查詢的日期(格式:1123，2位數月份+2位數日期)1214\n",
      "今天是10/8離所輸入的日子12/14還有67天\n"
     ]
    }
   ],
   "source": [
    "monthday=\"31 28 31 30 31 30 31 31 30 31 30 31 \"\n",
    "today=\"1008\"\n",
    "targetday=input(\"請輸入要查詢的日期(格式:1123，2位數月份+2位數日期)\")\n",
    "\n",
    "#沒有google，我們還有baidu啊(X\n",
    "#沒有list，我們還有string啊(O\n",
    "#106701011\n",
    "\n",
    "m1=int(today[0:2]);m11=0;n1=0\n",
    "d1=int(today[2:4])\n",
    "dayth1=0\n",
    "\n",
    "m2=int(targetday[0:2]);m22=0;n2=0\n",
    "d2=int(targetday[2:4])\n",
    "dayth2=0\n",
    "\n",
    "out=0\n",
    "\n",
    "if (m2<=12 and m2>0):\n",
    "    if (d2<=int(monthday[n2:n2+2]) and d2>0):\n",
    "        m11=m1\n",
    "        m22=m2\n",
    "        while (m22>0):\n",
    "            #print(m22)\n",
    "            m22-=1\n",
    "            n2=3*(m22-1)\n",
    "            dayth2+=int(monthday[n2:n2+2])\n",
    "        while (m11>0):\n",
    "            #print(m11)\n",
    "            m11-=1\n",
    "            n1=3*(m11-1)\n",
    "            dayth1+=int(monthday[n1:n1+2])\n",
    "        dayth1=dayth1+d1  \n",
    "        dayth2=dayth2+d2\n",
    "        out=dayth2-dayth1\n",
    "        if(out<0):\n",
    "            print(\"輸入不能為過去日期\")\n",
    "        else:\n",
    "            print(\"今天是\"+str(m1)+\"/\"+str(d1)+\"離所輸入的日子\"+str(m2)+\"/\"+str(d2)+\"還有\"+str(out)+\"天\")\n",
    "    else:        \n",
    "        print(\"輸入格式錯誤\")\n",
    "else:\n",
    "    print(\"輸入格式錯誤\")"
   ]
  },
  {
   "cell_type": "markdown",
   "metadata": {},
   "source": [
    "<hr size=\"6\" align=\"center\" noshade width=\"100%\">\n",
    "<font size=\"5\" face=\"Microsoft YaHei Light\"><b>題目：星座、生命密碼查詢</b></font>\n",
    "<font size=\"3\" face=\"Microsoft YaHei Light\"><br><br>\n",
    "每個星座有對應的日期範圍，而生命密碼的計算是年月日每個位數相加，如果得出的是二位數，此兩數再相加（如仍是二位數就再相加），直到成為個位數字。(例如1999/08/26，生命靈數即為1+9+9+9+0+8+2+6=44，4+4=8)。因為大多數的人除了自己星座以外，不清楚其他星座對應的月份。\n",
    "\n",
    "希望有一筆程式可以讓人快速查詢朋友或暗戀對象的星座，進而去查詢該星座的特性。而生命密碼亦是如此。\n",
    "\n",
    "請運用python來計算寫一支程式能讓使用者輸入他的出生年月日（西元），然後回傳給使用者他的星座及生命密碼。\n",
    "\n",
    "牡羊　3/21～4/19\n",
    "\n",
    "金牛　4/20～5/20\n",
    "\n",
    "雙子　5/21～6/20\n",
    "\n",
    "巨蟹　6/21～7/22\n",
    "\n",
    "獅子　7/23～8/22\n",
    "\n",
    "處女　8/23～9/22\n",
    "\n",
    "天秤　9/23～10/22\n",
    "\n",
    "天蠍　10/23～11/21\n",
    "\n",
    "射手　11/22～12/21\n",
    "\n",
    "魔羯　12/22～1/19\n",
    "\n",
    "水瓶　1/20～2/18\n",
    "\n",
    "雙魚　2/19～3/20\n",
    "\n",
    "＊小知識，生命密碼代表甚麼意義呢？一起來看看吧！\n",
    "\n",
    "數字1：獨立、自信、自負、自我\n",
    "\n",
    "數字2：溝通、合作、溫柔、猶豫不決\n",
    "\n",
    "數字3：行動力、快速、衝動\n",
    "\n",
    "數字4：做事有條理、穩定、保守、直接、死板\n",
    "\n",
    "數字5：有目標、幽默、喜歡多采多姿的生活、固執\n",
    "\n",
    "數字6：有遠見、智慧、追求完美、浪費\n",
    "\n",
    "數字7：博學、學習力強、拖延、冷漠\n",
    "\n",
    "數字8：責任、野心、壓力、忙碌、慾望\n",
    "\n",
    "數字9：有洞察力、成功機會高、貪心、消極、無原則"
   ]
  },
  {
   "cell_type": "code",
   "execution_count": 3,
   "metadata": {},
   "outputs": [
    {
     "name": "stdout",
     "output_type": "stream",
     "text": [
      "歡迎來到由樹桶數統製作的星座生日密碼查詢機\n",
      "為無法記下星座的你解決煩惱\n",
      "--------------------------------------------------\n",
      "這裡輸入你或妳的生日\n",
      "格式示範:19990831 四位數西元年+二位數月份和日期\n",
      "12311231\n",
      "生日是1231/12/31的你或妳，星座是魔羯座、生日密碼為5，代表了有目標、幽默、喜歡多采多姿的生活、固執\n",
      "\n",
      "是否繼續執行?，y表示是，任意鍵離開\n",
      "12311231\n"
     ]
    }
   ],
   "source": [
    "zodiac=[\"水瓶\",\"雙魚\",\"牡羊\",\"金牛\",\"雙子\",\"巨蟹\",\"獅子\",\"處女\",\"天秤\",\"天蠍\",\"射手\",\"魔羯\"]\n",
    "watershed=[20,19,21,20,21,21,23,23,23,23,22,22]\n",
    "monthday=[31,28,31,30,31,30,31,31,30,31,30,31]\n",
    "inscription=[\n",
    "    \"獨立、自信、自負、自我\",\n",
    "    \"溝通、合作、溫柔、猶豫不決\",\n",
    "    \"行動力、快速、衝動\",\n",
    "    \"做事有條理、穩定、保守、直接、死板\",\n",
    "    \"有目標、幽默、喜歡多采多姿的生活、固執\",\n",
    "    \"有遠見、智慧、追求完美、浪費\",\n",
    "    \"博學、學習力強、拖延、冷漠\",\n",
    "    \"責任、野心、壓力、忙碌、慾望\",\n",
    "    \"有洞察力、成功機會高、貪心、消極、無原則\"]\n",
    "print(\"歡迎來到由樹桶數統製作的星座生日密碼查詢機\\n為無法記下星座的你解決煩惱\")\n",
    "print(\"-\"*50)\n",
    "date=input(\"這裡輸入你或妳的生日\\n格式示範:19990831 四位數西元年+二位數月份和日期\\n\")\n",
    "\n",
    "while(True):\n",
    "    key=False\n",
    "    date=date.ljust(8,\"0\")\n",
    "    y=int(date[0:4])\n",
    "    m=int(date[4:6])\n",
    "    d=int(date[6:8])\n",
    "    code=0\n",
    "    if(m==2 and d==29):\n",
    "        if(y%4==0):\n",
    "            yourzodiac=zodiac[2]\n",
    "            key=True\n",
    "        else:\n",
    "            print(\"今年好像不是閏年喔\")\n",
    "    elif(m>0 and m<13):\n",
    "        if(d>0 and d<=monthday[m-1]):\n",
    "            if(d>=watershed[m-1]):\n",
    "                yourzodiac=zodiac[m-1]\n",
    "            else:\n",
    "                yourzodiac=zodiac[m-2]\n",
    "            key=True\n",
    "        else:\n",
    "            print(\"啊~日期好像打錯了\")\n",
    "    else:\n",
    "        print(\"啊~月份好像打錯了\")\n",
    "    \n",
    "    if(key==True):\n",
    "        #生日密碼計算\n",
    "        for i in range(0,len(date)):\n",
    "            code+=int(date[i])\n",
    "        while code>9:\n",
    "            code%=9\n",
    "        while code==0:\n",
    "            code=9\n",
    "        \n",
    "        print(\"生日是\"+str(y)+\"/\"+str(m)+\"/\"+str(d)+\"的你或妳，星座是\"+yourzodiac+\"座、生日密碼為\"+str(code)+\"，代表了\"+inscription[code-1])\n",
    "        wait=input(\"\\n是否繼續執行?，y表示是，任意鍵離開\\n\")\n",
    "        if(wait==\"y\"):\n",
    "            print(\"-\"*50)\n",
    "            date=input(\"請輸入你或妳的生日\\n格式示範:19990831 四位數西元年+二位數月份日期\\n\")\n",
    "        else:\n",
    "            break\n",
    "    else:\n",
    "        print(\"-\"*50)\n",
    "        date=input(\"重新輸入你或妳的生日吧\\n格式示範:19990831 四位數西元年+二位數月份日期\\n\")"
   ]
  },
  {
   "cell_type": "code",
   "execution_count": 5,
   "metadata": {},
   "outputs": [
    {
     "data": {
      "text/plain": [
       "1"
      ]
     },
     "execution_count": 5,
     "metadata": {},
     "output_type": "execute_result"
    }
   ],
   "source": [
    "len(zodiac)\n"
   ]
  },
  {
   "cell_type": "code",
   "execution_count": null,
   "metadata": {},
   "outputs": [],
   "source": []
  }
 ],
 "metadata": {
  "kernelspec": {
   "display_name": "Python 3",
   "language": "python",
   "name": "python3"
  },
  "language_info": {
   "codemirror_mode": {
    "name": "ipython",
    "version": 3
   },
   "file_extension": ".py",
   "mimetype": "text/x-python",
   "name": "python",
   "nbconvert_exporter": "python",
   "pygments_lexer": "ipython3",
   "version": "3.6.9"
  }
 },
 "nbformat": 4,
 "nbformat_minor": 2
}
