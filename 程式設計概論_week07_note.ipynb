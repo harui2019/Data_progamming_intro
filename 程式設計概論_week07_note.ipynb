{
 "cells": [
  {
   "cell_type": "markdown",
   "metadata": {},
   "source": [
    "# week07"
   ]
  },
  {
   "cell_type": "markdown",
   "metadata": {},
   "source": [
    "<font size=\"4\" face=\"Microsoft YaHei\">\n",
    "第一節為\"Microbit課程\""
   ]
  },
  {
   "cell_type": "markdown",
   "metadata": {},
   "source": [
    "<font size=\"4\" face=\"Microsoft YaHei\"><b>實作練習#1</b><br></font>\n",
    "<font size=\"3\" face=\"Microsoft YaHei\">\n",
    "百貨公司周年慶為回饋顧客，採用買得越多，折扣越多的打折策略。當顧客消費滿\n",
    "2000元打7折，消費滿5000元打6折，消費滿10000元打55折。請幫這間百貨\n",
    "公司寫一個收銀台程式，可以做到以下功能：(先畫出流程圖)<br><br>\n",
    "• 讓收銀員輸入顧客購買商品的總金額。<br><br>\n",
    "• 先判斷輸入的總金額是否為正確的數字格式，如果格式有誤，就直接印出「輸\n",
    "入的資料格式有誤!」作為提醒。(提示：可以使用str_name.isdecimal() 函數)<br><br>\n",
    "• 如果輸入的資料格式正確，就依上述打折策略的條件進行判斷後，若顧客符合\n",
    "打折的條件，先印出此顧客打幾折，再計算並印出顧客實際需要支付的金額，\n",
    "若顧客不符合打折的條件，則只印出顧客實際需要支付的金額。(顧客實際需要\n",
    "支付的金額請以round()函數取到整數)<br><br>"
   ]
  },
  {
   "cell_type": "code",
   "execution_count": 9,
   "metadata": {},
   "outputs": [
    {
     "name": "stdout",
     "output_type": "stream",
     "text": [
      "請輸入金額20202\n",
      "滿一萬打五折優惠後的金額是10101元\n"
     ]
    }
   ],
   "source": [
    "x=1\n",
    "while x==1:\n",
    "    cash=input(\"請輸入金額>>>\")\n",
    "    if cash.isdecimal()==True:\n",
    "        cash=int(cash)\n",
    "        if cash>0 and cash<2000:\n",
    "            print(\"很抱歉您所消費的金額\"+str(cash)+\"元尚不足以打折\")\n",
    "        elif cash>=2000 and cash<5000:\n",
    "            print(\"滿兩千打七折，\"+\"優惠後的金額是\"+str(round(cash*0.7))+\"元\")\n",
    "        elif cash>=5000 and cash<10000:\n",
    "            print(\"滿五千打六折，\"+\"優惠後的金額是\"+str(round(cash*0.6))+\"元\")\n",
    "        elif cash==0:\n",
    "            print(\"結束程序\")\n",
    "            x=0\n",
    "        else :\n",
    "            print(\"滿一萬打五折，\"+\"優惠後的金額是\"+str(round(cash*0.5))+\"元\")\n",
    "    else:\n",
    "        print(\"金額格式錯誤\")"
   ]
  },
  {
   "cell_type": "code",
   "execution_count": null,
   "metadata": {},
   "outputs": [],
   "source": [
    "x=1\n",
    "while x==1:\n",
    "    cash=input(\"請輸入金額>>>\")\n",
    "    if cash.isdecimal():\n",
    "        cash=int(cash)\n",
    "        if cash>0 and cash<2000:\n",
    "            print(\"很抱歉您所消費的金額尚不足以打折，\")\n",
    "        elif cash>=2000 and cash<5000:\n",
    "            print(\"滿兩千打七折，\")\n",
    "            cash*=0.7\n",
    "        elif cash>=5000 and cash<10000:\n",
    "            print(\"滿五千打六折，\")\n",
    "            cash*=0.6\n",
    "        elif cash==0:\n",
    "            print(\"結束程序\")\n",
    "            x=0\n",
    "        else:\n",
    "            print(\"滿一萬打五折，\")\n",
    "            cash*=0.5\n",
    "        print(\"計算後的金額是\"+str(round(cash))+\"元\")\n",
    "    else:\n",
    "        print(\"金額格式錯誤\")"
   ]
  },
  {
   "cell_type": "code",
   "execution_count": 6,
   "metadata": {},
   "outputs": [
    {
     "data": {
      "text/plain": [
       "int"
      ]
     },
     "execution_count": 6,
     "metadata": {},
     "output_type": "execute_result"
    }
   ],
   "source": [
    "type(2)"
   ]
  },
  {
   "cell_type": "code",
   "execution_count": 6,
   "metadata": {},
   "outputs": [
    {
     "data": {
      "text/plain": [
       "str"
      ]
     },
     "execution_count": 6,
     "metadata": {},
     "output_type": "execute_result"
    }
   ],
   "source": [
    "type(cash)"
   ]
  },
  {
   "cell_type": "code",
   "execution_count": 7,
   "metadata": {},
   "outputs": [
    {
     "data": {
      "text/plain": [
       "int"
      ]
     },
     "execution_count": 7,
     "metadata": {},
     "output_type": "execute_result"
    }
   ],
   "source": [
    "type(int(cash))"
   ]
  },
  {
   "cell_type": "markdown",
   "metadata": {},
   "source": [
    "<font size=\"4\" face=\"Microsoft YaHei\">"
   ]
  },
  {
   "cell_type": "markdown",
   "metadata": {},
   "source": [
    "<font size=\"3\" face=\"Microsoft YaHei\"><b> ● str_name.isdecimal()</b><br></font>\n",
    "<font size=\"3\" face=\"Microsoft YaHei\">\n",
    "用於偵測該字串是否完全由數字構成"
   ]
  },
  {
   "cell_type": "code",
   "execution_count": 11,
   "metadata": {},
   "outputs": [
    {
     "data": {
      "text/plain": [
       "True"
      ]
     },
     "execution_count": 11,
     "metadata": {},
     "output_type": "execute_result"
    }
   ],
   "source": [
    "str(cash).isdecimal()"
   ]
  },
  {
   "cell_type": "markdown",
   "metadata": {},
   "source": [
    "<font size=\"4\" face=\"Microsoft YaHei\"><b> ● 字串 list()</b></font><br>\n",
    "<font size=\"3\" face=\"Microsoft YaHei\">\n",
    "• 可用來存放多項資料的一種資料型別。<br>\n",
    "• 串列中的每一項資料稱為「元素」。<br>\n",
    "• 串列中的每一個元素都有一個索引值<br>\n",
    "• 同一個串列中，每個元素的資料型別可以不一樣。<br>"
   ]
  },
  {
   "cell_type": "code",
   "execution_count": 12,
   "metadata": {},
   "outputs": [],
   "source": [
    "data1=[25, 36, 78]\n",
    "data2=[\"one\", 25, \"July\"]\n",
    "data3=[\"Mary\", [78,92], \"Eric\", [56, 92] ]"
   ]
  },
  {
   "cell_type": "markdown",
   "metadata": {},
   "source": [
    "<font size=\"3\" face=\"Microsoft YaHei\"><b> • list()</b></font><br>\n",
    "<font size=\"3\" face=\"Microsoft YaHei\">"
   ]
  },
  {
   "cell_type": "code",
   "execution_count": 15,
   "metadata": {},
   "outputs": [
    {
     "name": "stdout",
     "output_type": "stream",
     "text": [
      "['P', 'y', 't', 'h', 'o', 'n']\n"
     ]
    }
   ],
   "source": [
    "msg=\"Python\"\n",
    "print(list(msg))"
   ]
  },
  {
   "cell_type": "markdown",
   "metadata": {},
   "source": [
    "<font size=\"3\" face=\"Microsoft YaHei\"><b> • str1.split()</b></font><br>\n",
    "<font size=\"3\" face=\"Microsoft YaHei\">-以\" \"作為分割點"
   ]
  },
  {
   "cell_type": "code",
   "execution_count": 16,
   "metadata": {},
   "outputs": [
    {
     "name": "stdout",
     "output_type": "stream",
     "text": [
      "['Hello', 'World', 'Python']\n"
     ]
    }
   ],
   "source": [
    "msg=\"Hello World Python\".split()\n",
    "print(msg)"
   ]
  },
  {
   "cell_type": "markdown",
   "metadata": {},
   "source": [
    "<font size=\"3\" face=\"Microsoft YaHei\">-以\"/\"作為分割點"
   ]
  },
  {
   "cell_type": "code",
   "execution_count": 17,
   "metadata": {},
   "outputs": [
    {
     "name": "stdout",
     "output_type": "stream",
     "text": [
      "['2018', '10', '31']\n"
     ]
    }
   ],
   "source": [
    "msg1=\"2018/10/31\".split('/')\n",
    "print(msg1)"
   ]
  },
  {
   "cell_type": "markdown",
   "metadata": {},
   "source": [
    "<font size=\"3\" face=\"Microsoft YaHei\"><b> • str1.join()</b></font><br>\n",
    "<font size=\"3\" face=\"Microsoft YaHei\">-透過指定符號將list連接轉成str"
   ]
  },
  {
   "cell_type": "code",
   "execution_count": 18,
   "metadata": {},
   "outputs": [
    {
     "name": "stdout",
     "output_type": "stream",
     "text": [
      "red green blue\n",
      "red_green_blue\n"
     ]
    }
   ],
   "source": [
    "color=['red', 'green', 'blue']\n",
    "print(' '.join(color))\n",
    "print('_'.join(color))"
   ]
  },
  {
   "cell_type": "markdown",
   "metadata": {},
   "source": [
    "<font size=\"3\" face=\"Microsoft YaHei\"><b> • range(start, stop, step)</b></font><br>\n",
    "<font size=\"3\" face=\"Microsoft YaHei\">-回傳一個物件，這個物件本身包含了一連串的整數，範圍從start到stop-1，以\n",
    "step為遞增或遞減的間隔。"
   ]
  },
  {
   "cell_type": "code",
   "execution_count": 19,
   "metadata": {},
   "outputs": [
    {
     "name": "stdout",
     "output_type": "stream",
     "text": [
      "[0, 1, 2]\n",
      "[1, 2, 3, 4]\n",
      "[2, 5, 8, 11, 14, 17]\n",
      "[2, 0, -2, -4, -6, -8]\n"
     ]
    }
   ],
   "source": [
    "int_list1 = list(range(3))\n",
    "print(int_list1)\n",
    "int_list2 = list(range(1,5))\n",
    "print(int_list2)\n",
    "int_list3 = list(range(2,20,3))\n",
    "print(int_list3)\n",
    "int_list4 = list(range(2,-10,-2))\n",
    "print(int_list4)"
   ]
  },
  {
   "cell_type": "code",
   "execution_count": 7,
   "metadata": {},
   "outputs": [
    {
     "ename": "TypeError",
     "evalue": "__init__() got an unexpected keyword argument 'Color'",
     "output_type": "error",
     "traceback": [
      "\u001b[1;31m---------------------------------------------------------------------------\u001b[0m",
      "\u001b[1;31mTypeError\u001b[0m                                 Traceback (most recent call last)",
      "\u001b[1;32m<ipython-input-7-7fd7a67dc52e>\u001b[0m in \u001b[0;36m<module>\u001b[1;34m\u001b[0m\n\u001b[0;32m      1\u001b[0m \u001b[1;32mfrom\u001b[0m \u001b[0mtkinter\u001b[0m \u001b[1;32mimport\u001b[0m \u001b[1;33m*\u001b[0m           \u001b[1;31m# 导入 Tkinter 库\u001b[0m\u001b[1;33m\u001b[0m\u001b[1;33m\u001b[0m\u001b[0m\n\u001b[1;32m----> 2\u001b[1;33m \u001b[0mroot\u001b[0m \u001b[1;33m=\u001b[0m \u001b[0mTk\u001b[0m\u001b[1;33m(\u001b[0m\u001b[0mColor\u001b[0m\u001b[1;33m=\u001b[0m\u001b[1;34m\"r\"\u001b[0m \u001b[1;33m)\u001b[0m                     \u001b[1;31m# 创建窗口对象的背景色\u001b[0m\u001b[1;33m\u001b[0m\u001b[1;33m\u001b[0m\u001b[0m\n\u001b[0m\u001b[0;32m      3\u001b[0m                                 \u001b[1;31m# 创建两个列表\u001b[0m\u001b[1;33m\u001b[0m\u001b[1;33m\u001b[0m\u001b[1;33m\u001b[0m\u001b[0m\n\u001b[0;32m      4\u001b[0m \u001b[0mli\u001b[0m     \u001b[1;33m=\u001b[0m \u001b[1;33m[\u001b[0m\u001b[1;34m'C'\u001b[0m\u001b[1;33m,\u001b[0m\u001b[1;34m'python'\u001b[0m\u001b[1;33m,\u001b[0m\u001b[1;34m'php'\u001b[0m\u001b[1;33m,\u001b[0m\u001b[1;34m'html'\u001b[0m\u001b[1;33m,\u001b[0m\u001b[1;34m'SQL'\u001b[0m\u001b[1;33m,\u001b[0m\u001b[1;34m'java'\u001b[0m\u001b[1;33m]\u001b[0m\u001b[1;33m\u001b[0m\u001b[1;33m\u001b[0m\u001b[0m\n\u001b[0;32m      5\u001b[0m \u001b[0mmovie\u001b[0m  \u001b[1;33m=\u001b[0m \u001b[1;33m[\u001b[0m\u001b[1;34m'CSS'\u001b[0m\u001b[1;33m,\u001b[0m\u001b[1;34m'jQuery'\u001b[0m\u001b[1;33m,\u001b[0m\u001b[1;34m'Bootstrap'\u001b[0m\u001b[1;33m]\u001b[0m\u001b[1;33m\u001b[0m\u001b[1;33m\u001b[0m\u001b[0m\n",
      "\u001b[1;31mTypeError\u001b[0m: __init__() got an unexpected keyword argument 'Color'"
     ]
    }
   ],
   "source": []
  },
  {
   "cell_type": "code",
   "execution_count": null,
   "metadata": {},
   "outputs": [],
   "source": []
  }
 ],
 "metadata": {
  "kernelspec": {
   "display_name": "Python 3",
   "language": "python",
   "name": "python3"
  },
  "language_info": {
   "codemirror_mode": {
    "name": "ipython",
    "version": 3
   },
   "file_extension": ".py",
   "mimetype": "text/x-python",
   "name": "python",
   "nbconvert_exporter": "python",
   "pygments_lexer": "ipython3",
   "version": "3.6.9"
  }
 },
 "nbformat": 4,
 "nbformat_minor": 2
}
