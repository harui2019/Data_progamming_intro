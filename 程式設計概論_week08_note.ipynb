{
 "cells": [
  {
   "cell_type": "markdown",
   "metadata": {},
   "source": [
    "# week08"
   ]
  },
  {
   "cell_type": "markdown",
   "metadata": {},
   "source": [
    "<font size=\"4\" face=\"Microsoft YaHei\">\n",
    "第一、二節為\"Microbit課程\""
   ]
  },
  {
   "cell_type": "markdown",
   "metadata": {},
   "source": [
    "<font size=\"4\" face=\"Microsoft YaHei\"><b> • 串列的操作</b></font><br>\n",
    "<font size=\"3\" face=\"Microsoft YaHei\">-可以透過索引值來指定變更某個串列元素的值"
   ]
  },
  {
   "cell_type": "code",
   "execution_count": 2,
   "metadata": {},
   "outputs": [
    {
     "name": "stdout",
     "output_type": "stream",
     "text": [
      "[25, 36, 114, 65]\n"
     ]
    }
   ],
   "source": [
    "data=[25,36,114,12]\n",
    "data[-1]=65\n",
    "print(data)"
   ]
  },
  {
   "cell_type": "markdown",
   "metadata": {},
   "source": [
    "<font size=\"3\" face=\"Microsoft YaHei\">-可以使用del來刪除某個串列元素"
   ]
  },
  {
   "cell_type": "code",
   "execution_count": 3,
   "metadata": {},
   "outputs": [
    {
     "name": "stdout",
     "output_type": "stream",
     "text": [
      "[36, 114, 65]\n",
      "[]\n"
     ]
    }
   ],
   "source": [
    "del data[0]\n",
    "print(data)\n",
    "del data[:]\n",
    "print(data)"
   ]
  },
  {
   "cell_type": "markdown",
   "metadata": {},
   "source": [
    "<font size=\"4\" face=\"Microsoft YaHei\"><b>實作練習#1</b></font><br>\n",
    "<font size=\"3\" face=\"Microsoft YaHei\"><br>\n",
    "1. 運用range()建立一個串列名稱為list_ex，內容為1~100的偶數整數，並印出目前\n",
    "串列list_ex的內容。<br>\n",
    "<br>\n",
    "2. 將串列list_ex的最後五個元素刪除，並印出目前串列list_ex的內容。<br>\n",
    "<br>\n",
    "3. 宣告一個字串變數(str_classtime)內容為“15:10:00”，將str_classtime字串依‘:’分割成串列，並將分割後的結果指派給list_classtime這個串列變數，並印出list_classtime的內容。<br>\n",
    "<br>\n",
    "4. 將list_classtime的元素中的‘15’ 這個元素指派給list_ex的第1個元素，將list_classtime的最後兩個元素以串列的型態指派給list_ex的第2個元素，並印出目前串列list_ex的內容。<br>\n",
    "<br>\n",
    "5. 印出list_ex的資料型態，並分別印出list_ex中前3個元素的資料型態。(運用type()函數)<br>"
   ]
  },
  {
   "cell_type": "code",
   "execution_count": 45,
   "metadata": {},
   "outputs": [
    {
     "name": "stdout",
     "output_type": "stream",
     "text": [
      "1.\n",
      "\n",
      "[2, 4, 6, 8, 10, 12, 14, 16, 18, 20, 22, 24, 26, 28, 30, 32, 34, 36, 38, 40, 42, 44, 46, 48, 50, 52, 54, 56, 58, 60, 62, 64, 66, 68, 70, 72, 74, 76, 78, 80, 82, 84, 86, 88, 90, 92, 94, 96, 98, 100]\n",
      "\n",
      "2.\n",
      "\n",
      "[2, 4, 6, 8, 10, 12, 14, 16, 18, 20, 22, 24, 26, 28, 30, 32, 34, 36, 38, 40, 42, 44, 46, 48, 50, 52, 54, 56, 58, 60, 62, 64, 66, 68, 70, 72, 74, 76, 78, 80, 82, 84, 86, 88, 90]\n",
      "\n",
      "3.\n",
      "\n",
      "['15', '10', '00']\n",
      "\n",
      "4.\n",
      "\n",
      "['15', 4, 6, 8, 10, 12, 14, 16, 18, 20, 22, 24, 26, 28, 30, 32, 34, 36, 38, 40, 42, 44, 46, 48, 50, 52, 54, 56, 58, 60, 62, 64, 66, 68, 70, 72, 74, 76, 78, 80, 82, 84, 86, 88, 90]\n",
      "\n",
      "\n",
      "['15', ['10', '00'], 6, 8, 10, 12, 14, 16, 18, 20, 22, 24, 26, 28, 30, 32, 34, 36, 38, 40, 42, 44, 46, 48, 50, 52, 54, 56, 58, 60, 62, 64, 66, 68, 70, 72, 74, 76, 78, 80, 82, 84, 86, 88, 90]\n",
      "\n",
      "5.\n",
      "\n",
      "<class 'list'> <class 'str'> <class 'list'> <class 'int'>\n"
     ]
    }
   ],
   "source": [
    "print(\"1.\\n\")\n",
    "list_ex = list(range(2,101,2))\n",
    "print(list_ex)\n",
    "\n",
    "print(\"\\n2.\\n\")\n",
    "del list_ex[-5:-1],list_ex[-1]\n",
    "print(list_ex)\n",
    "\n",
    "print(\"\\n3.\\n\")\n",
    "str_classtime = \"15:10:00\" \n",
    "list_clastime = str_classtime.split(':')\n",
    "print(list_clastime)\n",
    "\n",
    "print(\"\\n4.\\n\")\n",
    "list_ex[0] = list_clastime[0]\n",
    "print(list_ex)\n",
    "print(\"\\n\")\n",
    "list_ex[1] = list_clastime[1:3]\n",
    "print(list_ex)\n",
    "\n",
    "print(\"\\n5.\\n\")\n",
    "print(type(list_ex),type(list_ex[0]),type(list_ex[1]),type(list_ex[2]))"
   ]
  },
  {
   "cell_type": "code",
   "execution_count": 48,
   "metadata": {},
   "outputs": [],
   "source": [
    "from tkinter import *           # 导入 Tkinter 库\n",
    "root = Tk()                     # 创建窗口对象的背景色\n",
    "                                # 创建两个列表\n",
    "li     = ['C','python','php','html','SQL','java']\n",
    "movie  = ['CSS','jQuery','Bootstrap']\n",
    "listb  = Listbox(root)          #  创建两个列表组件\n",
    "listb2 = Listbox(root)\n",
    "for item in li:                 # 第一个小部件插入数据\n",
    "    listb.insert(0,item)\n",
    " \n",
    "for item in movie:              # 第二个小部件插入数据\n",
    "    listb2.insert(0,item)\n",
    " \n",
    "listb.pack()                    # 将小部件放置到主窗口中\n",
    "listb2.pack()\n",
    "root.mainloop()                 # 进入消息循环"
   ]
  },
  {
   "cell_type": "markdown",
   "metadata": {},
   "source": [
    "<font size=\"4\" face=\"Microsoft YaHei\"><b> • for/in 迴圈</b></font><br>\n",
    "<font size=\"3\" face=\"Microsoft YaHei\">for item in 計數器:<br>\n",
    "for迴圈要重複做的事情<br>\n",
    "    <b>    • demo 2</b>"
   ]
  },
  {
   "cell_type": "code",
   "execution_count": null,
   "metadata": {},
   "outputs": [
    {
     "name": "stdout",
     "output_type": "stream",
     "text": [
      "--------------------------------------------------\n",
      "0 1 2 3 4 5 6 7 8 9 \n",
      "--------------------------------------------------\n",
      "2\t3\t4\t5\t6\t7\t8\t9\t10\t\n",
      "--------------------------------------------------\n"
     ]
    }
   ],
   "source": [
    "print(\"-\"*50)\n",
    "for item in range(10):   #計數器裡面有0,1,2,3,4,5,6,7,8,9\n",
    "    print(item, end=\" \")\n",
    "print()\n",
    "print(\"-\"*50)\n",
    "\n",
    "for x in range(2,11):   #計數器裡面有2,3,4,5,6,7,8,9,10\n",
    "    print(x, end=\"\\t\")\n",
    "print()\n",
    "print(\"-\"*50)\n",
    "\n",
    "total=0\n",
    "n= int(input(\"請輸入一個正整數:\"))\n",
    "for y in range(1,n+1):\n",
    "    total+=y\n",
    "print(\"從 1 到 %d 的整數相加後的總和為 %d \" % (y,total))\n",
    "\n"
   ]
  },
  {
   "cell_type": "code",
   "execution_count": 53,
   "metadata": {},
   "outputs": [
    {
     "name": "stdout",
     "output_type": "stream",
     "text": [
      "請依序輸入5個正整數，每輸入完一個正整數後請按Enter，再接著輸入下一個:\n",
      "輸入第1個正整數:ˇˋ\n",
      "剛剛輸入的第  1個值並非正整數，故不加入串列中\n",
      "輸入第2個正整數:34\n",
      "輸入第3個正整數:34\n",
      "輸入第4個正整數:34\n",
      "輸入第5個正整數:3\n",
      "已完成輸入\n",
      "\n",
      "student: [34, 34, 34, 3]\n",
      "輸入的正整數有--> 34  34  34  3  "
     ]
    }
   ],
   "source": [
    "count=5\n",
    "student=[]   #宣告一個空的串列變數名稱為student\n",
    "\n",
    "#透過for迴圈產生串列\n",
    "print('請依序輸入5個正整數，每輸入完一個正整數後請按Enter，再接著輸入下一個:')\n",
    "for item in range(count):  #range產生的整數有0,1,2,3,4\n",
    "    line = input('輸入第'+str(item+1)+'個正整數:')  #使用者輸入\n",
    "    if line.isdecimal():\n",
    "        data=int(line)  #資料型態轉換\n",
    "        student.append(data)  #將data附加到student這個List中\n",
    "    else:\n",
    "        print(\"剛剛輸入的第{0:3d}個值並非正整數，故不加入串列中\".format(item+1))\n",
    "        #格式化輸入{0},取format()的第一個，:3d，自動填行操作\n",
    "\n",
    "print('已完成輸入\\n')\n",
    "print(\"student:\",student)    \n",
    "\n",
    "#運用for迴圈將串列中的資料一個一個取出\n",
    "print('輸入的正整數有', end='--> ')\n",
    "for item in student:\n",
    "    print('{0:d}'.format(item), end='  ')"
   ]
  },
  {
   "cell_type": "markdown",
   "metadata": {},
   "source": [
    "<font size=\"4\" face=\"Microsoft YaHei\"><b>實作練習#2</b></font><br>\n",
    "<font size=\"3\" face=\"Microsoft YaHei\"><br>\n",
    "&emsp;&emsp;數學老師王老師的班上有15位同學，考完期中考後，王老師需要你的幫忙，寫一個程式可以讓王老師依序輸入15位同學的期中考分數後，你的程式可以幫忙計算並印出全班數學期中考的總平均分數。<br>\n",
    "&emsp;&emsp;為了方便王老師檢查之前他所輸入的分數資料是否正確，請再將王老師所輸入的15位同學的成績也依序印出來讓王老師可以檢查。<br>"
   ]
  },
  {
   "cell_type": "code",
   "execution_count": 4,
   "metadata": {},
   "outputs": [
    {
     "ename": "SyntaxError",
     "evalue": "EOL while scanning string literal (<ipython-input-4-11539e3e5836>, line 21)",
     "output_type": "error",
     "traceback": [
      "\u001b[1;36m  File \u001b[1;32m\"<ipython-input-4-11539e3e5836>\"\u001b[1;36m, line \u001b[1;32m21\u001b[0m\n\u001b[1;33m    print(\"平均為{0:3d}\".format(int(_sum_/count))\")\u001b[0m\n\u001b[1;37m                                                ^\u001b[0m\n\u001b[1;31mSyntaxError\u001b[0m\u001b[1;31m:\u001b[0m EOL while scanning string literal\n"
     ]
    }
   ],
   "source": [
    "count=15\n",
    "student=[]   #宣告一個空的串列變數名稱為student\n",
    "\n",
    "#透過for迴圈產生串列\n",
    "print('請依序輸入15個正整數，每輸入完一個正整數後請按Enter，再接著輸入下一個:')\n",
    "for item in range(count):  #range產生的整數有0,1,2,3,4\n",
    "    line = input('輸入第'+str(item+1)+'個正整數:')  #使用者輸入\n",
    "    if line.isdecimal():\n",
    "        data=int(line)  #資料型態轉換\n",
    "        student.append(data)  #將data附加到student這個List中\n",
    "    else:\n",
    "        print(\"剛剛輸入的第{0:3d}個值並非正整數，故不加入串列中\".format(item+1))\n",
    "        #格式化輸入{0},取format()的第一個，:3d，自動填行操作\n",
    "\n",
    "print('已完成輸入\\n')\n",
    "print(\"student:\",student)    \n",
    "\n",
    "for item in range(count):\n",
    "    _sum_+=student[item]\n",
    "\n",
    "print(\"平均為{0:3d}\".format(int(_sum_/count))\")\n",
    "\n",
    "#運用for迴圈將串列中的資料一個一個取出\n",
    "print('輸入的正整數有', end='--> ')\n",
    "for item in student:\n",
    "    print('{0:d}'.format(item), end='  ')"
   ]
  },
  {
   "cell_type": "code",
   "execution_count": 57,
   "metadata": {},
   "outputs": [
    {
     "data": {
      "text/plain": [
       "<function sum(iterable, start=0, /)>"
      ]
     },
     "execution_count": 57,
     "metadata": {},
     "output_type": "execute_result"
    }
   ],
   "source": []
  },
  {
   "cell_type": "code",
   "execution_count": null,
   "metadata": {},
   "outputs": [],
   "source": []
  }
 ],
 "metadata": {
  "kernelspec": {
   "display_name": "Python 3",
   "language": "python",
   "name": "python3"
  },
  "language_info": {
   "codemirror_mode": {
    "name": "ipython",
    "version": 3
   },
   "file_extension": ".py",
   "mimetype": "text/x-python",
   "name": "python",
   "nbconvert_exporter": "python",
   "pygments_lexer": "ipython3",
   "version": "3.6.9"
  }
 },
 "nbformat": 4,
 "nbformat_minor": 2
}
