{
 "cells": [
  {
   "cell_type": "markdown",
   "metadata": {},
   "source": [
    "<font size=\"4\" face=\"Microsoft YaHei\"><b>實作練習#1</b></font><br>\n",
    "<font size=\"3\" face=\"Microsoft YaHei\"><br>\n",
    "&emsp;&emsp;數學老師王老師的班上有15位同學，考完期中考後，王老師需要你的幫忙，寫一個程式可以讓王老師依序輸入15位同學的期中考分數後，你的程式可以幫忙計算並印出全班數學期中考的總平均分數。<br>\n",
    "&emsp;&emsp;為了方便王老師檢查之前他所輸入的分數資料是否正確，請再將王老師所輸入的15位同學的成績也依序印出來讓王老師可以檢查。<br>"
   ]
  },
  {
   "cell_type": "code",
   "execution_count": 36,
   "metadata": {},
   "outputs": [
    {
     "name": "stdout",
     "output_type": "stream",
     "text": [
      "請依序輸入15個正整數，每輸入完一個正整數後請按Enter，再接著輸入下一個:\n",
      "輸入第1個正整數:2\n",
      "輸入第2個正整數:2\n",
      "輸入第3個正整數:22\n",
      "輸入第4個正整數:2\n",
      "輸入第5個正整數:2\n",
      "輸入第6個正整數:2\n",
      "輸入第7個正整數:2\n",
      "輸入第8個正整數:2\n",
      "輸入第9個正整數:\n",
      "剛剛輸入的第  9個值並非正整數，故不加入串列中\n",
      "輸入第10個正整數:2\n",
      "輸入第11個正整數:2\n",
      "輸入第12個正整數:2\n",
      "輸入第13個正整數:2\n",
      "輸入第14個正整數:2\n",
      "輸入第15個正整數:2\n",
      "已完成輸入\n",
      "\n",
      "student: [2, 2, 22, 2, 2, 2, 2, 2, '_', 2, 2, 2, 2, 2, 2]\n",
      "總分為 48\n",
      "平均為3.4286\n",
      "輸入的正整數有-->2  2  22  2  2  2  2  2  _  2  2  2  2  2  2  \n",
      "共有  1次的輸入錯誤\n",
      "14\n"
     ]
    }
   ],
   "source": [
    "count=15\n",
    "student=[]\n",
    "data=0;_sum_=0;x=0\n",
    "\n",
    "print('請依序輸入15個正整數，每輸入完一個正整數後請按Enter，再接著輸入下一個:')\n",
    "\n",
    "for item in range(count):\n",
    "    line = input('輸入第'+str(item+1)+'個正整數:')\n",
    "    if line.isdecimal():\n",
    "        data=int(line) \n",
    "        if 0<=data and data<=100:\n",
    "            student.append(data)\n",
    "        else:\n",
    "            print(\"剛剛輸入的第{0:3d}個值並不在0~100之間，故不加入串列中\".format(item+1))\n",
    "            student.append(\"_\")\n",
    "    else:\n",
    "        print(\"剛剛輸入的第{0:3d}個值並非正整數，故不加入串列中\".format(item+1))\n",
    "        student.append(\"_\")\n",
    "        \n",
    "        #格式化輸入{0},取format()的第一個，:3d，自動填行操作\n",
    "\n",
    "        \n",
    "print('已完成輸入\\n')\n",
    "print(\"student:\",student)    \n",
    "\n",
    "\n",
    "for item in range(count):\n",
    "    if student[item]==\"_\":\n",
    "        x+=1\n",
    "    else:\n",
    "        _sum_+=student[item]\n",
    "\n",
    "        \n",
    "print(\"總分為{0:3d}\".format(int(_sum_)))\n",
    "print(\"平均為{0:.4f}\".format(float(_sum_/(count-x))))\n",
    "print(\"輸入的正整數有\", end=\"--> \")\n",
    "      \n",
    "for item in student:\n",
    "    print('{0:s}'.format(str(item)), end='  ')\n",
    "    \n",
    "print(\"\\n共有{0:3d}位學生的成績，及{1:3d}次的輸入錯誤\".format((count-x),int(x)))\n"
   ]
  },
  {
   "cell_type": "markdown",
   "metadata": {},
   "source": [
    "<font size=\"4\" face=\"Microsoft YaHei\"><b> • while 迴圈</b></font><br>\n",
    "<font size=\"3\" face=\"Microsoft YaHei\">while 條件式:<br><br>"
   ]
  },
  {
   "cell_type": "markdown",
   "metadata": {},
   "source": [
    "<font size=\"4\" face=\"Microsoft YaHei\"><b>實作練習#2</b></font><br>\n",
    "<font size=\"3\" face=\"Microsoft YaHei\"><br>\n",
    "請把剛剛幫王老師寫的計算全班數學期中考總平均分數的程式，以while迴圈來改\n",
    "寫，並且做到以下兩項改變：<br>\n",
    "1. 這次的程式中，當王老師輸入-1時就代表不需要再輸入了，以輸入-1之前的分\n",
    "數來計算總平均。<br>\n",
    "2. 最後要印出王老師輸入的所有成績時，請將學生的成績由高分到低分排序後印\n",
    "出。(用list_s=sorted(list1, reverse=True)這個函數)<br>\n",
    "    \n",
    "    &emsp;&emsp;&emsp;&emsp;"
   ]
  },
  {
   "cell_type": "code",
   "execution_count": 22,
   "metadata": {},
   "outputs": [
    {
     "name": "stdout",
     "output_type": "stream",
     "text": [
      "請依序輸入正整數，每輸入完一個正整數後請按Enter，再接著輸入下一個:\n",
      "輸入-1以結束程式\n",
      "輸入第1個正整數:1\n",
      "輸入第2個正整數:2\n",
      "輸入第3個正整數:3\n",
      "輸入第4個正整數:-1\n",
      "剛剛輸入的第  4個值並非正整數，故不加入串列中\n",
      "已完成輸入\n",
      "\n",
      "student: [1, 2, 3, '_']\n",
      "總分為  6\n",
      "平均為2.0000\n",
      "輸入的正整數有--> 3  2  1  \n",
      "共有  3位學生的成績，及  1次的輸入錯誤\n"
     ]
    }
   ],
   "source": [
    "student=[]\n",
    "data=0\n",
    "_sum_=0;x=0;item=0\n",
    "line=' '\n",
    "\n",
    "print('請依序輸入正整數，每輸入完一個正整數後請按Enter，再接著輸入下一個:'+'\\n'+'輸入-1以結束程式')\n",
    "\n",
    "while line!=\"-1\":\n",
    "    line = input('輸入第'+str(item+1)+'個正整數:');\n",
    "    if line.isdecimal():\n",
    "        data=int(line);\n",
    "        if 0<=data and data<=100:\n",
    "            student.append(data);\n",
    "        else:\n",
    "            print(\"剛剛輸入的第{0:3d}個值並不在0~100之間，故不加入串列中\".format(item+1))\n",
    "            student.append(\"_\");\n",
    "    else:\n",
    "        print(\"剛剛輸入的第{0:3d}個值並非正整數，故不加入串列中\".format(item+1))\n",
    "        student.append(\"_\");\n",
    "    item+=1;\n",
    "        #格式化輸入{0},取format()的第一個，:3d，自動填行操作\n",
    "        \n",
    "print('已完成輸入\\n')\n",
    "print(\"student:\",student)    \n",
    "\n",
    "student_s=[]\n",
    "\n",
    "item=0\n",
    "while item<len(student):\n",
    "    if str(student[item]).isdecimal():\n",
    "        student_s.append(student[item])\n",
    "    else:\n",
    "        x+=1\n",
    "    item+=1\n",
    "\n",
    "student_s=sorted(student_s, reverse=True)\n",
    "\n",
    "item=0\n",
    "while item<len(student_s):\n",
    "    _sum_+=student_s[item]\n",
    "    item+=1\n",
    "        \n",
    "print(\"總分為{0:3d}\".format(int(_sum_)))\n",
    "print(\"平均為{0:.4f}\".format(float(_sum_/len(student_s))))\n",
    "print(\"輸入的正整數有\", end=\"--> \")\n",
    "\n",
    "item=0\n",
    "while item<len(student_s):\n",
    "    print('{0:s}'.format(str(student_s[item])), end='  ')\n",
    "    item+=1\n",
    "    \n",
    "print(\"\\n共有{0:3d}位學生的成績，及{1:3d}次的輸入錯誤\".format(len(student_s),int(x)))"
   ]
  },
  {
   "cell_type": "markdown",
   "metadata": {},
   "source": []
  },
  {
   "cell_type": "code",
   "execution_count": 19,
   "metadata": {},
   "outputs": [
    {
     "data": {
      "text/plain": [
       "0"
      ]
     },
     "execution_count": 19,
     "metadata": {},
     "output_type": "execute_result"
    }
   ],
   "source": [
    "nullist=[]\n",
    "len(nullist)"
   ]
  },
  {
   "cell_type": "code",
   "execution_count": null,
   "metadata": {},
   "outputs": [],
   "source": []
  }
 ],
 "metadata": {
  "kernelspec": {
   "display_name": "Python 3",
   "language": "python",
   "name": "python3"
  },
  "language_info": {
   "codemirror_mode": {
    "name": "ipython",
    "version": 3
   },
   "file_extension": ".py",
   "mimetype": "text/x-python",
   "name": "python",
   "nbconvert_exporter": "python",
   "pygments_lexer": "ipython3",
   "version": "3.7.6"
  }
 },
 "nbformat": 4,
 "nbformat_minor": 2
}
