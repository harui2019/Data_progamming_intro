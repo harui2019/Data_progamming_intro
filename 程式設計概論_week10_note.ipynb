{
 "cells": [
  {
   "cell_type": "markdown",
   "metadata": {},
   "source": [
    "<font size=\"3\" face=\"Microsoft YaHei\"><b>demo#1</b></font><br>\n",
    "<font size=\"3\" face=\"Microsoft YaHei\"><br>"
   ]
  },
  {
   "cell_type": "code",
   "execution_count": 2,
   "metadata": {},
   "outputs": [
    {
     "name": "stdout",
     "output_type": "stream",
     "text": [
      "請猜一個1-100之間的數字:1\n",
      "恭喜你猜對了，數字是: 1\n"
     ]
    }
   ],
   "source": [
    "#Programming 101\n",
    "#week10\n",
    "#demo 1\n",
    "import random as rn  #匯入random這個模組\n",
    "number=rn.randint(1,100)  #使用random這個模組中的randint()這個函數，來隨機產生一個1~100間的整數\n",
    "\n",
    "while guess_num!=number:\n",
    "    guess_num=int(input('請猜一個1-100之間的數字:'))\n",
    "    if guess_num==number:\n",
    "        print('恭喜你猜對了，數字是:',number) #猜對後，就離開while迴圈，不讓迴圈一直執行下去\n",
    "    elif guess_num>number:\n",
    "        print('請再猜一個小一點的數字。')\n",
    "    elif guess_num<number:\n",
    "        print('請再猜一個大一點的數字。')"
   ]
  },
  {
   "cell_type": "markdown",
   "metadata": {},
   "source": [
    "<font size=\"3\" face=\"Microsoft YaHei\"><b>demo#2</b></font><br>\n",
    "<font size=\"3\" face=\"Microsoft YaHei\"><br>"
   ]
  },
  {
   "cell_type": "code",
   "execution_count": 10,
   "metadata": {
    "scrolled": true
   },
   "outputs": [
    {
     "name": "stdout",
     "output_type": "stream",
     "text": [
      "這個程式會印出使用者輸入的起始與結尾數字區間內所有7的倍數\n",
      "請輸入起始數字:2\n",
      "請輸入結尾數字:77\n",
      "7 14 21 28 35 42 49 56 63 70 77 "
     ]
    }
   ],
   "source": [
    "#Programming 101\n",
    "#week10\n",
    "#demo 2\n",
    "\n",
    "print('這個程式會印出使用者輸入的起始與結尾數字區間內所有7的倍數')\n",
    "s1=int(input('請輸入起始數字:'))\n",
    "s2=int(input('請輸入結尾數字:'))\n",
    "\n",
    "for i in range(s1,s2+1):\n",
    "    if(i%7!=0):\n",
    "        continue   #碰到不能被7整除的數字就跳過這一輪的迴圈，執行下一輪的迴圈\n",
    "    print ('{0:d}'.format(i), end=' ')\n"
   ]
  },
  {
   "cell_type": "code",
   "execution_count": 12,
   "metadata": {},
   "outputs": [
    {
     "name": "stdout",
     "output_type": "stream",
     "text": [
      "這個程式會印出使用者輸入的起始與結尾數字區間內所有7的倍數\n",
      "請輸入起始數字:22\n",
      "請輸入結尾數字:77\n",
      "28, 35, 42, 49, 56, 63, 70, 77, "
     ]
    }
   ],
   "source": [
    "print('這個程式會印出使用者輸入的起始與結尾數字區間內所有7的倍數')\n",
    "s1=int(input('請輸入起始數字:'))\n",
    "s2=int(input('請輸入結尾數字:'))\n",
    "\n",
    "for i in range(s1,s2+1):\n",
    "    if(i%7==0):\n",
    "        print ('{0:d}'.format(i), end=' ')"
   ]
  },
  {
   "cell_type": "code",
   "execution_count": 20,
   "metadata": {},
   "outputs": [
    {
     "name": "stdout",
     "output_type": "stream",
     "text": [
      "#  \n",
      "# #  \n",
      "# # #  \n",
      "# # # #  \n",
      "# # # # #  \n"
     ]
    }
   ],
   "source": [
    "for i in range(0,5):\n",
    "    for j in range(0,i+1):\n",
    "        print('#', end=' ')\n",
    "    print(' ')\n"
   ]
  },
  {
   "cell_type": "markdown",
   "metadata": {},
   "source": [
    "<font size=\"3\" face=\"Microsoft YaHei\"><b>demo#3</b></font><br>\n",
    "<font size=\"3\" face=\"Microsoft YaHei\"><br>"
   ]
  },
  {
   "cell_type": "code",
   "execution_count": 21,
   "metadata": {},
   "outputs": [
    {
     "name": "stdout",
     "output_type": "stream",
     "text": [
      "巢狀迴圈1\n",
      "外層第 1 次for迴圈,內層的for迴圈會執行 5 次: #####\n",
      "外層第 2 次for迴圈,內層的for迴圈會執行 5 次: #####\n",
      "外層第 3 次for迴圈,內層的for迴圈會執行 5 次: #####\n",
      "外層第 4 次for迴圈,內層的for迴圈會執行 5 次: #####\n",
      "外層第 5 次for迴圈,內層的for迴圈會執行 5 次: #####\n",
      "------------------------------\n",
      "巢狀迴圈2\n",
      "外層第 1 次for迴圈,內層的for迴圈會執行 1 次: #\n",
      "外層第 2 次for迴圈,內層的for迴圈會執行 2 次: ##\n",
      "外層第 3 次for迴圈,內層的for迴圈會執行 3 次: ###\n",
      "外層第 4 次for迴圈,內層的for迴圈會執行 4 次: ####\n",
      "外層第 5 次for迴圈,內層的for迴圈會執行 5 次: #####\n"
     ]
    }
   ],
   "source": [
    "#Programming 101\n",
    "#week10\n",
    "#demo3\n",
    "#巢狀迴圈\n",
    "\n",
    "\n",
    "print ('巢狀迴圈1')\n",
    "for x in range(1,6): #外層迴圈，計數器中有1,2,3,4,5\n",
    "    print('外層第',x,'次for迴圈,內層的for迴圈會執行',5,'次: ',end=\"\")\n",
    "    for y in range(1,6): #內層迴圈，計數器中有1,2,3,4,5\n",
    "        print (\"#\",end=\"\")\n",
    "    print ()\n",
    "\n",
    "print ('-'*30)\n",
    "print ('巢狀迴圈2')\n",
    "for x in range(1,6): #外層迴圈，計數器中有1,2,3,4,5\n",
    "    print('外層第',x,'次for迴圈,內層的for迴圈會執行',x,'次: ',end=\"\")\n",
    "    for y in range(1,x+1): #內層迴圈\n",
    "        print (\"#\",end=\"\")\n",
    "    print ()\n",
    "    \n"
   ]
  },
  {
   "cell_type": "code",
   "execution_count": 29,
   "metadata": {},
   "outputs": [
    {
     "name": "stdout",
     "output_type": "stream",
     "text": [
      "(0, 0) (0, 1) (0, 2) (0, 3) (0, 4)  \n",
      "(1, 0) (1, 1) (1, 2) (1, 3) (1, 4)  \n",
      "(2, 0) (2, 1) (2, 2) (2, 3) (2, 4)  \n",
      "(3, 0) (3, 1) (3, 2) (3, 3) (3, 4)  \n",
      "(4, 0) (4, 1) (4, 2) (4, 3) (4, 4)  \n",
      "\n",
      "(0,0)  \n",
      "(1,0) (1,1)  \n",
      "(2,0) (2,1) (2,2)  \n",
      "(3,0) (3,1) (3,2) (3,3)  \n",
      "(4,0) (4,1) (4,2) (4,3) (4,4)  \n"
     ]
    }
   ],
   "source": [
    "for i in range(0,5):\n",
    "    for j in range(0,5):\n",
    "        #print('({0:d},{1:d})'.format(i,j), end=' ')\n",
    "        print((i,j), end=' ')\n",
    "    print(' ')\n",
    "    \n",
    "print()\n",
    "    \n",
    "for i in range(0,5):\n",
    "    for j in range(0,i+1):\n",
    "        print('({0:d},{1:d})'.format(i,j), end=' ')\n",
    "    print(' ')"
   ]
  },
  {
   "cell_type": "markdown",
   "metadata": {},
   "source": [
    "<font size=\"3\" face=\"Microsoft YaHei\"><b>work#1</b></font><br>\n",
    "<font size=\"3\" face=\"Microsoft YaHei\"><br>"
   ]
  },
  {
   "cell_type": "code",
   "execution_count": 45,
   "metadata": {},
   "outputs": [
    {
     "name": "stdout",
     "output_type": "stream",
     "text": [
      "九九乘法表開始\n",
      "1x1= 1 1x2= 2 1x3= 3 1x4= 4 1x5= 5 1x6= 6 1x7= 7 1x8= 8 1x9= 9  \n",
      "2x1= 2 2x2= 4 2x3= 6 2x4= 8 2x5=10 2x6=12 2x7=14 2x8=16 2x9=18  \n",
      "3x1= 3 3x2= 6 3x3= 9 3x4=12 3x5=15 3x6=18 3x7=21 3x8=24 3x9=27  \n",
      "4x1= 4 4x2= 8 4x3=12 4x4=16 4x5=20 4x6=24 4x7=28 4x8=32 4x9=36  \n",
      "5x1= 5 5x2=10 5x3=15 5x4=20 5x5=25 5x6=30 5x7=35 5x8=40 5x9=45  \n",
      "6x1= 6 6x2=12 6x3=18 6x4=24 6x5=30 6x6=36 6x7=42 6x8=48 6x9=54  \n",
      "7x1= 7 7x2=14 7x3=21 7x4=28 7x5=35 7x6=42 7x7=49 7x8=56 7x9=63  \n",
      "8x1= 8 8x2=16 8x3=24 8x4=32 8x5=40 8x6=48 8x7=56 8x8=64 8x9=72  \n",
      "9x1= 9 9x2=18 9x3=27 9x4=36 9x5=45 9x6=54 9x7=63 9x8=72 9x9=81  \n",
      "九九乘法表結束\n"
     ]
    }
   ],
   "source": [
    "print(\"九九乘法表開始\")\n",
    "for i in range(1,10):\n",
    "    for j in range(1,10):\n",
    "        print('{0:1d}x{1:1d}={2:2d}'.format(i,j,(i*j)), end=' ')\n",
    "    print(' ')\n",
    "print(\"九九乘法表結束\")"
   ]
  },
  {
   "cell_type": "markdown",
   "metadata": {},
   "source": [
    "<font size=\"3\" face=\"Microsoft YaHei\"><b>demo#4</b></font><br>\n",
    "<font size=\"3\" face=\"Microsoft YaHei\"><br>"
   ]
  },
  {
   "cell_type": "code",
   "execution_count": 35,
   "metadata": {},
   "outputs": [],
   "source": [
    "data3=[49,52,13,13,13,78,24,13]"
   ]
  },
  {
   "cell_type": "code",
   "execution_count": 36,
   "metadata": {},
   "outputs": [
    {
     "name": "stdout",
     "output_type": "stream",
     "text": [
      "13\n",
      "78\n"
     ]
    }
   ],
   "source": [
    "#11 #挑選出串列中最小的數字\n",
    "print(min(data3))\n",
    "#12 #挑選出串列中最大的數字\n",
    "print(max(data3))"
   ]
  },
  {
   "cell_type": "markdown",
   "metadata": {},
   "source": [
    "<font size=\"3\" face=\"Microsoft YaHei\"><b>work#2</b></font><br>\n",
    "<font size=\"3\" face=\"Microsoft YaHei\">請用python的語法來改寫以下的micro:bit積木程式，使程式的輸出結果為：<br>"
   ]
  },
  {
   "cell_type": "code",
   "execution_count": 49,
   "metadata": {},
   "outputs": [
    {
     "name": "stdout",
     "output_type": "stream",
     "text": [
      "John is 12 years old.\n",
      "Bob is 19 years old.\n",
      "Cindy is 18 years old.\n"
     ]
    }
   ],
   "source": [
    "list_num=[\"John\",\"Bob\",\"Cindy\"]\n",
    "list_age=[12,19,18]\n",
    "for i in range(len(list_num)):\n",
    "    print(\"{0:s} is {1:2d} years old.\".format(list_num[i],list_age[i]))"
   ]
  },
  {
   "cell_type": "markdown",
   "metadata": {},
   "source": [
    "<font size=\"4\" face=\"Microsoft YaHei\"><b>TUPLE (元組、序對)</b></font><br>\n",
    "<font size=\"3\" face=\"Microsoft YaHei\">tuple名稱= (元素1, 元素2,….)<br>\n",
    "• 可以包含不同資料型態的元素<br>\n"
   ]
  },
  {
   "cell_type": "code",
   "execution_count": 40,
   "metadata": {},
   "outputs": [
    {
     "name": "stdout",
     "output_type": "stream",
     "text": [
      "<class 'tuple'> () type(data)\n",
      "<class 'tuple'> (15,) type(a)\n",
      "<class 'int'> 15 type(b)\n",
      "('Mary', 25, [12, 90])\n",
      "((12, 22), 'July')\n"
     ]
    }
   ],
   "source": [
    "data=()\n",
    "print(type(data),data,'type(data)')\n",
    "a=(15,) ; b=(15)\n",
    "print(type(a),a,'type(a)')\n",
    "print(type(b),b,'type(b)')\n",
    "data1=('Mary', 25, [12,90])\n",
    "print(data1)\n",
    "data2=((12,22), 'July')\n",
    "print(data2)"
   ]
  },
  {
   "cell_type": "markdown",
   "metadata": {},
   "source": [
    "<font size=\"3\" face=\"Microsoft YaHei\">• 字串轉為tuple<br>\n",
    "• List轉為tuple<br>\n",
    "• 可以用元素的索引值來進行tuple的切片<br>\n",
    "• 可以用len()函數來取得tuple中總共有幾個元素<br>\n",
    "• tuple的排序<br>"
   ]
  },
  {
   "cell_type": "markdown",
   "metadata": {},
   "source": [
    "<font size=\"3\" face=\"Microsoft YaHei\"><b>TUPLE與LIST的差異</b></font><br>\n",
    "<font size=\"3\" face=\"Microsoft YaHei\"><br>\n",
    "• 不可變vs 可變<br>\n",
    "• tuple內的元素只能讀取，無法修改。<br>\n",
    "• 不可透過索引值來重新指派其中一個元素的值。<br>"
   ]
  },
  {
   "cell_type": "code",
   "execution_count": 1,
   "metadata": {},
   "outputs": [
    {
     "ename": "TypeError",
     "evalue": "'tuple' object does not support item assignment",
     "output_type": "error",
     "traceback": [
      "\u001b[1;31m---------------------------------------------------------------------------\u001b[0m",
      "\u001b[1;31mTypeError\u001b[0m                                 Traceback (most recent call last)",
      "\u001b[1;32m<ipython-input-1-032a65847068>\u001b[0m in \u001b[0;36m<module>\u001b[1;34m\u001b[0m\n\u001b[0;32m      1\u001b[0m \u001b[0mtuple1\u001b[0m\u001b[1;33m=\u001b[0m\u001b[1;33m(\u001b[0m\u001b[1;36m43\u001b[0m\u001b[1;33m,\u001b[0m\u001b[1;36m22\u001b[0m\u001b[1;33m,\u001b[0m\u001b[1;36m99\u001b[0m\u001b[1;33m,\u001b[0m\u001b[1;36m12\u001b[0m\u001b[1;33m)\u001b[0m\u001b[1;33m\u001b[0m\u001b[1;33m\u001b[0m\u001b[0m\n\u001b[1;32m----> 2\u001b[1;33m \u001b[0mtuple1\u001b[0m\u001b[1;33m[\u001b[0m\u001b[1;33m-\u001b[0m\u001b[1;36m1\u001b[0m\u001b[1;33m]\u001b[0m\u001b[1;33m=\u001b[0m\u001b[1;36m44\u001b[0m\u001b[1;33m\u001b[0m\u001b[1;33m\u001b[0m\u001b[0m\n\u001b[0m\u001b[0;32m      3\u001b[0m \u001b[0mtuple1\u001b[0m\u001b[1;33m.\u001b[0m\u001b[0mappend\u001b[0m\u001b[1;33m(\u001b[0m\u001b[1;36m44\u001b[0m\u001b[1;33m)\u001b[0m\u001b[1;33m\u001b[0m\u001b[1;33m\u001b[0m\u001b[0m\n",
      "\u001b[1;31mTypeError\u001b[0m: 'tuple' object does not support item assignment"
     ]
    }
   ],
   "source": [
    "tuple1=(43,22,99,12)\n",
    "tuple1[-1]=44\n",
    "tuple1.append(44)"
   ]
  },
  {
   "cell_type": "markdown",
   "metadata": {},
   "source": []
  },
  {
   "cell_type": "code",
   "execution_count": 2,
   "metadata": {},
   "outputs": [
    {
     "name": "stdout",
     "output_type": "stream",
     "text": [
      "John is 12 years old.\n",
      "Bob is 19 years old.\n",
      "Cindy is 18 years old.\n"
     ]
    }
   ],
   "source": [
    "list_num=[\"John\",\"Bob\",\"Cindy\"]\n",
    "list_age=[12,19,18]\n",
    "for value in list_num:\n",
    "    i=list_num.index(value)\n",
    "    print(\"{0:s} is {1:2d} years old.\".format(list_num[i],list_age[i]))\n"
   ]
  },
  {
   "cell_type": "code",
   "execution_count": null,
   "metadata": {},
   "outputs": [],
   "source": []
  }
 ],
 "metadata": {
  "kernelspec": {
   "display_name": "Python 3",
   "language": "python",
   "name": "python3"
  },
  "language_info": {
   "codemirror_mode": {
    "name": "ipython",
    "version": 3
   },
   "file_extension": ".py",
   "mimetype": "text/x-python",
   "name": "python",
   "nbconvert_exporter": "python",
   "pygments_lexer": "ipython3",
   "version": "3.6.9"
  }
 },
 "nbformat": 4,
 "nbformat_minor": 2
}
