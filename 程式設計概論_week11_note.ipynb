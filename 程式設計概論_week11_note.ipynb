{
 "cells": [
  {
   "cell_type": "markdown",
   "metadata": {},
   "source": [
    "<font size=\"4\" face=\"Microsoft YaHei\"><b>字典(DICT)</b></font><br>\n",
    "<font size=\"3\" face=\"Microsoft YaHei\">字典名稱= { key1 : value1 , key2 : value2 , …}<br><br>\n",
    "• 透過Key與Value的組合來操作資料。透過Key來讀取Value。<br>\n",
    "• Key可以是整數、浮點數、字串的資料型態。<br>\n",
    "• Value可以是任意的資料型態。<br>\n",
    "• 字典中的Key不可重複。<br>\n"
   ]
  },
  {
   "cell_type": "markdown",
   "metadata": {},
   "source": [
    "<font size=\"3\" face=\"Microsoft YaHei\"><b>字典(DICT)常用函數</b></font><br><br>\n",
    "<font size=\"3\" face=\"Microsoft YaHei\">len()<br>\n",
    "dict_name.copy()<br>\n",
    "dict_name.get(key)<br>\n",
    "in<br>\n",
    "dict_name.keys()<br>\n",
    "dict_name.values()<br>\n",
    "dict_name.items()<br>\n",
    "clear()<br>"
   ]
  },
  {
   "cell_type": "markdown",
   "metadata": {},
   "source": [
    "<font size=\"3\" face=\"Microsoft YaHei\"><b>• 字典的宣告</b></font>"
   ]
  },
  {
   "cell_type": "code",
   "execution_count": 1,
   "metadata": {},
   "outputs": [
    {
     "name": "stdout",
     "output_type": "stream",
     "text": [
      "<class 'dict'>\n",
      "{'Apple': 50, 'Orange': 20, 'Banana': 15}\n",
      "{1.1: 50, 1.2: 20, 1.3: 15}\n",
      "{1: 50, 2: 20, 3: 15}\n"
     ]
    }
   ],
   "source": [
    "dict1={}\n",
    "dict2=dict()\n",
    "dict3={'Apple':50,'Orange':20,'Banana':15}\n",
    "dict4={1.1:50,1.2:20,1.3:15}\n",
    "dict5={1:50,2:20,3:15}\n",
    "print(type(dict5))\n",
    "print(dict3)\n",
    "print(dict4)\n",
    "print(dict5)\n"
   ]
  },
  {
   "cell_type": "markdown",
   "metadata": {},
   "source": [
    "<font size=\"3\" face=\"Microsoft YaHei\"><b>• 字典的讀取</b></font>"
   ]
  },
  {
   "cell_type": "code",
   "execution_count": 2,
   "metadata": {},
   "outputs": [
    {
     "name": "stdout",
     "output_type": "stream",
     "text": [
      "20\n",
      "20\n",
      "20\n"
     ]
    }
   ],
   "source": [
    "#\n",
    "print(dict3['Orange'])\n",
    "print(dict4[1.2])\n",
    "print(dict5[2])"
   ]
  },
  {
   "cell_type": "markdown",
   "metadata": {},
   "source": [
    "<font size=\"3\" face=\"Microsoft YaHei\"><b>• 增加新的字典元素</b></font>"
   ]
  },
  {
   "cell_type": "code",
   "execution_count": 3,
   "metadata": {},
   "outputs": [
    {
     "name": "stdout",
     "output_type": "stream",
     "text": [
      "{1.1: 50, 1.2: 20, 1.3: 15, 'Lemon': 75}\n"
     ]
    }
   ],
   "source": [
    "#\n",
    "dict4['Lemon']=75\n",
    "print(dict4)"
   ]
  },
  {
   "cell_type": "markdown",
   "metadata": {},
   "source": [
    "<font size=\"3\" face=\"Microsoft YaHei\"><b>• 修改字典內的值</b></font>"
   ]
  },
  {
   "cell_type": "code",
   "execution_count": 4,
   "metadata": {},
   "outputs": [
    {
     "name": "stdout",
     "output_type": "stream",
     "text": [
      "{1.1: 50, 1.2: 20, 1.3: 15, 'Lemon': 60}\n"
     ]
    }
   ],
   "source": [
    "#\n",
    "dict4['Lemon']=60\n",
    "print(dict4)"
   ]
  },
  {
   "cell_type": "markdown",
   "metadata": {},
   "source": [
    "<font size=\"3\" face=\"Microsoft YaHei\"><b>• 刪除字典內某個元素</b></font>"
   ]
  },
  {
   "cell_type": "code",
   "execution_count": 5,
   "metadata": {},
   "outputs": [
    {
     "name": "stdout",
     "output_type": "stream",
     "text": [
      "{1.1: 50, 1.2: 20, 1.3: 15}\n"
     ]
    }
   ],
   "source": [
    "#\n",
    "del dict4['Lemon']\n",
    "print(dict4)"
   ]
  },
  {
   "cell_type": "markdown",
   "metadata": {},
   "source": [
    "<font size=\"3\" face=\"Microsoft YaHei\"><b> • 刪除整個字典</b></font>"
   ]
  },
  {
   "cell_type": "code",
   "execution_count": 12,
   "metadata": {},
   "outputs": [
    {
     "ename": "NameError",
     "evalue": "name 'dict5' is not defined",
     "output_type": "error",
     "traceback": [
      "\u001b[1;31m---------------------------------------------------------------------------\u001b[0m",
      "\u001b[1;31mNameError\u001b[0m                                 Traceback (most recent call last)",
      "\u001b[1;32m<ipython-input-12-9852581cfef3>\u001b[0m in \u001b[0;36m<module>\u001b[1;34m\u001b[0m\n\u001b[0;32m      1\u001b[0m \u001b[1;31m#\u001b[0m\u001b[1;33m\u001b[0m\u001b[1;33m\u001b[0m\u001b[1;33m\u001b[0m\u001b[0m\n\u001b[1;32m----> 2\u001b[1;33m \u001b[1;32mdel\u001b[0m \u001b[0mdict5\u001b[0m\u001b[1;33m\u001b[0m\u001b[1;33m\u001b[0m\u001b[0m\n\u001b[0m\u001b[0;32m      3\u001b[0m \u001b[1;31m#print(dict5) #error\u001b[0m\u001b[1;33m\u001b[0m\u001b[1;33m\u001b[0m\u001b[1;33m\u001b[0m\u001b[0m\n",
      "\u001b[1;31mNameError\u001b[0m: name 'dict5' is not defined"
     ]
    }
   ],
   "source": [
    "del dict5\n",
    "#print(dict5) #error"
   ]
  },
  {
   "cell_type": "markdown",
   "metadata": {},
   "source": [
    "<font size=\"3\" face=\"Microsoft YaHei\"><b> • 清空字典內的元素</b></font>"
   ]
  },
  {
   "cell_type": "code",
   "execution_count": 15,
   "metadata": {},
   "outputs": [
    {
     "name": "stdout",
     "output_type": "stream",
     "text": [
      "{}\n"
     ]
    }
   ],
   "source": [
    "#\n",
    "dict4.clear()\n",
    "print(dict4)"
   ]
  },
  {
   "cell_type": "markdown",
   "metadata": {},
   "source": [
    "<font size=\"3\" face=\"Microsoft YaHei\"><b> • 字典常用的函數</b></font>"
   ]
  },
  {
   "cell_type": "code",
   "execution_count": 16,
   "metadata": {},
   "outputs": [
    {
     "name": "stdout",
     "output_type": "stream",
     "text": [
      "3\n"
     ]
    }
   ],
   "source": [
    "#\n",
    "print(len(dict3))"
   ]
  },
  {
   "cell_type": "code",
   "execution_count": 17,
   "metadata": {},
   "outputs": [
    {
     "name": "stdout",
     "output_type": "stream",
     "text": [
      "{'Apple': 50, 'Orange': 20, 'Banana': 15}\n"
     ]
    }
   ],
   "source": [
    "dict4=dict3.copy()\n",
    "print(dict4)"
   ]
  },
  {
   "cell_type": "code",
   "execution_count": 21,
   "metadata": {},
   "outputs": [
    {
     "name": "stdout",
     "output_type": "stream",
     "text": [
      "20\n",
      "None\n",
      "找不到這個水果對應的值\n"
     ]
    }
   ],
   "source": [
    "print(dict4.get('Orange'))\n",
    "print(dict4.get('Lemon'))\n",
    "print(dict4.get('Lemon','找不到這個水果對應的值'))"
   ]
  },
  {
   "cell_type": "code",
   "execution_count": 22,
   "metadata": {},
   "outputs": [
    {
     "name": "stdout",
     "output_type": "stream",
     "text": [
      "False\n",
      "True\n"
     ]
    }
   ],
   "source": [
    "print('Lemon' in dict4)\n",
    "print('Apple' in dict4)"
   ]
  },
  {
   "cell_type": "code",
   "execution_count": 24,
   "metadata": {},
   "outputs": [
    {
     "name": "stdout",
     "output_type": "stream",
     "text": [
      "dict_keys(['Apple', 'Orange', 'Banana'])\n",
      "\n",
      "dict_values([50, 20, 15])\n",
      "\n",
      "dict_items([('Apple', 50), ('Orange', 20), ('Banana', 15)])\n"
     ]
    }
   ],
   "source": [
    "print(dict4.keys())\n",
    "print()\n",
    "print(dict4.values())\n",
    "print()\n",
    "print(dict4.items())"
   ]
  },
  {
   "cell_type": "markdown",
   "metadata": {},
   "source": [
    "<font size=\"3\" face=\"Microsoft YaHei\"><b> • 字典中的Key如果重複</b></font>"
   ]
  },
  {
   "cell_type": "code",
   "execution_count": 19,
   "metadata": {},
   "outputs": [
    {
     "name": "stdout",
     "output_type": "stream",
     "text": [
      "90\n"
     ]
    }
   ],
   "source": [
    "#了...\n",
    "dict6={1:50,2:20,3:15,2:90}\n",
    "print(dict6.get(2))"
   ]
  },
  {
   "cell_type": "markdown",
   "metadata": {},
   "source": [
    "<font size=\"3\" face=\"Microsoft YaHei\"> <b>Ex</b> 運用字典來印出</font><br>\n",
    "John is 12 years old<br>\n",
    "Bob is 19 years old<br>\n",
    "Cindy is 18 years old<br>"
   ]
  },
  {
   "cell_type": "code",
   "execution_count": 30,
   "metadata": {},
   "outputs": [
    {
     "name": "stdout",
     "output_type": "stream",
     "text": [
      "John is 12 years old.\n",
      "Bob is 19 years old.\n",
      "Cindy is 18 years old.\n"
     ]
    }
   ],
   "source": [
    "list_num=[\"John\",\"Bob\",\"Cindy\"]\n",
    "list_age=[12,19,18]\n",
    "for value in list_num:\n",
    "    i=list_num.index(value)\n",
    "    print(\"{0:s} is {1:2d} years old.\".format(list_num[i],list_age[i]))"
   ]
  },
  {
   "cell_type": "code",
   "execution_count": 26,
   "metadata": {},
   "outputs": [],
   "source": [
    "name_age={\"John\":12,\"Bob\":19,\"Cindy\":18}"
   ]
  },
  {
   "cell_type": "code",
   "execution_count": 27,
   "metadata": {},
   "outputs": [
    {
     "name": "stdout",
     "output_type": "stream",
     "text": [
      "第一種寫法:\n",
      "for迴圈計數器的內容: dict_keys(['John', 'Bob', 'Cindy'])\n",
      "John is 12 years old\n",
      "Bob is 19 years old\n",
      "Cindy is 18 years old\n"
     ]
    }
   ],
   "source": [
    "#第一種寫法\n",
    "print(\"第一種寫法:\")\n",
    "print(\"for迴圈計數器的內容:\",name_age.keys())\n",
    "for name in name_age.keys():\n",
    "    print('{0:s} is {1:d} years old'.format(name, name_age[name]))"
   ]
  },
  {
   "cell_type": "code",
   "execution_count": 28,
   "metadata": {},
   "outputs": [
    {
     "name": "stdout",
     "output_type": "stream",
     "text": [
      "第二種寫法:\n",
      "for迴圈計數器的內容: dict_items([('John', 12), ('Bob', 19), ('Cindy', 18)])\n",
      "John is 12 years old\n",
      "Bob is 19 years old\n",
      "Cindy is 18 years old\n"
     ]
    }
   ],
   "source": [
    "#第二種寫法\n",
    "print(\"第二種寫法:\")\n",
    "print(\"for迴圈計數器的內容:\",name_age.items())\n",
    "for name,age in name_age.items():\n",
    "    print(name,'is',age,'years old')\n"
   ]
  },
  {
   "cell_type": "code",
   "execution_count": 29,
   "metadata": {},
   "outputs": [
    {
     "name": "stdout",
     "output_type": "stream",
     "text": [
      "第三種寫法:\n",
      "for迴圈計數器的內容: {'John': 12, 'Bob': 19, 'Cindy': 18}\n",
      "John is 12 years old\n",
      "Bob is 19 years old\n",
      "Cindy is 18 years old\n"
     ]
    }
   ],
   "source": [
    "#第三種寫法\n",
    "print(\"第三種寫法:\")\n",
    "print(\"for迴圈計數器的內容:\",name_age)\n",
    "for name in name_age:\n",
    "    print('%s is %d years old'%(name, name_age[name]))"
   ]
  },
  {
   "cell_type": "markdown",
   "metadata": {},
   "source": [
    "<font size=\"3\" face=\"Microsoft YaHei\"><b>work#1</b></font><br>\n",
    "<font size=\"3\" face=\"Microsoft YaHei\">請先運用字典這個資料型態，建立一個簡單的英漢字典，裡面包括了以下的英翻中資料：<br>\n",
    "• ‘angel’: ‘天使’<br>\n",
    "• ‘angle’: ‘角度’<br>\n",
    "• ‘cat’: ‘貓’<br>\n",
    "• ‘dog’: ‘狗’<br>\n",
    "這個字典須具備以下的功能：<br>\n",
    "• 讓使用者輸入要查詢的英文單字<br>\n",
    "• 將使用者輸入的英文單字所對應的中文印出<br>\n",
    "• 如果字典中找不到使用者輸入的英文單字就印出“查不到這個英文單字”<br>\n",
    "• 最後運用for迴圈將這個字典的內容一筆一筆以英中對照的方式印出來<br>"
   ]
  },
  {
   "cell_type": "code",
   "execution_count": 2,
   "metadata": {},
   "outputs": [],
   "source": [
    "dict_w1={'angel':'天使','angle':'角度','cat':'貓','dog':'狗'}"
   ]
  },
  {
   "cell_type": "code",
   "execution_count": 5,
   "metadata": {},
   "outputs": [
    {
     "name": "stdout",
     "output_type": "stream",
     "text": [
      "輸入要查詢的英文單字22\n",
      "你輸入的是22:\n",
      "查不到這個英文單字\n"
     ]
    }
   ],
   "source": [
    "search=input('輸入要查詢的英文單字')\n",
    "print('你輸入的是:{0:s}'.format(search))\n",
    "print(dict_w1.get(search,'查不到這個英文單字'))"
   ]
  },
  {
   "cell_type": "code",
   "execution_count": 6,
   "metadata": {},
   "outputs": [
    {
     "name": "stdout",
     "output_type": "stream",
     "text": [
      "angel是天使\n",
      "angle是角度\n",
      "cat是貓\n",
      "dog是狗\n"
     ]
    }
   ],
   "source": [
    "for vocabulary in dict_w1.keys():\n",
    "    print('{0:s}是{1:s}'.format(vocabulary,dict_w1[vocabulary]))"
   ]
  },
  {
   "cell_type": "markdown",
   "metadata": {},
   "source": [
    "<font size=\"4\" face=\"Microsoft YaHei\"><b>標準函數庫(內建模組)</b></font><br>\n",
    "<font size=\"3\" face=\"Microsoft YaHei\">匯入模組的寫法<br>\n",
    "random<br>\n",
    "time<br>\n",
    "calendar<br>\n",
    "math<br>\n",
    "(參見demo3,4,5,6)"
   ]
  },
  {
   "cell_type": "code",
   "execution_count": 7,
   "metadata": {},
   "outputs": [],
   "source": [
    "import random as rn\n",
    "import time as t\n",
    "import calendar as cl\n",
    "import math"
   ]
  },
  {
   "cell_type": "markdown",
   "metadata": {},
   "source": [
    "<font size=\"3\" face=\"Microsoft YaHei\"><b>demo7</b></font><br>"
   ]
  },
  {
   "cell_type": "code",
   "execution_count": 110,
   "metadata": {},
   "outputs": [
    {
     "name": "stdout",
     "output_type": "stream",
     "text": [
      "----------date----------\n",
      "2019-11-01\n",
      "\n",
      "印出屬性:天: 1\n",
      "印出屬性:年分: 2019\n",
      "印出屬性:月份: 11\n",
      "\n",
      "以字串回傳「星期  月  日 時:分:秒 年」: Fri Nov  1 00:00:00 2019\n",
      "重設年月日: 2019-01-01\n",
      "回傳星期幾，0代表星期一: 1\n",
      "回傳星期幾，1代表星期一: 2\n",
      "\n",
      "以今天的日期來宣告一個date物件: 2019-11-19\n",
      "\n",
      "以tuple方式回傳時間結構:\n",
      " time.struct_time(tm_year=2019, tm_mon=11, tm_mday=19, tm_hour=0, tm_min=0, tm_sec=0, tm_wday=1, tm_yday=323, tm_isdst=-1)\n",
      "兩個date物件相減:\n",
      "以天數來印出兩個日期間的差距: -322\n"
     ]
    }
   ],
   "source": [
    "from datetime import *\n",
    "\n",
    "#date類別\n",
    "print(\"-\"*10+\"date\"+\"-\"*10)\n",
    "d1=date(2019,11,1)   #宣告一個date物件d1\n",
    "print(d1)\n",
    "print()\n",
    "\n",
    "print('印出屬性:天:',d1.day)#印出屬性:天\n",
    "print('印出屬性:年分:',d1.year) #印出屬性:年分\n",
    "print('印出屬性:月份:',d1.month) #印出屬性:月份\n",
    "print()\n",
    "\n",
    "print('以字串回傳「星期  月  日 時:分:秒 年」:',d1.ctime())  #以字串回傳「星期  月  日 時:分:秒 年」\n",
    "d1=d1.replace(2019,1,1)  #\n",
    "print('重設年月日:',d1)  \n",
    "print('回傳星期幾，0代表星期一:',d1.weekday()) #\n",
    "print('回傳星期幾，1代表星期一:',d1.isoweekday()) #\n",
    "print()\n",
    "\n",
    "d2=date.today()   #\n",
    "print('以今天的日期來宣告一個date物件:',d2);\n",
    "print()\n",
    "\n",
    "td2=d2.timetuple()  #\n",
    "print('以tuple方式回傳時間結構:\\n',td2)\n",
    "\n",
    "diff=d1-d2 ;print('兩個date物件相減:')        #\n",
    "print('以天數來印出兩個日期間的差距:',diff.days) #"
   ]
  },
  {
   "cell_type": "code",
   "execution_count": 100,
   "metadata": {},
   "outputs": [
    {
     "name": "stdout",
     "output_type": "stream",
     "text": [
      "----------time----------\n",
      "00:00:00\n",
      "15:20:50\n",
      "20:20:50\n"
     ]
    }
   ],
   "source": [
    "#time類別\n",
    "print(\"-\"*10+\"time\"+\"-\"*10)\n",
    "t0=time()   #宣告一個time物件t0\n",
    "print(t0)\n",
    "t1=time(15,20,50)  #宣告一個time物件t1\n",
    "print(t1)\n",
    "t1=t1.replace(20,20,50)  #重設時間\n",
    "print(t1)"
   ]
  },
  {
   "cell_type": "code",
   "execution_count": 107,
   "metadata": {},
   "outputs": [
    {
     "name": "stdout",
     "output_type": "stream",
     "text": [
      "----------datetime----------\n",
      "傳回當下的日期和時間: 2019-11-19 17:27:39.743164\n",
      "傳回當下的日期和時間: 2019-11-19 17:27:39.743164\n",
      "屬性year: 2019\n",
      "屬性month: 11\n",
      "屬性day: 19\n",
      "屬性hour: 17\n",
      "屬性minute: 27\n",
      "屬性second: 39\n",
      "將date物件和time物件組合成一個datetime物件: 2019-01-01 20:20:50\n",
      "兩個datetime物件相減產生timedelta的物件\n",
      "屬性days，將兩個日期間的差距以天數的方式顯示: -322\n",
      "----------others----------\n",
      "<class 'datetime.datetime'>\n",
      "<class 'datetime.date'>\n",
      "<class 'datetime.time'>\n",
      "True : dt1, datetime是否為同一類型\n",
      "True : d1, date是否為同一類型\n",
      "True : t1, time是否為同一類型\n",
      "True : df.days, int是否為同一類型\n"
     ]
    }
   ],
   "source": [
    "#datetime類別\n",
    "print(\"-\"*10+\"datetime\"+\"-\"*10)\n",
    "td=datetime.today()   #傳回當下的日期和時間\n",
    "now=datetime.now()    #傳回當下的日期和時間\n",
    "print('傳回當下的日期和時間:',td)\n",
    "print('傳回當下的日期和時間:',now)\n",
    "print('屬性year:',now.year)       #屬性year\n",
    "print('屬性month:',now.month)      #屬性month\n",
    "print('屬性day:',now.day)        #屬性day\n",
    "print('屬性hour:',now.hour)       #屬性hour\n",
    "print('屬性minute:',now.minute)     #屬性minute\n",
    "print('屬性second:',now.second)     #屬性second\n",
    "dt1=datetime.combine(d1,t1)   #將date物件和time物件組合成一個datetime物件\n",
    "print('將date物件和time物件組合成一個datetime物件:',dt1)\n",
    "df=dt1-now            #兩個datetime物件相減產生timedelta的物件\n",
    "print('兩個datetime物件相減產生timedelta的物件\\n屬性days，將兩個日期間的差距以天數的方式顯示:',df.days)        #屬性days，將兩個日期間的差距以天數的方式顯示\n",
    "\n",
    "print(\"-\"*10+\"others\"+\"-\"*10)\n",
    "print(type(dt1))\n",
    "print(type(d1))\n",
    "print(type(t1))\n",
    "print(isinstance(dt1, datetime),': dt1, datetime是否為同一類型')\n",
    "print(isinstance(d1, date),': d1, date是否為同一類型')\n",
    "print(isinstance(t1, time),': t1, time是否為同一類型')\n",
    "print(isinstance(df.days, int),': df.days, int是否為同一類型')"
   ]
  },
  {
   "cell_type": "markdown",
   "metadata": {},
   "source": [
    "<font size=\"3\" face=\"Microsoft YaHei\"><b>isinstance(a,b)</b></font><br>\n",
    "<font size=\"3\" face=\"Microsoft YaHei\">用於檢查a,b是否為相同type"
   ]
  },
  {
   "cell_type": "markdown",
   "metadata": {},
   "source": [
    "<font size=\"3\" face=\"Microsoft YaHei\"><b>work#2/小組作業#2</b></font><br>\n",
    "<font size=\"3\" face=\"Microsoft YaHei\">請從moodle的【實作練習】內建模組討論區下載範例程式碼檔案。<br>\n",
    "個別理解每個範例程式後，與小組成員一起完成以下事項，並將小組完成的程式碼回應到【實作練習】內建模組討論區。<br>(主旨請用小組的名稱)<br>\n",
    "1. 請運用time模組的localtime() 取得目前的年份並指派給變數year，將變數year傳給calendar 模組的prcal() 印出當年的日曆。<br>\n",
    "2. 請運用random模組隨機產生一個1~12之間的整數，指派給month這個變數，再把前一題產生的變數year 和變數month 傳給calendar 模組的prmonth()印出這個月份的日曆。<br>\n",
    "3. 請運用random模組從1月份到12月份之間隨機產生4個不重複的月份，並將這4個月份的英文名稱一行一行印出來。<br>"
   ]
  },
  {
   "cell_type": "code",
   "execution_count": null,
   "metadata": {},
   "outputs": [],
   "source": [
    "cl.prcal()"
   ]
  },
  {
   "cell_type": "code",
   "execution_count": 17,
   "metadata": {},
   "outputs": [
    {
     "data": {
      "text/plain": [
       "2019"
      ]
     },
     "execution_count": 17,
     "metadata": {},
     "output_type": "execute_result"
    }
   ],
   "source": [
    "t.localtime()[0]"
   ]
  },
  {
   "cell_type": "code",
   "execution_count": 18,
   "metadata": {},
   "outputs": [
    {
     "name": "stdout",
     "output_type": "stream",
     "text": [
      "                                  2019\n",
      "\n",
      "      January                   February                   March\n",
      "Mo Tu We Th Fr Sa Su      Mo Tu We Th Fr Sa Su      Mo Tu We Th Fr Sa Su\n",
      "    1  2  3  4  5  6                   1  2  3                   1  2  3\n",
      " 7  8  9 10 11 12 13       4  5  6  7  8  9 10       4  5  6  7  8  9 10\n",
      "14 15 16 17 18 19 20      11 12 13 14 15 16 17      11 12 13 14 15 16 17\n",
      "21 22 23 24 25 26 27      18 19 20 21 22 23 24      18 19 20 21 22 23 24\n",
      "28 29 30 31               25 26 27 28               25 26 27 28 29 30 31\n",
      "\n",
      "       April                      May                       June\n",
      "Mo Tu We Th Fr Sa Su      Mo Tu We Th Fr Sa Su      Mo Tu We Th Fr Sa Su\n",
      " 1  2  3  4  5  6  7             1  2  3  4  5                      1  2\n",
      " 8  9 10 11 12 13 14       6  7  8  9 10 11 12       3  4  5  6  7  8  9\n",
      "15 16 17 18 19 20 21      13 14 15 16 17 18 19      10 11 12 13 14 15 16\n",
      "22 23 24 25 26 27 28      20 21 22 23 24 25 26      17 18 19 20 21 22 23\n",
      "29 30                     27 28 29 30 31            24 25 26 27 28 29 30\n",
      "\n",
      "        July                     August                  September\n",
      "Mo Tu We Th Fr Sa Su      Mo Tu We Th Fr Sa Su      Mo Tu We Th Fr Sa Su\n",
      " 1  2  3  4  5  6  7                1  2  3  4                         1\n",
      " 8  9 10 11 12 13 14       5  6  7  8  9 10 11       2  3  4  5  6  7  8\n",
      "15 16 17 18 19 20 21      12 13 14 15 16 17 18       9 10 11 12 13 14 15\n",
      "22 23 24 25 26 27 28      19 20 21 22 23 24 25      16 17 18 19 20 21 22\n",
      "29 30 31                  26 27 28 29 30 31         23 24 25 26 27 28 29\n",
      "                                                    30\n",
      "\n",
      "      October                   November                  December\n",
      "Mo Tu We Th Fr Sa Su      Mo Tu We Th Fr Sa Su      Mo Tu We Th Fr Sa Su\n",
      "    1  2  3  4  5  6                   1  2  3                         1\n",
      " 7  8  9 10 11 12 13       4  5  6  7  8  9 10       2  3  4  5  6  7  8\n",
      "14 15 16 17 18 19 20      11 12 13 14 15 16 17       9 10 11 12 13 14 15\n",
      "21 22 23 24 25 26 27      18 19 20 21 22 23 24      16 17 18 19 20 21 22\n",
      "28 29 30 31               25 26 27 28 29 30         23 24 25 26 27 28 29\n",
      "                                                    30 31\n",
      "\n"
     ]
    }
   ],
   "source": [
    "cl.prcal(t.localtime()[0])"
   ]
  },
  {
   "cell_type": "code",
   "execution_count": 20,
   "metadata": {},
   "outputs": [
    {
     "name": "stdout",
     "output_type": "stream",
     "text": [
      "   February 2019\n",
      "Mo Tu We Th Fr Sa Su\n",
      "             1  2  3\n",
      " 4  5  6  7  8  9 10\n",
      "11 12 13 14 15 16 17\n",
      "18 19 20 21 22 23 24\n",
      "25 26 27 28\n"
     ]
    }
   ],
   "source": [
    "cl.prmonth(t.localtime()[0],rn.randint(1,12)) #prmonth print month"
   ]
  },
  {
   "cell_type": "code",
   "execution_count": 58,
   "metadata": {},
   "outputs": [
    {
     "name": "stdout",
     "output_type": "stream",
     "text": [
      "March\n",
      "November\n",
      "September\n",
      "May\n"
     ]
    }
   ],
   "source": [
    "rn.sample(range(1,13),4)\n",
    "for month_index in rn.sample(range(1,13),4):\n",
    "    print(cl.month_name[month_index])"
   ]
  },
  {
   "cell_type": "markdown",
   "metadata": {},
   "source": [
    "<font size=\"3\" face=\"Microsoft YaHei\"><b>work#3</b></font><br>\n",
    "<font size=\"3\" face=\"Microsoft YaHei\">請先熟悉範例程式7的執行結果，之後完成以下三個項目：<br>\n",
    "1. 請以自己的出生年月日宣告一個date物件，名稱為bd<br>\n",
    "2. 請取得今天的日期，名稱為td<br>\n",
    "3. 請算出從出生到今天為止，生活了幾年又幾天(以一年365天來計算)<br>\n",
    "請以下列格式印出結果:<br>\n",
    "到今天為止已生活了20 年又255 天<br>"
   ]
  },
  {
   "cell_type": "code",
   "execution_count": 111,
   "metadata": {},
   "outputs": [
    {
     "name": "stdout",
     "output_type": "stream",
     "text": [
      "到今天為止已生活了20年又98天\n"
     ]
    }
   ],
   "source": [
    "td=date.today()\n",
    "bd=date(1999,8,18)\n",
    "diffd=td-bd\n",
    "print('到今天為止已生活了{0:d}年又{1:d}天'.format(diffd.days//365,diffd.days%365))"
   ]
  },
  {
   "cell_type": "code",
   "execution_count": 112,
   "metadata": {},
   "outputs": [
    {
     "name": "stdout",
     "output_type": "stream",
     "text": [
      "到今天為止已生活了20年又93天\n"
     ]
    }
   ],
   "source": [
    "dd=diffd.days-cl.leapdays(bd.year,td.year)\n",
    "print('到今天為止已生活了{0:d}年又{1:d}天'.format(dd//365,dd%365))"
   ]
  },
  {
   "cell_type": "code",
   "execution_count": null,
   "metadata": {},
   "outputs": [],
   "source": []
  },
  {
   "cell_type": "code",
   "execution_count": null,
   "metadata": {},
   "outputs": [],
   "source": []
  }
 ],
 "metadata": {
  "kernelspec": {
   "display_name": "Python 3",
   "language": "python",
   "name": "python3"
  },
  "language_info": {
   "codemirror_mode": {
    "name": "ipython",
    "version": 3
   },
   "file_extension": ".py",
   "mimetype": "text/x-python",
   "name": "python",
   "nbconvert_exporter": "python",
   "pygments_lexer": "ipython3",
   "version": "3.6.9"
  }
 },
 "nbformat": 4,
 "nbformat_minor": 2
}
