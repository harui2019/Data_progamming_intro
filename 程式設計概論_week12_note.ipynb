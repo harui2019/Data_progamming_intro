{
 "cells": [
  {
   "cell_type": "markdown",
   "metadata": {},
   "source": [
    "<font size=\"4\" face=\"Microsoft YaHei\"><b>open()</b></font><br>\n",
    "<font size=\"3\" face=\"Microsoft YaHei\">檔案指標變數名稱= open ( filename, mode , encoding )<br><br>\n",
    "• filename: 檔案名稱，可以用絕對路徑或相對路徑來表達<br>\n",
    "• mode: 存取檔案模式<br>\n",
    "• encoding: 編碼，windows系統的中文版預設模式為‘cp950’，建議可以設定為<br>\n",
    "• encoding=‘utf-8’<br>\n"
   ]
  },
  {
   "cell_type": "markdown",
   "metadata": {},
   "source": [
    "<font size=\"3\" face=\"Microsoft YaHei\"><b>相對路徑</b></font><br>\n",
    "<font size=\"3\" face=\"Microsoft YaHei\">D:\\ Python \\ Files \\ text . txt<br><br>\n",
    "• 自磁碟機代號開始\n",
    "    "
   ]
  },
  {
   "cell_type": "markdown",
   "metadata": {},
   "source": [
    "<font size=\"3\" face=\"Microsoft YaHei\"><b>相對路徑</b></font><br>\n",
    "<font size=\"3\" face=\"Microsoft YaHei\">相對於基準位置的路徑<br>\n",
    "假定基準位置為： d:\\python\\  <br><br>\n",
    "相對路徑 ---- 絕對路徑<br>\n",
    "student . txt ---- d:\\python\\student.txt<br>\n",
    "data\\ student . txt ---- d:\\python\\data\\ student.txt<br>\n",
    ".. \\ data \\ student . txt ---- d: \\data\\ student.txt<br>\n",
    "    "
   ]
  },
  {
   "cell_type": "markdown",
   "metadata": {},
   "source": [
    "<font size=\"3\" face=\"Microsoft YaHei\">\n",
    "檔案指標變數名稱= open ( filename, mode , encoding )<br>\n",
    "當使用open函數要指定檔案名稱時：<br>\n",
    "• 以字串的資料型態指定檔案名稱<br>\n",
    "• 若需要指定資料夾路徑時，「\\ 」要使用脫逸字元\\\\<br>\n",
    "例如：file1=open('c:\\\\python\\\\files\\\\poem1.txt', 'a+',  encoding='utf-8')<br>\n",
    "• 若只有檔名，不特別指明資料夾路徑時，則代表該檔案與原始程式碼所在的路徑相同<br>\n",
    "(以原始程式碼所在路徑為基準位置)<br>\n",
    "例如：with open('poem2.txt', 'w+',  encoding='utf-8') as file2:<br>\n",
    "    </font>"
   ]
  },
  {
   "cell_type": "markdown",
   "metadata": {},
   "source": [
    "<font size=\"3\" face=\"Microsoft YaHei\"><b>demo#1</b><br>"
   ]
  },
  {
   "cell_type": "code",
   "execution_count": 10,
   "metadata": {},
   "outputs": [],
   "source": [
    "#第一種寫法\n",
    "file1=open('D:\\\\OneDrive\\\\Documents\\\\大三108上_程式設計概論\\\\week12\\\\poem1.txt', 'a+',  encoding='utf-8')\n",
    "file1.write('《登鸛雀樓》\\n\\n')\n",
    "file1.write('白日依山盡，黃河入海流。\\n')\n",
    "file1.write('欲窮千里目，更上一層樓1。\\n\\n')\n",
    "file1.close()  #用第一種寫法時，檔案讀寫完成後要加close()\n",
    "\n",
    "\n",
    "#第二種寫法，檔案讀寫完成後，可以不用加close()\n",
    "with open('D:\\\\OneDrive\\\\Documents\\\\大三108上_程式設計概論\\\\week12\\\\poem2.txt', 'w+',  encoding='utf-8') as file2:\n",
    "    file2.write('《登鸛雀樓》\\n\\n')\n",
    "    file2.write('白日依山盡，黃河入海流。\\n')\n",
    "    file2.write('欲窮千里目，更上一層樓。\\n\\n')\n",
    "\n"
   ]
  },
  {
   "cell_type": "markdown",
   "metadata": {},
   "source": [
    "<font size=\"3\" face=\"Microsoft YaHei\"><b>work#1</b><br>"
   ]
  },
  {
   "cell_type": "code",
   "execution_count": 11,
   "metadata": {},
   "outputs": [],
   "source": [
    "file_1=open('D:\\\\OneDrive\\\\Documents\\\\大三108上_程式設計概論\\\\week12\\\\程式設計概論_week12_demo.txt','a',encoding='utf-8')\n",
    "file_1.write('Switch on the power line\\n')\n",
    "file_1.write('Remember to put on\\n')\n",
    "file_1.write('PROTECTION.\\n')\n",
    "file_1.write('\\n')\n",
    "file_1.write('Lay down your pieces\\n')\n",
    "file_1.write('And let’s begin\\n')\n",
    "file_1.write('OBJECT CREATION\\n')\n",
    "file_1.close()"
   ]
  },
  {
   "cell_type": "markdown",
   "metadata": {},
   "source": [
    "<font size=\"3\" face=\"Microsoft YaHei\"><b>存取檔案的模式</b><br>\n",
    "mode：說明<br>\n",
    "r：以讀取模式開啟檔案，若檔案不存在，會傳回讀取錯誤。(預設模式)<br>\n",
    "w：以寫入模式開啟檔案，寫入前會先清除原先的檔案內容，如果檔案不存在，會先建立新檔(不可讀取)。<br>\n",
    "a：以附加模式開啟檔案，新寫入的資料會附加在原先檔案內容的後方，如果檔案不存在，會先建立檔案(不可讀取)。<br>\n",
    "r+：以讀寫模式開啟檔案，新寫入的資料會覆蓋原檔案內容，若檔案不存在，會傳回讀寫錯誤。<br>\n",
    "w+：以讀寫模式開啟檔案，寫入前會先清除原先的檔案內容，如果檔案不存在，會先建立新檔。<br>\n",
    "a+：以附加模式開啟檔案，新寫入的資料會附加在原先檔案內容的後方，如果檔案不存在，會先建立檔案。<br>\n",
    "x：以寫入模式開啟檔案，如果檔案不存在，會先建立新檔，如果檔案已存在，會回傳錯誤。<br>"
   ]
  },
  {
   "cell_type": "markdown",
   "metadata": {},
   "source": [
    "<font size=\"3\" face=\"Microsoft YaHei\"><b>demo#2</b><br>"
   ]
  },
  {
   "cell_type": "code",
   "execution_count": 12,
   "metadata": {},
   "outputs": [
    {
     "name": "stdout",
     "output_type": "stream",
     "text": [
      "將檔案內容以串列的方式印出: ['《登鸛雀樓》\\n', '\\n', '白日依山盡，黃河入海流。\\n', '欲窮千里目，更上一層樓。\\n', '\\n']\n",
      "\n",
      "將串列內的每個元素一個一個印出來:\n",
      "《登鸛雀樓》\n",
      "\n",
      "白日依山盡，黃河入海流。\n",
      "欲窮千里目，更上一層樓。\n",
      "\n"
     ]
    }
   ],
   "source": [
    "#開啟一個檔案，把檔案中的資料都讀進來。\n",
    "file1=open('D:\\\\OneDrive\\\\Documents\\\\大三108上_程式設計概論\\\\week12\\\\poem2.txt', 'r', encoding='utf-8')\n",
    "list_lines=file1.readlines() #把檔案內所有的內容讀進一個串列中\n",
    "file1.close()\n",
    "print('將檔案內容以串列的方式印出:', list_lines)  #以串列的型態印出來\n",
    "\n",
    "print('\\n將串列內的每個元素一個一個印出來:')\n",
    "for line in list_lines:\n",
    "    print(line, end='')   #串列內的元素一個一個印出來"
   ]
  },
  {
   "cell_type": "markdown",
   "metadata": {},
   "source": [
    "<font size=\"3\" face=\"Microsoft YaHei\"><b>work#2</b><br>"
   ]
  },
  {
   "cell_type": "code",
   "execution_count": 15,
   "metadata": {},
   "outputs": [
    {
     "name": "stdout",
     "output_type": "stream",
     "text": [
      "將檔案內容以串列的方式印出: ['Switch on the power line\\n', 'Remember to put on\\n', 'PROTECTION.\\n', '\\n', 'Lay down your pieces\\n', 'And let’s begin\\n', 'OBJECT CREATION\\n', 'Switch on the power line\\n', 'Remember to put on\\n', 'PROTECTION.\\n', '\\n', 'Lay down your pieces\\n', 'And let’s begin\\n', 'OBJECT CREATION\\n']\n",
      "\n",
      "\n",
      "將串列內的每個元素一個一個印出來:\n",
      "Switch on the power line\n",
      "Remember to put on\n",
      "PROTECTION.\n",
      "\n",
      "Lay down your pieces\n",
      "And let’s begin\n",
      "OBJECT CREATION\n",
      "Switch on the power line\n",
      "Remember to put on\n",
      "PROTECTION.\n",
      "\n",
      "Lay down your pieces\n",
      "And let’s begin\n",
      "OBJECT CREATION\n"
     ]
    }
   ],
   "source": [
    "file_2=open('D:\\\\OneDrive\\\\Documents\\\\大三108上_程式設計概論\\\\week12\\\\程式設計概論_week12_demo.txt','r',encoding='utf-8')\n",
    "list2_lines=file_2.readlines()\n",
    "file_2.close()\n",
    "\n",
    "print('將檔案內容以串列的方式印出:', list2_lines)\n",
    "print()\n",
    "print('\\n將串列內的每個元素一個一個印出來:')\n",
    "for line in list2_lines:\n",
    "    print(line, end='')"
   ]
  },
  {
   "cell_type": "markdown",
   "metadata": {},
   "source": [
    "<font size=\"3\" face=\"Microsoft YaHei\"><b>小組作業#2</b><br>"
   ]
  },
  {
   "cell_type": "code",
   "execution_count": 33,
   "metadata": {},
   "outputs": [
    {
     "name": "stdout",
     "output_type": "stream",
     "text": [
      "\n"
     ]
    }
   ],
   "source": [
    "file_writing=open('D:\\\\OneDrive\\\\Documents\\\\大三108上_程式設計概論\\\\week12\\\\程式設計概論_week12_demo.txt', 'r', encoding='utf-8')\n",
    "vocab_lines=file_writing.readlines()\n",
    "file_writing.close()\n",
    "\n",
    "\n",
    "\n",
    "vocab=[]\n",
    "for line in vocab_lines:\n",
    "    per_vocab = line.split()\n",
    "    for word in per_vocab:\n",
    "        vocab.append(word)\n",
    "\n",
    "len(vocab)\n",
    "        \n",
    "vocab2=[]\n",
    "for unword in vocab:\n",
    "    per_vocab2 = unword.split('.')\n",
    "    for word in per_vocab2:\n",
    "        vocab2.append(word)\n",
    "        \n",
    "print()"
   ]
  },
  {
   "cell_type": "code",
   "execution_count": 31,
   "metadata": {},
   "outputs": [
    {
     "data": {
      "text/plain": [
       "['Switch',\n",
       " 'on',\n",
       " 'the',\n",
       " 'power',\n",
       " 'line',\n",
       " 'Remember',\n",
       " 'to',\n",
       " 'put',\n",
       " 'on',\n",
       " 'PROTECTION.',\n",
       " 'Lay',\n",
       " 'down',\n",
       " 'your',\n",
       " 'pieces',\n",
       " 'And',\n",
       " 'let’s',\n",
       " 'begin',\n",
       " 'OBJECT',\n",
       " 'CREATION',\n",
       " 'Switch',\n",
       " 'on',\n",
       " 'the',\n",
       " 'power',\n",
       " 'line',\n",
       " 'Remember',\n",
       " 'to',\n",
       " 'put',\n",
       " 'on',\n",
       " 'PROTECTION.',\n",
       " 'Lay',\n",
       " 'down',\n",
       " 'your',\n",
       " 'pieces',\n",
       " 'And',\n",
       " 'let’s',\n",
       " 'begin',\n",
       " 'OBJECT',\n",
       " 'CREATION',\n",
       " 'Switch',\n",
       " 'on',\n",
       " 'the',\n",
       " 'power',\n",
       " 'line',\n",
       " 'Remember',\n",
       " 'to',\n",
       " 'put',\n",
       " 'on',\n",
       " 'PROTECTION.',\n",
       " 'Lay',\n",
       " 'down',\n",
       " 'your',\n",
       " 'pieces',\n",
       " 'Switch',\n",
       " 'on',\n",
       " 'the',\n",
       " 'power',\n",
       " 'line']"
      ]
     },
     "execution_count": 31,
     "metadata": {},
     "output_type": "execute_result"
    }
   ],
   "source": [
    "vocab"
   ]
  },
  {
   "cell_type": "code",
   "execution_count": 34,
   "metadata": {},
   "outputs": [
    {
     "data": {
      "text/plain": [
       "['Switch',\n",
       " 'on',\n",
       " 'the',\n",
       " 'power',\n",
       " 'line',\n",
       " 'Remember',\n",
       " 'to',\n",
       " 'put',\n",
       " 'on',\n",
       " 'PROTECTION',\n",
       " '',\n",
       " 'Lay',\n",
       " 'down',\n",
       " 'your',\n",
       " 'pieces',\n",
       " 'And',\n",
       " 'let’s',\n",
       " 'begin',\n",
       " 'OBJECT',\n",
       " 'CREATION',\n",
       " 'Switch',\n",
       " 'on',\n",
       " 'the',\n",
       " 'power',\n",
       " 'line',\n",
       " 'Remember',\n",
       " 'to',\n",
       " 'put',\n",
       " 'on',\n",
       " 'PROTECTION',\n",
       " '',\n",
       " 'Lay',\n",
       " 'down',\n",
       " 'your',\n",
       " 'pieces',\n",
       " 'And',\n",
       " 'let’s',\n",
       " 'begin',\n",
       " 'OBJECT',\n",
       " 'CREATION',\n",
       " 'Switch',\n",
       " 'on',\n",
       " 'the',\n",
       " 'power',\n",
       " 'line',\n",
       " 'Remember',\n",
       " 'to',\n",
       " 'put',\n",
       " 'on',\n",
       " 'PROTECTION',\n",
       " '',\n",
       " 'Lay',\n",
       " 'down',\n",
       " 'your',\n",
       " 'pieces',\n",
       " 'Switch',\n",
       " 'on',\n",
       " 'the',\n",
       " 'power',\n",
       " 'line']"
      ]
     },
     "execution_count": 34,
     "metadata": {},
     "output_type": "execute_result"
    }
   ],
   "source": [
    "vocab2"
   ]
  },
  {
   "cell_type": "code",
   "execution_count": 21,
   "metadata": {},
   "outputs": [
    {
     "data": {
      "text/plain": [
       "['Switch on the power line\\n',\n",
       " 'Remember to put on\\n',\n",
       " 'PROTECTION.\\n',\n",
       " '\\n',\n",
       " 'Lay down your pieces\\n',\n",
       " 'And let’s begin\\n',\n",
       " 'OBJECT CREATION\\n',\n",
       " 'Switch on the power line\\n',\n",
       " 'Remember to put on\\n',\n",
       " 'PROTECTION.\\n',\n",
       " '\\n',\n",
       " 'Lay down your pieces\\n',\n",
       " 'And let’s begin\\n',\n",
       " 'OBJECT CREATION\\n',\n",
       " 'Switch on the power line\\n',\n",
       " 'Remember to put on\\n',\n",
       " 'PROTECTION.\\n',\n",
       " '\\n',\n",
       " 'Lay down your pieces\\n',\n",
       " 'Switch on the power line\\n']"
      ]
     },
     "execution_count": 21,
     "metadata": {},
     "output_type": "execute_result"
    }
   ],
   "source": [
    "vocab_lines"
   ]
  },
  {
   "cell_type": "code",
   "execution_count": null,
   "metadata": {},
   "outputs": [],
   "source": [
    "something = input('請輸入想計數的字')\n",
    "vocab_lines.count(something)\n"
   ]
  },
  {
   "cell_type": "code",
   "execution_count": 35,
   "metadata": {},
   "outputs": [
    {
     "data": {
      "text/plain": [
       "57"
      ]
     },
     "execution_count": 35,
     "metadata": {},
     "output_type": "execute_result"
    }
   ],
   "source": [
    "len(vocab)"
   ]
  },
  {
   "cell_type": "code",
   "execution_count": 42,
   "metadata": {},
   "outputs": [
    {
     "name": "stdout",
     "output_type": "stream",
     "text": [
      "請輸入或貼上想處理的文章\n",
      "3 3\n",
      "這篇文章的字數是2\n",
      "想查甚麼的出現次數單字?(沒有要查詢可直接按_略過)\n",
      "\n",
      "共出現4次\n"
     ]
    }
   ],
   "source": [
    "writing = input('請輸入或貼上想處理的文章\\n')\n",
    "\n",
    "vocab_lines=[]\n",
    "vocab_lines.append(writing)\n",
    "\n",
    "vocab=[]\n",
    "for line in vocab_lines:\n",
    "    per_vocab = line.split()\n",
    "    for word in per_vocab:\n",
    "        vocab.append(word)\n",
    "\n",
    "print('這篇文章的字數是'+str(len(vocab)))\n",
    "\n",
    "n = 0\n",
    "search = input(\"想查甚麼的出現次數單字?(沒有要查詢可直接按_略過)\\n\")\n",
    "if search!= '_':\n",
    "    for word in vocab:\n",
    "        n += word.lower().count(search)\n",
    "    print(search+'共出現'+str(n)+'次')"
   ]
  },
  {
   "cell_type": "code",
   "execution_count": 1,
   "metadata": {},
   "outputs": [
    {
     "ename": "NameError",
     "evalue": "name 'writing' is not defined",
     "output_type": "error",
     "traceback": [
      "\u001b[1;31m---------------------------------------------------------------------------\u001b[0m",
      "\u001b[1;31mNameError\u001b[0m                                 Traceback (most recent call last)",
      "\u001b[1;32m<ipython-input-1-fb3643884652>\u001b[0m in \u001b[0;36m<module>\u001b[1;34m\u001b[0m\n\u001b[1;32m----> 1\u001b[1;33m \u001b[0mwriting\u001b[0m\u001b[1;33m\u001b[0m\u001b[1;33m\u001b[0m\u001b[0m\n\u001b[0m",
      "\u001b[1;31mNameError\u001b[0m: name 'writing' is not defined"
     ]
    }
   ],
   "source": [
    "writing\n"
   ]
  },
  {
   "cell_type": "code",
   "execution_count": null,
   "metadata": {},
   "outputs": [],
   "source": []
  },
  {
   "cell_type": "code",
   "execution_count": null,
   "metadata": {},
   "outputs": [],
   "source": []
  }
 ],
 "metadata": {
  "kernelspec": {
   "display_name": "Python 3",
   "language": "python",
   "name": "python3"
  },
  "language_info": {
   "codemirror_mode": {
    "name": "ipython",
    "version": 3
   },
   "file_extension": ".py",
   "mimetype": "text/x-python",
   "name": "python",
   "nbconvert_exporter": "python",
   "pygments_lexer": "ipython3",
   "version": "3.6.9"
  }
 },
 "nbformat": 4,
 "nbformat_minor": 2
}
