{
 "cells": [
  {
   "cell_type": "code",
   "execution_count": 1,
   "metadata": {},
   "outputs": [
    {
     "ename": "FileNotFoundError",
     "evalue": "[Errno 2] No such file or directory: 'writing.txt'",
     "output_type": "error",
     "traceback": [
      "\u001b[1;31m---------------------------------------------------------------------------\u001b[0m",
      "\u001b[1;31mFileNotFoundError\u001b[0m                         Traceback (most recent call last)",
      "\u001b[1;32m<ipython-input-1-dc966ebaca1f>\u001b[0m in \u001b[0;36m<module>\u001b[1;34m\u001b[0m\n\u001b[1;32m----> 1\u001b[1;33m \u001b[0mfile_reading\u001b[0m\u001b[1;33m=\u001b[0m\u001b[0mopen\u001b[0m\u001b[1;33m(\u001b[0m\u001b[1;34m'writing.txt'\u001b[0m\u001b[1;33m,\u001b[0m \u001b[1;34m'r'\u001b[0m\u001b[1;33m,\u001b[0m \u001b[0mencoding\u001b[0m\u001b[1;33m=\u001b[0m\u001b[1;34m'utf-8'\u001b[0m\u001b[1;33m)\u001b[0m\u001b[1;33m\u001b[0m\u001b[1;33m\u001b[0m\u001b[0m\n\u001b[0m\u001b[0;32m      2\u001b[0m \u001b[0mvocab_lines\u001b[0m\u001b[1;33m=\u001b[0m\u001b[0mfile_reading\u001b[0m\u001b[1;33m.\u001b[0m\u001b[0mreadlines\u001b[0m\u001b[1;33m(\u001b[0m\u001b[1;33m)\u001b[0m\u001b[1;33m\u001b[0m\u001b[1;33m\u001b[0m\u001b[0m\n\u001b[0;32m      3\u001b[0m \u001b[0mfile_reading\u001b[0m\u001b[1;33m.\u001b[0m\u001b[0mclose\u001b[0m\u001b[1;33m(\u001b[0m\u001b[1;33m)\u001b[0m\u001b[1;33m\u001b[0m\u001b[1;33m\u001b[0m\u001b[0m\n\u001b[0;32m      4\u001b[0m \u001b[1;33m\u001b[0m\u001b[0m\n\u001b[0;32m      5\u001b[0m \u001b[0mvocab\u001b[0m\u001b[1;33m=\u001b[0m\u001b[1;33m[\u001b[0m\u001b[1;33m]\u001b[0m\u001b[1;33m\u001b[0m\u001b[1;33m\u001b[0m\u001b[0m\n",
      "\u001b[1;31mFileNotFoundError\u001b[0m: [Errno 2] No such file or directory: 'writing.txt'"
     ]
    }
   ],
   "source": [
    "file_reading=open('writing.txt', 'r', encoding='utf-8')\n",
    "vocab_lines=file_reading.readlines()\n",
    "file_reading.close()\n",
    "\n",
    "vocab=[]\n",
    "for line in vocab_lines:\n",
    "    per_vocab = line.split()\n",
    "    for word in per_vocab:\n",
    "        vocab.append(word)\n",
    "\n",
    "print('這篇文章的字數是'+str(len(vocab)))\n",
    "\n",
    "n = 0\n",
    "search = input(\"想查甚麼的出現次數單字?(沒有要查詢可直接按Enter略過)\\n\")\n",
    "if search!= '':\n",
    "    for word in vocab:\n",
    "        n += word.lower().count(search)\n",
    "    print(search+'共出現'+str(n)+'次')\n",
    "\n"
   ]
  },
  {
   "cell_type": "code",
   "execution_count": 2,
   "metadata": {},
   "outputs": [
    {
     "name": "stdout",
     "output_type": "stream",
     "text": [
      "12\n"
     ]
    }
   ],
   "source": [
    "chaos = '想查甚麼的出現次數單字?'\n",
    "print(len(chaos))"
   ]
  },
  {
   "cell_type": "code",
   "execution_count": 6,
   "metadata": {},
   "outputs": [
    {
     "name": "stdout",
     "output_type": "stream",
     "text": [
      "這是一個test字符串\n",
      "\n",
      "該字符串共有 11 個字符，其中有 7 個漢字，4 個英文，0 個空格，0 個數字，0 個標點符號。\n"
     ]
    }
   ],
   "source": [
    "# -*- coding:utf8 -*-\n",
    "import string\n",
    "from collections import namedtuple\n",
    "\n",
    "def str_count(s):\n",
    "    '''找出字符串中的中英文、空格、數字、標點符號個數'''\n",
    "    count_en = count_dg = count_sp = count_zh = count_pu = 0\n",
    "\n",
    "    s_len = len(s)\n",
    "    for c in s:\n",
    "        # 英文\n",
    "        if c in string.ascii_letters:\n",
    "            count_en += 1\n",
    "        # 數字\n",
    "        elif c.isdigit():\n",
    "            count_dg += 1\n",
    "        # 空格\n",
    "        elif c.isspace():\n",
    "            count_sp += 1\n",
    "        # 中文\n",
    "        elif c.isalpha():\n",
    "            count_zh += 1\n",
    "        # 特殊字符\n",
    "        else:\n",
    "            count_pu += 1\n",
    "\n",
    "    total_chars = count_zh + count_en + count_sp + count_dg + count_pu\n",
    "    if total_chars == s_len:\n",
    "        return namedtuple('Count', ['total', 'zh', 'en', 'space', 'digit', 'punc'])(s_len, count_zh, count_en,count_sp, count_dg, count_pu)\n",
    "    else:\n",
    "        print('Something is wrong!')\n",
    "        return None\n",
    "\n",
    "if __name__ == '__main__':\n",
    "    str_l = \"這是一個test字符串\"\n",
    "    count = str_count(str_l)\n",
    "    print(str_l, end='\\n\\n')\n",
    "    print('該字符串共有 {} 個字符，其中有 {} 個漢字，{} 個英文，{} 個空格，{} 個數字，{} 個標點符號。'.format(count.total, count.zh, count.en, count.space,\n",
    "                                                                           count.digit, count.punc))"
   ]
  },
  {
   "cell_type": "code",
   "execution_count": null,
   "metadata": {},
   "outputs": [],
   "source": []
  }
 ],
 "metadata": {
  "kernelspec": {
   "display_name": "Python 3",
   "language": "python",
   "name": "python3"
  },
  "language_info": {
   "codemirror_mode": {
    "name": "ipython",
    "version": 3
   },
   "file_extension": ".py",
   "mimetype": "text/x-python",
   "name": "python",
   "nbconvert_exporter": "python",
   "pygments_lexer": "ipython3",
   "version": "3.6.9"
  }
 },
 "nbformat": 4,
 "nbformat_minor": 2
}
