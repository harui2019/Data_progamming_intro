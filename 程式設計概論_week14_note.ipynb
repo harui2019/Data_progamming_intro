{
 "cells": [
  {
   "cell_type": "markdown",
   "metadata": {},
   "source": [
    "<font size=\"5\" face=\"Microsoft YaHei\"><b>期末專題</b></font><br>\n",
    "<font size=\"4\" face=\"Microsoft YaHei\">• 發想一個比較大型的專題，可以透過這學期所學過的程式語言來解決與生活相關的問題<br></font>\n",
    "<font size=\"3\" face=\"Microsoft YaHei\">\n",
    "&emsp;&emsp;• 專題內要能細分成幾個功能<br>\n",
    "&emsp;&emsp;• 每位組員都要有自己負責的功能來完成程式撰寫<br>\n",
    "&emsp;&emsp;• 專題主要工作項目：(一) 主題確認、(二) 功能規劃與說明、(三) 各功能的流程圖與程式撰寫、(四) 專題整體與各功能測試<br></font><br>\n",
    "<font size=\"4\" face=\"Microsoft YaHei\">期末呈現的方式：<br></font>\n",
    "<font size=\"3\" face=\"Microsoft YaHei\">\n",
    "    &emsp;&emsp;• 口頭報告(12分鐘報告+Q&A，3分鐘組間回饋)<br>\n",
    "    &emsp;&emsp;• 可以使用短影片輔助口頭報告(影片長度15分鐘以內)<br></font><br>\n",
    "<font size=\"4\" face=\"Microsoft YaHei\">期末呈現時需包括的報告項目：<br></font>\n",
    "<font size=\"3\" face=\"Microsoft YaHei\">\n",
    "    &emsp;&emsp;• 主題<br>\n",
    "    &emsp;&emsp;• 為什麼選這個主題<br>\n",
    "    &emsp;&emsp;• 功能規劃及說明<br>\n",
    "    &emsp;&emsp;• 每個功能的程式流程圖<br>\n",
    "    &emsp;&emsp;• 每個功能的程式展示<br>\n",
    "    &emsp;&emsp;• 專題整體與每個功能的測試報告<br>\n",
    "    &emsp;&emsp;• 每位組員所負責的工作項目<br></font>"
   ]
  },
  {
   "cell_type": "markdown",
   "metadata": {},
   "source": [
    "<font size=\"4\" face=\"Microsoft YaHei\"><b>自訂函數</b></font><br>\n",
    "<font size=\"3\" face=\"Microsoft YaHei\">def 函數名稱( 參數….):<br>\n",
    "    &emsp;&emsp;函數的程式區塊<br>\n",
    "    &emsp;&emsp;return value<br>\n",
    "• 函數名稱：是寫程式的人自己給函數取的名字。<br>\n",
    "• 參數：不一定要有，也可以有多個參數，各參數間以逗點間隔。<br>\n",
    "• return 回傳值：不一定要有，也可以有多個回傳值，各回傳值間以逗點間<br>"
   ]
  },
  {
   "cell_type": "markdown",
   "metadata": {},
   "source": [
    "### EX _1 fooddesert()"
   ]
  },
  {
   "cell_type": "code",
   "execution_count": 1,
   "metadata": {},
   "outputs": [],
   "source": [
    "import random as rn\n",
    "\n",
    "uni_dict = {\n",
    "    1:{'A':{1:'餐研社',2:'私房麵',3:'丐幫滷味',4:'鹽水雞',5:'八方雲集',\n",
    "            6:'敏忠小吃店',7:'大胖小吃(廢墟)',8:'楊記小吃',9:'赤肉羹',10:'吃的小館',\n",
    "            11:'喜記',12:'老麵水煎包',13:'廣東粥/甜不辣',14:'羹大王',15:'佳味自助餐'},\n",
    "       'B':{1:'菁英',2:'重慶酸辣粉',3:'四川飯館',4:'豚匠拉麵',5:'大呼過癮',\n",
    "            6:'大汗'},\n",
    "       'C':{}},\n",
    "    2:{'A':{1:'元吉食堂',2:'美香味'},\n",
    "       'B':{1:'加賀屋',2:'小曼谷',3:'阿里郎',4:'鬼匠拉麵',5:'湯饌',\n",
    "            6:'波波恰恰',7:'吉野家',8:'高句麗',9:'滇味食堂'},\n",
    "       'C':{1:'Shabu鮮'}},\n",
    "    3:{'A':{},\n",
    "       'B':{1:'享窩',2:'麥當勞',3:'摩斯',4:'世界大同',5:'Subway',\n",
    "            6:'提洛斯',7:'贊來食府(蝴蝶漾)(已死)'},\n",
    "       'C':{1:'米塔',2:'舒曼',3:'Juicy Bun'}}}\n",
    "discription = {\n",
    "    1:'台式／中式／港式',2:'日式／韓式／東南亞式',3:'歐式／美式',\n",
    "    'A':'低價','B':'中等價格','C':'高價'}\n",
    "\n",
    "def fooddesert():\n",
    "    Q1 = True\n",
    "    while Q1:\n",
    "        type_dish = input('今天想吃哪一類?\\n'+discription[1]+'輸入1，'+discription[2]+'輸入2，'+discription[3]+'輸入3'+'\\n>>>')\n",
    "        if type_dish.isdigit():\n",
    "            type_dish = int(type_dish)\n",
    "            if 0 < type_dish < len(uni_dict)+1:\n",
    "                Q1 = False\n",
    "                print('你選擇了'+discription[type_dish])\n",
    "            else:\n",
    "                print('數字要是1,2,3，再試一次吧')\n",
    "        else:\n",
    "            print('奇怪，你輸入的好像不是數字，再試一次吧')\n",
    "\n",
    "    Q2 = True\n",
    "    alphbeta_check1 = False\n",
    "    menu = {}\n",
    "    while Q2:\n",
    "        type_prise = input('輸入想要的價位等級?\\n'+discription['A']+'輸入A，'+\n",
    "                      discription['B']+'輸入B，'+discription['C']+'輸入C'+'\\n>>>')\n",
    "        type_prise = str(type_prise.upper())\n",
    "        for alphbeta in list(uni_dict[type_dish].keys()):\n",
    "            if type_prise == alphbeta:\n",
    "                alphbeta_check1 = True\n",
    "        if alphbeta_check1:\n",
    "            print('你選擇了'+discription[type_prise]+'的餐點')\n",
    "            menu = uni_dict[type_dish][type_prise]\n",
    "            Q2 = False\n",
    "        else:\n",
    "            print('輸入的東西要是A,B,C喔，再試一次吧')   \n",
    "    \n",
    "    null_set = True\n",
    "    alphbeta_check2 = False\n",
    "    contichose = True\n",
    "    while len(menu) != 0 and contichose:\n",
    "        null_set = False\n",
    "        restaur = rn.sample(list(menu),1)[0]\n",
    "        print('我們今天推薦你吃'+'<<'+menu[restaur]+'>>')\n",
    "        liked = input('(如果不喜歡程式推薦，可再輸入N/如果滿意請輸入Y)\\n>>>')\n",
    "        liked = str(liked.upper())\n",
    "        for alphbeta in ['Y','N']:\n",
    "            if liked == alphbeta:\n",
    "                alphbeta_check2 = True\n",
    "        if alphbeta_check2:\n",
    "            if liked == 'Y':\n",
    "                print('去吃飯吧！')\n",
    "                contichose = False\n",
    "            else:\n",
    "                del menu[restaur]\n",
    "        else:\n",
    "            print('輸入的東西要是Y,N喔，再試一次吧')\n",
    "    \n",
    "    if null_set:\n",
    "        print('唉呀，這個分類是空的啊!!!')\n",
    "    else:\n",
    "        if contichose:\n",
    "            print('沒有餐廳可選囉!!!')"
   ]
  },
  {
   "cell_type": "code",
   "execution_count": 2,
   "metadata": {
    "scrolled": true
   },
   "outputs": [
    {
     "name": "stdout",
     "output_type": "stream",
     "text": [
      "今天想吃哪一類?\n",
      "台式／中式／港式輸入1，日式／韓式／東南亞式輸入2，歐式／美式輸入3\n",
      ">>>1\n",
      "你選擇了台式／中式／港式\n",
      "輸入想要的價位等級?\n",
      "低價輸入A，中等價格輸入B，高價輸入C\n",
      ">>>B\n",
      "你選擇了中等價格的餐點\n",
      "我們今天推薦你吃<<重慶酸辣粉>>\n",
      "(如果不喜歡程式推薦，可再輸入N/如果滿意請輸入Y)\n",
      ">>>n\n",
      "我們今天推薦你吃<<大汗>>\n",
      "(如果不喜歡程式推薦，可再輸入N/如果滿意請輸入Y)\n",
      ">>>n\n",
      "我們今天推薦你吃<<豚匠拉麵>>\n",
      "(如果不喜歡程式推薦，可再輸入N/如果滿意請輸入Y)\n",
      ">>>n\n",
      "我們今天推薦你吃<<四川飯館>>\n",
      "(如果不喜歡程式推薦，可再輸入N/如果滿意請輸入Y)\n",
      ">>>n\n",
      "我們今天推薦你吃<<大呼過癮>>\n",
      "(如果不喜歡程式推薦，可再輸入N/如果滿意請輸入Y)\n",
      ">>>n\n",
      "我們今天推薦你吃<<菁英>>\n",
      "(如果不喜歡程式推薦，可再輸入N/如果滿意請輸入Y)\n",
      ">>>n\n",
      "沒有餐廳可選囉!!!\n"
     ]
    }
   ],
   "source": [
    "fooddesert()"
   ]
  },
  {
   "cell_type": "markdown",
   "metadata": {},
   "source": [
    "### demo_1"
   ]
  },
  {
   "cell_type": "code",
   "execution_count": 3,
   "metadata": {},
   "outputs": [
    {
     "name": "stdout",
     "output_type": "stream",
     "text": [
      "你好！很高興認識你。\n",
      "你好！很高興認識你。\n",
      "你好！很高興認識你。\n",
      "你好！很高興認識你。\n",
      "你好！很高興認識你。\n",
      "這一行不是sayhi()這個函數執行的結果\n"
     ]
    }
   ],
   "source": [
    "#Programming 101\n",
    "#week14\n",
    "#demo 01\n",
    "\n",
    "#沒有參數也沒有回傳值的自訂函數\n",
    "def sayhi():  #自行定義一個名為sayhi()的函數\n",
    "    print('你好！很高興認識你。')\n",
    "\n",
    "sayhi()  #在程式中呼叫自行定義的sayhi()函數，此時才會執行sayhi()函數內的程式區塊\n",
    "sayhi()\n",
    "sayhi()\n",
    "sayhi()\n",
    "sayhi()\n",
    "print('這一行不是sayhi()這個函數執行的結果')"
   ]
  },
  {
   "cell_type": "markdown",
   "metadata": {},
   "source": [
    "### demo_2"
   ]
  },
  {
   "cell_type": "code",
   "execution_count": 4,
   "metadata": {},
   "outputs": [
    {
     "name": "stdout",
     "output_type": "stream",
     "text": [
      "你好！ Snoopy ，很高興認識你！\n",
      "你好！ Spike ，很高興認識你！\n",
      "你好！ Andy ，很高興認識你！\n",
      "x+y+z= 6\n",
      "x+y+z= 103\n",
      "x+y+z= 206\n"
     ]
    },
    {
     "ename": "TypeError",
     "evalue": "add() missing 1 required positional argument: 'y'",
     "output_type": "error",
     "traceback": [
      "\u001b[1;31m---------------------------------------------------------------------------\u001b[0m",
      "\u001b[1;31mTypeError\u001b[0m                                 Traceback (most recent call last)",
      "\u001b[1;32m<ipython-input-4-4bdc5d1a045a>\u001b[0m in \u001b[0;36m<module>\u001b[1;34m\u001b[0m\n\u001b[0;32m     19\u001b[0m \u001b[0madd\u001b[0m\u001b[1;33m(\u001b[0m\u001b[1;36m1\u001b[0m\u001b[1;33m,\u001b[0m\u001b[1;36m2\u001b[0m\u001b[1;33m)\u001b[0m     \u001b[1;31m#傳入的參數少了一個，但因為參數z在自訂函數中有給初始值，所以仍可正常執行\u001b[0m\u001b[1;33m\u001b[0m\u001b[1;33m\u001b[0m\u001b[0m\n\u001b[0;32m     20\u001b[0m \u001b[0madd\u001b[0m\u001b[1;33m(\u001b[0m\u001b[0mx\u001b[0m\u001b[1;33m=\u001b[0m\u001b[1;36m1\u001b[0m\u001b[1;33m,\u001b[0m \u001b[0mz\u001b[0m\u001b[1;33m=\u001b[0m\u001b[1;36m200\u001b[0m\u001b[1;33m,\u001b[0m \u001b[0my\u001b[0m\u001b[1;33m=\u001b[0m\u001b[1;36m5\u001b[0m\u001b[1;33m)\u001b[0m \u001b[1;31m#如果在呼叫函數時有指明其所對應的參數名稱，可以不依照順序\u001b[0m\u001b[1;33m\u001b[0m\u001b[1;33m\u001b[0m\u001b[0m\n\u001b[1;32m---> 21\u001b[1;33m \u001b[0madd\u001b[0m\u001b[1;33m(\u001b[0m\u001b[1;36m1\u001b[0m\u001b[1;33m)\u001b[0m       \u001b[1;31m#自訂函數中有兩個參數沒有給定初始值，在呼叫函數時，少給了一個參數的值\u001b[0m\u001b[1;33m\u001b[0m\u001b[1;33m\u001b[0m\u001b[0m\n\u001b[0m",
      "\u001b[1;31mTypeError\u001b[0m: add() missing 1 required positional argument: 'y'"
     ]
    }
   ],
   "source": [
    "#Programming 101\n",
    "#week14\n",
    "#demo 02\n",
    "\n",
    "#有一個參數的自訂函數\n",
    "def say_hi_to(name):\n",
    "    print('你好！', name, '，很高興認識你！')\n",
    "\n",
    "#有多個參數的自訂函數\n",
    "def add(x, y, z=100):   #三個參數，x, y, z，參數z有給定初始值為100\n",
    "    print('x+y+z=', x+y+z)    \n",
    "\n",
    "\n",
    "say_hi_to('Snoopy')  \n",
    "say_hi_to('Spike')\n",
    "say_hi_to('Andy')\n",
    "\n",
    "add(1,2,3)   #依序傳入對應的參數\n",
    "add(1,2)     #傳入的參數少了一個，但因為參數z在自訂函數中有給初始值，所以仍可正常執行\n",
    "add(x=1, z=200, y=5) #如果在呼叫函數時有指明其所對應的參數名稱，可以不依照順序\n",
    "add(1)       #自訂函數中有兩個參數沒有給定初始值，在呼叫函數時，少給了一個參數的值"
   ]
  },
  {
   "cell_type": "markdown",
   "metadata": {},
   "source": [
    "### deom_3"
   ]
  },
  {
   "cell_type": "code",
   "execution_count": 5,
   "metadata": {},
   "outputs": [
    {
     "name": "stdout",
     "output_type": "stream",
     "text": [
      "請輸入起始值：2\n",
      "請輸入終止值：3\n",
      "(5, 6)\n",
      "<class 'tuple'>\n",
      "累加的和為5，乘積為6\n"
     ]
    }
   ],
   "source": [
    "#Programming 101\n",
    "#week14\n",
    "#demo 03\n",
    "\n",
    "#有兩個參數與兩個回傳值的自訂函數\n",
    "#會將傳入的參數間的數字累加與累乘，並將累加與相乘的結果傳回\n",
    "def add_multi(num1, num2):\n",
    "    total=0\n",
    "    multi=1\n",
    "    for num in range(num1, num2+1):\n",
    "        total+=num\n",
    "        multi*=num\n",
    "    return total, multi  #回傳值\n",
    "\n",
    "\n",
    "begin=int(input('請輸入起始值：'))\n",
    "end=int(input('請輸入終止值：'))\n",
    "result=add_multi(begin, end)\n",
    "print(result)\n",
    "print(type(result))\n",
    "#呼叫自訂函數的回傳值有兩個，以tuple的資料型態來處理\n",
    "print('累加的和為%d，乘積為%d' % (result[0], result[1]))"
   ]
  },
  {
   "cell_type": "markdown",
   "metadata": {},
   "source": [
    "<font size=\"4\" face=\"Microsoft YaHei\"><b>實作練習_1</b></font><br>\n",
    "<font size=\"3\" face=\"Microsoft YaHei\"><br>請自行定義一個會計算並傳回三角形面積的函數:<br>\n",
    "&emsp;• 自訂函數名稱: triangle<br>\n",
    "&emsp;• 此函數會接收二個參數，第一個參數代表三角形的底(參數名稱為base)，第二個參數為三角形的高(參數名稱為height)<br>\n",
    "&emsp;• 函數內進行的動作如下：<br>\n",
    "&emsp;• 當參數base和height都大於0時，套三角形面積計算公式(底*高/2)計算出三角形的面積，並將此面積回傳<br>\n",
    "&emsp;• 否則，直接回傳-1<br>\n",
    "在主程式中呼叫triangle這個函數兩次，並將兩次回傳的結果分別印出來。<br>\n",
    "&emsp;• 第一次呼叫時，傳入的兩個參數依序為100, 125<br>\n",
    "&emsp;• 第二次呼叫時，傳入的兩個參數依序為-123, 20<br>\n",
    "將完成的檔案存成week14_ex1_你的學號.py 之後上傳到moodle的【實作練習】自訂函數1<br>"
   ]
  },
  {
   "cell_type": "code",
   "execution_count": 17,
   "metadata": {},
   "outputs": [
    {
     "name": "stdout",
     "output_type": "stream",
     "text": [
      "第一次呼叫6250\n",
      "第二次呼叫-1\n",
      "23\n"
     ]
    }
   ],
   "source": [
    "def triangle(base, height):\n",
    "    if base > 0 and height > 0:\n",
    "        return (base * height)/2\n",
    "    else:\n",
    "        return -1\n",
    "\n",
    "print('第一次呼叫%d'%(triangle(100, 125)))\n",
    "print('第二次呼叫%d'%(triangle(-123, 20)))\n",
    "\n",
    "print('{0:d}'.format(23))"
   ]
  },
  {
   "cell_type": "markdown",
   "metadata": {},
   "source": [
    "<font size=\"4\" face=\"Microsoft YaHei\"><b>全域變數 VS 區域變數</b></font><br>\n",
    "<font size=\"3\" face=\"Microsoft YaHei\">區域變數：在函數內定義的變數，其有效範圍只在該函數的範圍內。<br>\n",
    "全域變數：在函數外定義的變數，其有效範圍為整個python檔案。<br>"
   ]
  },
  {
   "cell_type": "markdown",
   "metadata": {},
   "source": [
    "### demo_4"
   ]
  },
  {
   "cell_type": "code",
   "execution_count": 18,
   "metadata": {},
   "outputs": [
    {
     "name": "stdout",
     "output_type": "stream",
     "text": [
      "print x before calling funct1(): 1\n",
      "print x in funct1(): 2\n",
      "print x after calling funct1(): 1\n",
      "print x in funct2(): 1\n",
      "print x after calling funct2(): 1\n",
      "print x in funct3(): 3\n",
      "print x after calling funct3(): 3\n"
     ]
    }
   ],
   "source": [
    "#Programming 101\n",
    "#week14\n",
    "#demo 04\n",
    "\n",
    "#全域變數與區域變數\n",
    "def funct1():\n",
    "    x = 2  #區域變數x\n",
    "    print(\"print x in funct1():\",x)\n",
    "\n",
    "def funct2():\n",
    "    print(\"print x in funct2():\",x)\n",
    "\n",
    "def funct3():\n",
    "    global x #<--------------------------------------\n",
    "    x=3\n",
    "    print(\"print x in funct3():\",x)\n",
    "\n",
    "\n",
    "x = 1  #全域變數x\n",
    "print(\"print x before calling funct1():\", x)\n",
    "funct1()  #呼叫自訂函數funct1()\n",
    "print(\"print x after calling funct1():\", x)\n",
    "funct2()\n",
    "print(\"print x after calling funct2():\", x)\n",
    "funct3()\n",
    "print(\"print x after calling funct3():\", x)\n"
   ]
  },
  {
   "cell_type": "markdown",
   "metadata": {},
   "source": [
    "<font size=\"4\" face=\"Microsoft YaHei\"><b>傳值呼叫 VS 傳址呼叫</b></font><br>\n",
    "<font size=\"3\" face=\"Microsoft YaHei\"><br>\n",
    "傳值：將所有傳過去的參數資料內容複製一份，儲存在函數自己定義的參數名稱中。<br>\n",
    "&emsp;&emsp;資料型態為不可變時，採用傳值呼叫，例如：數值、字串、Tuple<br>\n",
    "&emsp;&emsp;&emsp;&emsp;當修改時，在新的記憶體位置輸入新資料套上原參數名稱，並移除舊記憶體位置上的原參數名稱<br>\n",
    "傳址：將所傳過去的參數的記憶體位址傳到函數裡，函數可以透過收到的記憶體位置來修改這個參數的資料內容。<br>\n",
    "&emsp;&emsp;資料型態為可變時，採用傳址呼叫，例如：串列、字典<br>\n",
    "&emsp;&emsp;&emsp;&emsp;當修改時，將新資料的所在的記憶體位置傳送至變數，讓變數將資料更新與該位置上的資料一致"
   ]
  },
  {
   "cell_type": "markdown",
   "metadata": {},
   "source": [
    "### demo_5"
   ]
  },
  {
   "cell_type": "code",
   "execution_count": 7,
   "metadata": {},
   "outputs": [
    {
     "name": "stdout",
     "output_type": "stream",
     "text": [
      "(1) 在呼叫函數前印出名字字串與分數串列:\n",
      "名字: Jason\n",
      "分數: [97, 100]\n",
      "(2) 在函數一開始印出修改前名字字串與分數串列:\n",
      "名字: Jason\n",
      "分數: [97, 100]\n",
      "(3) 在函數內印出修改後新的名字字串與分數串列:\n",
      "名字: Mary\n",
      "分數: [97, 100, 95]\n",
      "(4) 在呼叫函數後印出名字字串與分數串列:\n",
      "名字: Jason\n",
      "分數: [97, 100, 95]\n"
     ]
    }
   ],
   "source": [
    "#Programming 101\n",
    "#week14\n",
    "#demo 05\n",
    "\n",
    "\n",
    "#傳值呼叫與傳址呼叫的差異\n",
    "def name_s(name, score1):\n",
    "    print('(2) 在函數一開始印出修改前名字字串與分數串列:')\n",
    "    print(\"名字:\",name)\n",
    "    print(\"分數:\",score1)\n",
    "    name='Mary' #區域變數\n",
    "    score1.append(95)\n",
    "    \n",
    "    print(\"(3) 在函數內印出修改後新的名字字串與分數串列:\")\n",
    "    print(\"名字:\",name)\n",
    "    print(\"分數:\",score1)\n",
    "\n",
    "\n",
    "name='Jason' #全域變數\n",
    "score=[97,100]\n",
    "print(\"(1) 在呼叫函數前印出名字字串與分數串列:\")\n",
    "print(\"名字:\",name)\n",
    "print(\"分數:\",score)\n",
    "\n",
    "\n",
    "name_s(name, score)  #呼叫自訂函數name_s()\n",
    "\n",
    "print(\"(4) 在呼叫函數後印出名字字串與分數串列:\")\n",
    "print(\"名字:\",name)\n",
    "print(\"分數:\",score)"
   ]
  },
  {
   "cell_type": "markdown",
   "metadata": {},
   "source": [
    "<font size=\"4\" face=\"Microsoft YaHei\"><b>【課堂活動】小組討論</b></font><br>\n",
    "<font size=\"3\" face=\"Microsoft YaHei\"><br>"
   ]
  },
  {
   "cell_type": "code",
   "execution_count": 19,
   "metadata": {},
   "outputs": [
    {
     "name": "stdout",
     "output_type": "stream",
     "text": [
      "case 1: a= 0\n",
      "case 2: b= {'test': 2}\n",
      "case 3: c= {}\n",
      "case 4: d= 2\n",
      "case 5: e= 10\n"
     ]
    }
   ],
   "source": [
    "#Programming 101\n",
    "#week14\n",
    "#discussion\n",
    "\n",
    "def func1(a):\n",
    "    a=2\n",
    "def func2(b):\n",
    "    b['test']=2\n",
    "def func3():\n",
    "    c={}\n",
    "    c['test']=10\n",
    "def func4():\n",
    "    global d\n",
    "    d=2\n",
    "def func5():\n",
    "    e=10\n",
    "    return e\n",
    "\n",
    "#Case 1\n",
    "a=0\n",
    "func1(a)\n",
    "print('case 1: a=',a)\n",
    "#區域變數沒外傳，在函數內做傳值呼叫\n",
    "\n",
    "#Case 2\n",
    "b={}\n",
    "func2(b)\n",
    "print('case 2: b=',b)\n",
    "#修改全域變數做傳址呼叫\n",
    "\n",
    "#Case 3\n",
    "c={}\n",
    "func3()\n",
    "print('case 3: c=',c)\n",
    "#區域變數沒外傳，在函數內做傳址呼叫\n",
    "\n",
    "#Case 4\n",
    "d=0\n",
    "func4()\n",
    "print('case 4: d=',d)\n",
    "#區域變數外傳修改全域變數做傳值呼叫\n",
    "\n",
    "#Case 5\n",
    "e=0\n",
    "e=func5()\n",
    "print('case 5: e=',e)\n",
    "#區域變數外傳做傳值呼叫\n"
   ]
  },
  {
   "cell_type": "markdown",
   "metadata": {},
   "source": [
    "<font size=\"4\" face=\"Microsoft YaHei\"><b>實作練習_2</b></font><br>\n",
    "<font size=\"3\" face=\"Microsoft YaHei\"><br>\n",
    "請從moodle的【實作練習】自訂函數2 討論區下載程式碼檔案。<br>\n",
    "與小組成員一起完成以下事項，並將小組完成的流程圖與修改後的程式碼回應到<br>\n",
    "【實作練習】自訂函數2 討論區。<br>\n",
    "    <br>\n",
    "&emsp;1. 依目前的程式碼畫出流程圖<br>\n",
    "&emsp;2. 請增加乘法與除法運算的功能選項，並增加能進行乘法與除法的自訂函數<br>\n",
    "&emsp;3. 在功能選項中增加一項「0: 離開程式」，並讓程式可以重複執行讓使用者輸入要執行的運算功能，直到使用者輸入0為止<br>\n",
    "&emsp;4. 原程式的流程中有一處瑕疵，請指出這個問題並予以修正。<br>"
   ]
  },
  {
   "cell_type": "code",
   "execution_count": 1,
   "metadata": {},
   "outputs": [
    {
     "name": "stdout",
     "output_type": "stream",
     "text": [
      "運算方法功能選單\n",
      "1:加法\n",
      "2:減法\n",
      "請輸入1或2: 1\n",
      "a = w\n"
     ]
    },
    {
     "ename": "ValueError",
     "evalue": "invalid literal for int() with base 10: 'w'",
     "output_type": "error",
     "traceback": [
      "\u001b[1;31m---------------------------------------------------------------------------\u001b[0m",
      "\u001b[1;31mValueError\u001b[0m                                Traceback (most recent call last)",
      "\u001b[1;32m<ipython-input-1-5c88046675d3>\u001b[0m in \u001b[0;36m<module>\u001b[1;34m\u001b[0m\n\u001b[0;32m     15\u001b[0m \u001b[0mop\u001b[0m \u001b[1;33m=\u001b[0m \u001b[0mint\u001b[0m\u001b[1;33m(\u001b[0m\u001b[0minput\u001b[0m\u001b[1;33m(\u001b[0m\u001b[1;34m\"請輸入1或2: \"\u001b[0m\u001b[1;33m)\u001b[0m\u001b[1;33m)\u001b[0m\u001b[1;33m\u001b[0m\u001b[1;33m\u001b[0m\u001b[0m\n\u001b[0;32m     16\u001b[0m \u001b[1;31m# 使用者輸入\u001b[0m\u001b[1;33m\u001b[0m\u001b[1;33m\u001b[0m\u001b[1;33m\u001b[0m\u001b[0m\n\u001b[1;32m---> 17\u001b[1;33m \u001b[0ma\u001b[0m \u001b[1;33m=\u001b[0m \u001b[0mint\u001b[0m\u001b[1;33m(\u001b[0m\u001b[0minput\u001b[0m\u001b[1;33m(\u001b[0m\u001b[1;34m\"a = \"\u001b[0m\u001b[1;33m)\u001b[0m\u001b[1;33m)\u001b[0m\u001b[1;33m\u001b[0m\u001b[1;33m\u001b[0m\u001b[0m\n\u001b[0m\u001b[0;32m     18\u001b[0m \u001b[0mb\u001b[0m \u001b[1;33m=\u001b[0m \u001b[0mint\u001b[0m\u001b[1;33m(\u001b[0m\u001b[0minput\u001b[0m\u001b[1;33m(\u001b[0m\u001b[1;34m\"b = \"\u001b[0m\u001b[1;33m)\u001b[0m\u001b[1;33m)\u001b[0m\u001b[1;33m\u001b[0m\u001b[1;33m\u001b[0m\u001b[0m\n\u001b[0;32m     19\u001b[0m \u001b[1;31m# 決定要執行哪一項運算功能\u001b[0m\u001b[1;33m\u001b[0m\u001b[1;33m\u001b[0m\u001b[1;33m\u001b[0m\u001b[0m\n",
      "\u001b[1;31mValueError\u001b[0m: invalid literal for int() with base 10: 'w'"
     ]
    }
   ],
   "source": [
    "# Programming 101\n",
    "# week14\n",
    "# ex 2\n",
    "#自訂函數實作練習2\n",
    "\n",
    "def subtract(x1, x2):\n",
    "    return x1 - x2                     # 回傳減法結果\n",
    "def addition(x1, x2):\n",
    "    return x1 + x2                     # 回傳加法結果\n",
    "\n",
    "# 使用者輸入\n",
    "a = int(input(\"a = \"))\n",
    "b = int(input(\"b = \"))\n",
    "\n",
    "# 功能選單\n",
    "print(\"運算方法功能選單\")\n",
    "print(\"1:加法\")\n",
    "print(\"2:減法\")\n",
    "op = int(input(\"請輸入1或2: \"))\n",
    "\n",
    "# 決定要執行哪一項運算功能\n",
    "if op == 1:\n",
    "    print(\"a + b = \", addition(a, b))   # 輸出'a+b='和結果\n",
    "elif op == 2:\n",
    "    print(\"a - b = \", subtract(a, b))   # 輸出'a-b='和結果\n",
    "else:\n",
    "    print(\"運算方法輸入錯誤\")"
   ]
  },
  {
   "cell_type": "code",
   "execution_count": 5,
   "metadata": {},
   "outputs": [
    {
     "name": "stdout",
     "output_type": "stream",
     "text": [
      "a = 3\n",
      "運算方法功能選單\n",
      "1:加法;2:減法;3:乘法;4:除法;0:離開程式\n",
      "請輸入1,2,3,4,0:4\n",
      "b = 3\n",
      "a / b =  1.0\n",
      "a = 3\n",
      "運算方法功能選單\n",
      "1:加法;2:減法;3:乘法;4:除法;0:離開程式\n",
      "請輸入1,2,3,4,0:0\n"
     ]
    }
   ],
   "source": [
    "\n",
    "while True:\n",
    "    a = int(input(\"a = \"))\n",
    "    print(\"運算方法功能選單\")\n",
    "    print(\"1:加法;2:減法;3:乘法;4:除法;0:離開程式\")\n",
    "    op = int(input(\"請輸入1,2,3,4,0:\"))\n",
    "    if op == 0: break\n",
    "    b = int(input(\"b = \"))\n",
    "    if op == 1: print(\"a + b = \", addition(a, b)) # 輸出'a+b='和結果\n",
    "    elif op == 2: print(\"a - b = \", subtract(a, b)) # 輸出'a-b='和結果\n",
    "    elif op == 3: print(\"a * b = \", a * b)\n",
    "    elif op == 4: print(\"a / b = \", a / b)\n",
    "    \n",
    "    else: print(\"運算方法輸入錯誤\")"
   ]
  },
  {
   "cell_type": "markdown",
   "metadata": {},
   "source": [
    "<font size=\"4\" face=\"Microsoft YaHei\"><b>• 自訂模組</b></font><br>\n",
    "<font size=\"3\" face=\"Microsoft YaHei\">一群自訂函數也可以組成一個自訂模組，把所有的自訂函數都收在一個. py 的檔案中，這個檔案的主檔名就是自訂模組的名稱。<br>例如：calculate.py"
   ]
  },
  {
   "cell_type": "code",
   "execution_count": null,
   "metadata": {},
   "outputs": [],
   "source": []
  }
 ],
 "metadata": {
  "kernelspec": {
   "display_name": "Python 3",
   "language": "python",
   "name": "python3"
  },
  "language_info": {
   "codemirror_mode": {
    "name": "ipython",
    "version": 3
   },
   "file_extension": ".py",
   "mimetype": "text/x-python",
   "name": "python",
   "nbconvert_exporter": "python",
   "pygments_lexer": "ipython3",
   "version": "3.6.9"
  }
 },
 "nbformat": 4,
 "nbformat_minor": 2
}
