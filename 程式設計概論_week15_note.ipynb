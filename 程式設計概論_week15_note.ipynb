{
 "cells": [
  {
   "cell_type": "markdown",
   "metadata": {},
   "source": [
    "<font size=\"4\" face=\"Microsoft YaHei\"><b>• 自訂模組</b></font><br>\n",
    "<font size=\"3\" face=\"Microsoft YaHei\">一群自訂函數也可以組成一個自訂模組，把所有的自訂函數都收在一個. py 的檔案中，這個檔案的主檔名就是自訂模組的名稱。<br>例如：calculate.py"
   ]
  },
  {
   "cell_type": "markdown",
   "metadata": {},
   "source": [
    "<font size=\"4\" face=\"Microsoft YaHei\"><b>例外處理</b></font><br>\n",
    "<font size=\"3\" face=\"Microsoft YaHei\"><br>\n",
    "try :<br>\n",
    "&emsp;要執行的程式區塊<br>\n",
    "except 例外名稱1 as 變數名稱1:<br>\n",
    "&emsp;當例外名稱1發生時，要執行的程式區塊<br>\n",
    "except 例外名稱2 as 變數名稱2:<br>\n",
    "&emsp;當例外名稱2發生時，要執行的程式區塊<br>\n",
    "else:<br>\n",
    "&emsp;如果try的程式區塊沒有發生例外時，要執行的程式區塊<br>\n",
    "finally:<br>\n",
    "&emsp;不管有沒有發生例外，都會執行的程式區塊<br>"
   ]
  },
  {
   "cell_type": "markdown",
   "metadata": {},
   "source": [
    "<font size=\"3\" face=\"Microsoft YaHei\"><b>常見的例外類型</b></font><br>\n",
    "<font size=\"3\" face=\"Microsoft YaHei\"><br>\n",
    "ZeroDivisionError <br>&emsp;除法的除數為0時產生的例外<br>\n",
    "ValueError        <br>&emsp;資料無法轉成指定的資料型態時產生的例外<br>\n",
    "KeyboardInterrupt <br>&emsp;使用者輸入中斷指令時產生的例外<br>\n",
    "FileNotFoundError <br>&emsp;檔案或資料夾找不到時產生的例外<br>\n",
    "TypeError         <br>&emsp;資料型態使用有誤時產生的例外<br>\n",
    "IndexError        <br>&emsp;使用串列時用到了可用範圍之外的索引位置值<br>\n",
    "KeyError          <br>&emsp;使用字典時誤用了不存在的Key值<br>"
   ]
  },
  {
   "cell_type": "markdown",
   "metadata": {},
   "source": [
    "<font size=\"3\" face=\"Microsoft YaHei\">見 demo1, demo2"
   ]
  },
  {
   "cell_type": "markdown",
   "metadata": {},
   "source": [
    "<font size=\"4\" face=\"Microsoft YaHei\"><b>圖形化使用者介面</b></font><br>\n",
    "<font size=\"3\" face=\"Microsoft YaHei\"><br>\n",
    "Graphical User Interface (GUI)<br>\n",
    "tkinter 套件<br>\n",
    "import tkinter<br>\n",
    "    \n",
    "• 建立視窗<br>\n",
    "• 使用者介面基礎元件<br>\n",
    "&emsp; • 標籤(Label)：顯示文字訊息，使用者無法在標籤內輸入文字。<br>\n",
    "&emsp; • 按鈕(Button)<br>\n",
    "&emsp; • 文字方塊(Entry)<br>\n",
    "&emsp; • 文字區域(Text)<br>\n",
    "&emsp; • 捲軸(Scrollbar)<br>\n",
    "見demo3, demo4, demo5, demo6, demo7, demo8"
   ]
  },
  {
   "cell_type": "markdown",
   "metadata": {},
   "source": [
    "<font size=\"3\" face=\"Microsoft YaHei\"><b>demo6</b></font><br>"
   ]
  },
  {
   "cell_type": "code",
   "execution_count": 1,
   "metadata": {},
   "outputs": [],
   "source": [
    "#Programming 101\n",
    "#week15\n",
    "#demo 6\n",
    "#基礎元件: Entry\n",
    "\n",
    "import tkinter\n",
    "\n",
    "def addition():\n",
    "    result.set(num1.get() + num2.get()) #用get()來取得num1和num2的值\n",
    "                                            #物件呼叫\n",
    "                                        #用set()來設定result的值\n",
    "    \n",
    "win = tkinter.Tk()\n",
    "win.title('加法運算')\n",
    "\n",
    "num1 = tkinter.DoubleVar()  #DoubleVar(): 產生tkinter定義的浮點數型態物件\n",
    "                          #IntVar():整數; StringVar():字串; BooleanVar():布林值 \n",
    "num2 = tkinter.DoubleVar()\n",
    "result = tkinter.DoubleVar()\n",
    "\n",
    "item1 = tkinter.Entry(win, width=10, textvariable=num1)  #建立一個Entry元件\n",
    "label1 = tkinter.Label(win, width=5, text='+')\n",
    "item2 = tkinter.Entry(win, width=10, textvariable=num2)\n",
    "btn = tkinter.Button(win, width=5, text='=', command=addition)\n",
    "label2 = tkinter.Label(win, width=10, textvariable=result)\n",
    "\n",
    "item1.pack(side='left')\n",
    "label1.pack(side='left')\n",
    "item2.pack(side='left')\n",
    "btn.pack(side='left')\n",
    "label2.pack(side='left')\n",
    "\n",
    "win.mainloop()\n"
   ]
  },
  {
   "cell_type": "markdown",
   "metadata": {},
   "source": [
    "<font size=\"3\" face=\"Microsoft YaHei\"><b>【實作練習】TKINTER</b></font><br>\n",
    "<font size=\"3\" face=\"Microsoft YaHei\">ver1"
   ]
  },
  {
   "cell_type": "code",
   "execution_count": 12,
   "metadata": {},
   "outputs": [],
   "source": [
    "import tkinter   \n",
    "\n",
    "def presstime():\n",
    "    result.set(result.get() + 1)\n",
    "\n",
    "win = tkinter.Tk()\n",
    "win.title(\"計數器 by 數統樹桶\")\n",
    "win.geometry('500x300')\n",
    "\n",
    "\n",
    "result = tkinter.IntVar()\n",
    "btn = tkinter.Button(win, text=\"亲，点我\", command = presstime)  #建立一個Button的元件\n",
    "lab1 = tkinter.Label(win, textvariable=result)        #建立一個Label元件\n",
    "\n",
    "#安排元件在視窗中的位子\n",
    "btn.pack()\n",
    "lab1.pack()\n",
    "win.mainloop()\n",
    "#text = \"You press {0:d} times\".format(result)"
   ]
  },
  {
   "cell_type": "markdown",
   "metadata": {},
   "source": [
    "<font size=\"3\" face=\"Microsoft YaHei\">ver2"
   ]
  },
  {
   "cell_type": "code",
   "execution_count": 14,
   "metadata": {},
   "outputs": [],
   "source": [
    "import tkinter\n",
    "result = 0\n",
    "\n",
    "\n",
    "def presstime():\n",
    "    result.set(result.get() + 1)\n",
    "    #print(result.get())\n",
    "    lab1[\"text\"] = \"You press {0:d} times\".format(result.get())\n",
    "\n",
    "win = tkinter.Tk()\n",
    "win.title(\"計數器 by 數統樹桶\")\n",
    "win.geometry('500x100')\n",
    "\n",
    "result = tkinter.IntVar()\n",
    "btn = tkinter.Button(win, text = \"亲，点我\", command = presstime)  #建立一個Button的元件\n",
    "lab1 = tkinter.Label(win, text = \"You press 0 times\")             #建立一個Label元件\n",
    "\n",
    "#安排元件在視窗中的位子\n",
    "btn.pack()\n",
    "lab1.pack()\n",
    "win.mainloop()\n",
    "#text = \"You press {0:d} times\".format(result)\n",
    "#, textvariable = result"
   ]
  },
  {
   "cell_type": "code",
   "execution_count": null,
   "metadata": {},
   "outputs": [],
   "source": []
  }
 ],
 "metadata": {
  "kernelspec": {
   "display_name": "Python 3",
   "language": "python",
   "name": "python3"
  },
  "language_info": {
   "codemirror_mode": {
    "name": "ipython",
    "version": 3
   },
   "file_extension": ".py",
   "mimetype": "text/x-python",
   "name": "python",
   "nbconvert_exporter": "python",
   "pygments_lexer": "ipython3",
   "version": "3.6.9"
  }
 },
 "nbformat": 4,
 "nbformat_minor": 2
}
