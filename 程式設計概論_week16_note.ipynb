{
 "cells": [
  {
   "cell_type": "markdown",
   "metadata": {},
   "source": [
    "<font size=\"4\" face=\"Microsoft YaHei\"><b>對話方塊</b></font>"
   ]
  },
  {
   "cell_type": "code",
   "execution_count": 9,
   "metadata": {},
   "outputs": [],
   "source": [
    "import tkinter\n",
    "from tkinter import messagebox\n",
    "def showMsg():\n",
    "    Ans=messagebox.askquestion('年齡問題','你已滿18歲了嗎？')\n",
    "    if(Ans=='yes'):\n",
    "        messagebox.showinfo('恭喜','您已成年！')\n",
    "    else:\n",
    "        messagebox.showinfo('很抱歉','您尚未成年喔！')\n",
    "\n",
    "win = tkinter.Tk()\n",
    "win.title('年齡判斷程式')\n",
    "win.geometry('300x100')\n",
    "\n",
    "btn = tkinter.Button(win,text='跳出對話方塊', command=showMsg)\n",
    "btn.pack()\n",
    "\n",
    "win.mainloop()\n"
   ]
  },
  {
   "cell_type": "code",
   "execution_count": 4,
   "metadata": {},
   "outputs": [],
   "source": [
    "import tkinter\n",
    "from tkinter import messagebox\n",
    "def askcomrades1():\n",
    "    A = messagebox.askquestion('???','你年滿18歲了嗎')\n",
    "    if (A == 'yes'): messagebox.showinfo('good','ok,你可以通過了')\n",
    "    else:\n",
    "        B = messagebox.askquestion('!!!','Are you sure about that???')\n",
    "        if (B == 'yes'): messagebox.showinfo('good','沒事，鬧一下')\n",
    "        else: messagebox.showinfo('哈','被我抓到了')\n",
    "        \n",
    "#標準流程\n",
    "win = tkinter.Tk()\n",
    "win.title('年齡判斷程式')\n",
    "win.geometry('100x100')\n",
    "\n",
    "\n",
    "btn = tkinter.Button(win, text='這是甚麼', command = askcomrades1)\n",
    "btn.pack()\n",
    "\n",
    "win.mainloop()"
   ]
  },
  {
   "cell_type": "markdown",
   "metadata": {},
   "source": [
    "<font size=\"4\" face=\"Microsoft YaHei\"><b>核取方塊_多個 Checkbutton\n",
    "    </b></font>"
   ]
  },
  {
   "cell_type": "code",
   "execution_count": 10,
   "metadata": {},
   "outputs": [],
   "source": [
    "#Programming 101\n",
    "#week16\n",
    "#demo 2\n",
    "#Checkbutton\n",
    "\n",
    "import tkinter\n",
    "from tkinter import messagebox\n",
    "def showMsg():\n",
    "    result = ''\n",
    "    for i in check_v:\n",
    "        if check_v[i].get() == True:\n",
    "            result = result + country[i] + '  '\n",
    "    messagebox.showinfo('核取結果', '您想去的國家為：'+result)\n",
    "\n",
    "win=tkinter.Tk()\n",
    "win.title('想要旅遊國家調查')\n",
    "win.geometry('300x150')\n",
    "\n",
    "label=tkinter.Label(win, text='請選取您想要旅遊的國家：').pack()\n",
    "\n",
    "country ={0:'土耳其', 1:'英國', 2:'日本', 3:'埃及'}\n",
    "check_v ={}\n",
    "\n",
    "for i in range(len(country)):\n",
    "    check_v[i] = tkinter.BooleanVar()\n",
    "    tkinter.Checkbutton(win, text=country[i], variable=check_v[i]).pack()\n",
    "\n",
    "tkinter.Button(win, text='確定', command=showMsg).pack()\n",
    "\n",
    "win.mainloop()"
   ]
  },
  {
   "cell_type": "code",
   "execution_count": 14,
   "metadata": {},
   "outputs": [],
   "source": [
    "import tkinter\n",
    "from tkinter import messagebox\n",
    "def askcomrades2():\n",
    "    r = ''\n",
    "    for i in chosen:\n",
    "        if chosen[i].get() == True:\n",
    "            r = r + waifu[i] + '  '\n",
    "    messagebox.showinfo('waifu',r+'都是你婆')\n",
    "\n",
    "win = tkinter.Tk()\n",
    "win.title('宅宅老婆調查')\n",
    "win.geometry('300x150')\n",
    "\n",
    "label = tkinter.Label(win, text='你喜歡誰：').pack()#開啟起始視窗\n",
    "\n",
    "waifu = {0:'雷姆', 1:'艾蜜莉亞', 2:'02', 3:''}#選項\n",
    "chosen = {}#選項是否被選(特製布林值留存，字典)\n",
    "\n",
    "\n",
    "for i in range(len(waifu)):\n",
    "    chosen[i] = tkinter.BooleanVar()#布林職存入\n",
    "    tkinter.Checkbutton(win, text = waifu[i], variable = chosen[i]).pack()\n",
    "    #Checkbutton函數(視窗組, 選項內文, 要處裡的布林值字典[序號]).執行\n",
    "#布林職對應\n",
    "     \n",
    "tkinter.Button(win, text='都是我婆', command = askcomrades2).pack()\n",
    "\n",
    "win.mainloop()"
   ]
  },
  {
   "cell_type": "code",
   "execution_count": 17,
   "metadata": {},
   "outputs": [
    {
     "data": {
      "text/plain": [
       "<tkinter.BooleanVar at 0x1c87374ada0>"
      ]
     },
     "execution_count": 17,
     "metadata": {},
     "output_type": "execute_result"
    }
   ],
   "source": [
    "chosen[1]"
   ]
  },
  {
   "cell_type": "markdown",
   "metadata": {},
   "source": [
    "<font size=\"4\" face=\"Microsoft YaHei\"><b>核取方塊_單個 radiobutton</b></font>"
   ]
  },
  {
   "cell_type": "code",
   "execution_count": 6,
   "metadata": {},
   "outputs": [],
   "source": [
    "#Programming 101\n",
    "#week16\n",
    "#demo 3\n",
    "#radiobutton\n",
    "\n",
    "\n",
    "import tkinter\n",
    "from tkinter import messagebox\n",
    "def showMsg():\n",
    "    i=radio_v.get()\n",
    "    messagebox.showinfo('選取結果', '您最想去的國家為：'+country[i])\n",
    "    \n",
    "\n",
    "win=tkinter.Tk()\n",
    "win.title('最想要旅遊國家調查')\n",
    "win.geometry('300x150')\n",
    "\n",
    "label=tkinter.Label(win, text='請選取您最想要旅遊的國家：').pack()#開啟起始視窗\n",
    "country={0:'土耳其', 1:'英國', 2:'日本', 3:'埃及'}\n",
    "radio_v = tkinter.IntVar()\n",
    "radio_v.set(0)\n",
    "\n",
    "\n",
    "for i in range(len(country)):\n",
    "    tkinter.Radiobutton(win, text=country[i], variable=radio_v, value=i).pack()\n",
    "    #Radiobutton函數(視窗組, 改選項內文, 要處裡的IntVar(), 選項編號).執行\n",
    "#布林職對應\n",
    "    \n",
    "tkinter.Button(win, text = \"確定\", command=showMsg).pack()\n",
    "\n",
    "win.mainloop()"
   ]
  },
  {
   "cell_type": "code",
   "execution_count": 23,
   "metadata": {},
   "outputs": [
    {
     "name": "stdout",
     "output_type": "stream",
     "text": [
      "PY_VAR4\n"
     ]
    }
   ],
   "source": [
    "print(radio_v)"
   ]
  },
  {
   "cell_type": "markdown",
   "metadata": {},
   "source": [
    "<font size=\"4\" face=\"Microsoft YaHei\"><b>圖片鑲入</b></font>"
   ]
  },
  {
   "cell_type": "code",
   "execution_count": 26,
   "metadata": {},
   "outputs": [],
   "source": [
    "#Programming 101\n",
    "#week16\n",
    "#demo 4\n",
    "#PhotoImage\n",
    "\n",
    "\n",
    "import tkinter\n",
    "from tkinter import messagebox\n",
    "def showMsg():\n",
    "    i = radio_v.get()\n",
    "    if i == 0:\n",
    "        messagebox.showinfo(\"選取結果\",\"史努比\")\n",
    "    else:\n",
    "        messagebox.showinfo(\"選取結果\",\"史派克\")\n",
    "        \n",
    "win=tkinter.Tk()\n",
    "win.title('小狗偏好選擇')\n",
    "win.geometry('500x700')\n",
    "label=tkinter.Label(win, text='請選取您比較喜歡的小狗：').pack()\n",
    "\n",
    "image1 = tkinter.PhotoImage(file ='D:\\OneDrive\\Documents\\大三108上_程式設計概論\\week16\\snoopy1.gif')\n",
    "image2 = tkinter.PhotoImage(file ='D:\\OneDrive\\Documents\\大三108上_程式設計概論\\week16\\spike1.gif')\n",
    "#載入圖片\n",
    "\n",
    "radio_v = tkinter.IntVar()\n",
    "radio_v.set(1)#預設選項\n",
    "tkinter.Radiobutton(win, text='史努比', image=image1, variable=radio_v, value=0).pack()\n",
    "tkinter.Radiobutton(win, text='史派克', image=image2, variable=radio_v, value=1).pack()\n",
    "#Radiobutton函數(視窗組, 該選項圖片(內文擇一顯示), 要處裡的IntVar(), 選項編號).執行\n",
    "\n",
    "tkinter.Button(win, text = \"確定\", command = showMsg).pack()\n",
    "\n",
    "win.mainloop()\n"
   ]
  },
  {
   "cell_type": "code",
   "execution_count": null,
   "metadata": {},
   "outputs": [],
   "source": []
  },
  {
   "cell_type": "markdown",
   "metadata": {},
   "source": [
    "<font size=\"4\" face=\"Microsoft YaHei\"><b>選單</b></font>"
   ]
  },
  {
   "cell_type": "code",
   "execution_count": 29,
   "metadata": {},
   "outputs": [],
   "source": [
    "#Programming 101\n",
    "#week16\n",
    "#demo 5\n",
    "#Menu\n",
    "\n",
    "\n",
    "import tkinter\n",
    "def width():\n",
    "    win.title('800x200')\n",
    "    win.geometry('800x200')\n",
    "def height():\n",
    "    win.title('500x500')\n",
    "    win.geometry('500x500')\n",
    "def back():\n",
    "    win.title('500x200')\n",
    "    win.geometry('500x200')\n",
    "    \n",
    "win = tkinter.Tk()\n",
    "win.geometry('500x200')\n",
    "win.title('500x200')\n",
    "\n",
    "menu = tkinter.Menu(win)\n",
    "win[\"menu\"] = menu\n",
    "\n",
    "\n",
    "filemenu = tkinter.Menu(menu) #建立子功能表\n",
    "#Menu函數(視窗組, 該選項圖片(內文擇一顯示), 要處裡的IntVar(), 選項編號).執行\n",
    "\n",
    "menu.add_cascade(label=\"視窗調整\", menu=filemenu) #建立子功能表下拉選單\n",
    "filemenu.add_command(label=\"視窗變寬...\", command=width)\n",
    "filemenu.add_command(label=\"視窗變高...\", command=height)\n",
    "filemenu.add_separator() #子功能表內分隔線\n",
    "filemenu.add_command(label=\"離開\", command=win.destroy)\n",
    "\n",
    "\n",
    "originalmenu = tkinter.Menu(menu, tearoff=0) #建立取消預設線的子功能表\n",
    "\n",
    "menu.add_cascade(label = \"回復500x200視窗\", menu=originalmenu)\n",
    "originalmenu.add_command(label=\"回到500x200視窗\", command=back)\n",
    "\n",
    "win.mainloop()\n"
   ]
  },
  {
   "cell_type": "code",
   "execution_count": 37,
   "metadata": {},
   "outputs": [
    {
     "data": {
      "text/plain": [
       "NoneType"
      ]
     },
     "execution_count": 37,
     "metadata": {},
     "output_type": "execute_result"
    }
   ],
   "source": [
    "type(win.mainloop())"
   ]
  },
  {
   "cell_type": "markdown",
   "metadata": {},
   "source": [
    "<font size=\"4\" face=\"Microsoft YaHei\"><b>pillow</b></font>"
   ]
  },
  {
   "cell_type": "code",
   "execution_count": 47,
   "metadata": {},
   "outputs": [
    {
     "name": "stdout",
     "output_type": "stream",
     "text": [
      "圖片寬度: 564\n",
      "圖片高度: 564\n",
      "圖片檔案格式: JPEG\n",
      "圖片大小: (564, 564)\n"
     ]
    }
   ],
   "source": [
    "#Programming 101\n",
    "#week16\n",
    "#demo 6\n",
    "#PIL 套件 (需安裝第三方套件pillow: pip install pillow)\n",
    "\n",
    "\n",
    "import tkinter as tk\n",
    "from PIL import ImageTk, Image #匯入PIL套件的ImageTk和Image模組\n",
    "\n",
    "win = tk.Tk()\n",
    "win.title(\"圖片\")\n",
    "win.geometry(\"400x400\")\n",
    "win.configure(background='gray')\n",
    "\n",
    "path = \"D:\\OneDrive\\Documents\\大三108上_程式設計概論\\week16\\snoopy.jpg\" #欲開啟的JPG圖檔路徑與檔名\n",
    "\n",
    "#下為PIL.ImageTK的功能\n",
    "img=ImageTk.PhotoImage(Image.open(path)) #使用PhotoImage方法打開圖檔\n",
    "lab1=tk.Label(win, image=img) #以標籤的方式顯示圖檔\n",
    "\n",
    "lab1.pack()\n",
    "\n",
    "\n",
    "win.mainloop()\n",
    "\n",
    "#下為PIL.Image的功能\n",
    "pic=Image.open(path)  #打開圖檔\n",
    "print('圖片寬度:', pic.width)  #印出圖片的屬性\n",
    "print('圖片高度:', pic.height)\n",
    "print('圖片檔案格式:', pic.format)\n",
    "print('圖片大小:', pic.size)\n",
    "pic.show()  #使用電腦預設的圖片軟體來顯示圖片\n"
   ]
  },
  {
   "cell_type": "code",
   "execution_count": null,
   "metadata": {},
   "outputs": [],
   "source": []
  }
 ],
 "metadata": {
  "kernelspec": {
   "display_name": "Python 3",
   "language": "python",
   "name": "python3"
  },
  "language_info": {
   "codemirror_mode": {
    "name": "ipython",
    "version": 3
   },
   "file_extension": ".py",
   "mimetype": "text/x-python",
   "name": "python",
   "nbconvert_exporter": "python",
   "pygments_lexer": "ipython3",
   "version": "3.6.9"
  }
 },
 "nbformat": 4,
 "nbformat_minor": 2
}
