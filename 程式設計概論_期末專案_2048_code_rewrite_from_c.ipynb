{
 "cells": [
  {
   "cell_type": "code",
   "execution_count": 8,
   "metadata": {},
   "outputs": [],
   "source": [
    "import random as rn\n",
    "A = []\n",
    "size = 4"
   ]
  },
  {
   "cell_type": "code",
   "execution_count": 175,
   "metadata": {},
   "outputs": [
    {
     "name": "stdout",
     "output_type": "stream",
     "text": [
      "[[0, 0, 0, 0], [0, 0, 0, 0], [0, 0, 0, 0], [0, 0, 0, 0]]\n"
     ]
    }
   ],
   "source": [
    "def madeboard_unwork():\n",
    "    A = [] ;Ai = []\n",
    "    for i in range(0, size):\n",
    "        Ai.append(0)\n",
    "    for j in range(0, size):\n",
    "        A.append(Ai)\n",
    "    return A"
   ]
  },
  {
   "cell_type": "markdown",
   "metadata": {},
   "source": [
    "由於append(Ai)，所以每一行都是Ai"
   ]
  },
  {
   "cell_type": "code",
   "execution_count": 4,
   "metadata": {},
   "outputs": [
    {
     "name": "stdout",
     "output_type": "stream",
     "text": [
      "[[0, 0, 0, 0], [0, 0, 0, 0], [0, 0, 0, 0], [0, 0, 0, 0]]\n"
     ]
    }
   ],
   "source": [
    "def madeboard():\n",
    "    A = [0] * size\n",
    "    for i in range(size):\n",
    "        A[i] = [0] * size\n",
    "    return A\n",
    "A = madeboard()\n",
    "print(A)"
   ]
  },
  {
   "cell_type": "markdown",
   "metadata": {},
   "source": [
    "madeboard()"
   ]
  },
  {
   "cell_type": "code",
   "execution_count": 5,
   "metadata": {},
   "outputs": [],
   "source": [
    "def isnotfullboard(A):\n",
    "    m = 0\n",
    "    for i in range(size):\n",
    "        for j in range(size):\n",
    "            if (A[i][j] != 0):\n",
    "                m += 1\n",
    "    if (m == size*size): return False\n",
    "    else: return True"
   ]
  },
  {
   "cell_type": "markdown",
   "metadata": {},
   "source": [
    "lastangle()"
   ]
  },
  {
   "cell_type": "code",
   "execution_count": 6,
   "metadata": {},
   "outputs": [],
   "source": [
    "def addnumber(A):\n",
    "    i = 0;j = 0;f = 0\n",
    "    if isnotfullboard(A):\n",
    "        while (f == 0):\n",
    "            i = rn.randint(0,size-1)\n",
    "            j = rn.randint(0,size-1)\n",
    "            if (A[i][j] == 0):\n",
    "                f = 1\n",
    "            else : f = 0\n",
    "        if (f == 1):\n",
    "            A[i][j] = rn.choice([2,2,2,2,2, 2,2,2,2,4])\n",
    "            print(i,j)\n",
    "            f = 0"
   ]
  },
  {
   "cell_type": "markdown",
   "metadata": {},
   "source": [
    "addnumber()+dice()"
   ]
  },
  {
   "cell_type": "code",
   "execution_count": 7,
   "metadata": {},
   "outputs": [
    {
     "ename": "SyntaxError",
     "evalue": "unexpected EOF while parsing (<ipython-input-7-4ea848038e39>, line 2)",
     "output_type": "error",
     "traceback": [
      "\u001b[1;36m  File \u001b[1;32m\"<ipython-input-7-4ea848038e39>\"\u001b[1;36m, line \u001b[1;32m2\u001b[0m\n\u001b[1;33m    \u001b[0m\n\u001b[1;37m    ^\u001b[0m\n\u001b[1;31mSyntaxError\u001b[0m\u001b[1;31m:\u001b[0m unexpected EOF while parsing\n"
     ]
    }
   ],
   "source": [
    "def printboard(A):\n",
    "    "
   ]
  },
  {
   "cell_type": "code",
   "execution_count": 96,
   "metadata": {},
   "outputs": [],
   "source": [
    "def move_up(A):\n",
    "    n = 0\n",
    "    for j in range (0 ,size):\n",
    "        for r in range (0 ,size):\n",
    "            for i in range (0 ,size-1):\n",
    "                if (A[i][j] == 0 and A[i + 1][j] != 0):\n",
    "                    A[i][j] = A[i+1][j]\n",
    "                    A[i+1][j] = 0\n",
    "        for i in range (0 ,size-1):\n",
    "            if (A[i][j] ==  A[i + 1][j] and A[i][j] != 0):\n",
    "                A[i][j] = A[i + 1][j] + A[i][j]\n",
    "                n = n + A[i][j]\n",
    "                A[i + 1][j] = 0\n",
    "        for i in range (0,size-1):\n",
    "            if (A[i][j] == 0 and A[i + 1][j] != 0):\n",
    "                A[i][j] = A[i + 1][j]\n",
    "                A[i + 1][j] = 0\n",
    "    return n\n",
    "                    "
   ]
  },
  {
   "cell_type": "code",
   "execution_count": 107,
   "metadata": {},
   "outputs": [
    {
     "name": "stdout",
     "output_type": "stream",
     "text": [
      "12\n",
      "[2, 8, 2, 8]\n",
      "[8, 0, 0, 4]\n",
      "[4, 0, 0, 0]\n",
      "[0, 0, 0, 0]\n"
     ]
    }
   ],
   "source": [
    "print(move_up(A))\n",
    "print(A[0])\n",
    "print(A[1])\n",
    "print(A[2])\n",
    "print(A[3])\n"
   ]
  },
  {
   "cell_type": "code",
   "execution_count": 134,
   "metadata": {},
   "outputs": [],
   "source": [
    "def move_down(A):\n",
    "    n = 0\n",
    "    for j in range (0 ,size):\n",
    "        for r in range (0 ,size):\n",
    "            '''移動數字'''\n",
    "            for i in range (size - 1 ,0 ,-1):\n",
    "                if (A[i][j] == 0 and A[i - 1][j] != 0):\n",
    "                    A[i][j] = A[i - 1][j]\n",
    "                    A[i - 1][j] = 0\n",
    "        for i in range (size - 1 ,0 ,-1):\n",
    "            '''合併數字及計算分數'''\n",
    "            if (A[i][j] ==  A[i-1][j] and A[i][j] != 0):\n",
    "                A[i][j] = A[i - 1][j] + A[i][j]\n",
    "                n = n + A[i][j]\n",
    "                A[i - 1][j] = 0\n",
    "        for i in range (size - 1 ,0 ,-1):\n",
    "            '''再次移動數字以消除合併後的空格'''\n",
    "            if (A[i][j] == 0 and A[i - 1][j] != 0):\n",
    "                A[i][j] = A[i - 1][j]\n",
    "                A[i - 1][j] = 0\n",
    "    return n"
   ]
  },
  {
   "cell_type": "code",
   "execution_count": 139,
   "metadata": {},
   "outputs": [
    {
     "name": "stdout",
     "output_type": "stream",
     "text": [
      "[0, 0, 0, 0]\n",
      "[0, 0, 0, 2]\n",
      "[0, 8, 0, 16]\n",
      "[0, 2, 4, 8]\n"
     ]
    }
   ],
   "source": [
    "move_down(A)\n",
    "print(A[0])\n",
    "print(A[1])\n",
    "print(A[2])\n",
    "print(A[3])"
   ]
  },
  {
   "cell_type": "code",
   "execution_count": 100,
   "metadata": {},
   "outputs": [],
   "source": [
    "def move_left(A):\n",
    "    n = 0\n",
    "    for i in range (0 ,size):\n",
    "        for r in range (0 ,size):\n",
    "            for j in range (0 ,size - 1):\n",
    "                if (A[i][j] == 0 and A[i][j + 1] != 0):\n",
    "                    A[i][j] = A[i][j + 1]\n",
    "                    A[i][j + 1] = 0\n",
    "        for j in range (0 ,size - 1):\n",
    "            if (A[i][j] ==  A[i][j + 1] and A[i][j] != 0):\n",
    "                A[i][j] = A[i][j + 1] + A[i][j]\n",
    "                n = n + A[i][j]\n",
    "                A[i + 1][j] = 0\n",
    "        for j in range (0 ,size - 1):\n",
    "            if (A[i][j] == 0 and A[i][j + 1] != 0):\n",
    "                A[i][j] = A[i + 1][j]\n",
    "                A[i + 1][j] = 0\n",
    "    return n"
   ]
  },
  {
   "cell_type": "code",
   "execution_count": 157,
   "metadata": {},
   "outputs": [
    {
     "name": "stdout",
     "output_type": "stream",
     "text": [
      "0\n",
      "[0, 0, 0, 0]\n",
      "[2, 0, 0, 0]\n",
      "[16, 8, 0, 0]\n",
      "[4, 8, 2, 0]\n"
     ]
    }
   ],
   "source": [
    "print(move_left(A))\n",
    "print(A[0])\n",
    "print(A[1])\n",
    "print(A[2])\n",
    "print(A[3])"
   ]
  },
  {
   "cell_type": "code",
   "execution_count": 162,
   "metadata": {},
   "outputs": [],
   "source": [
    "def move_right(A):\n",
    "    n = 0\n",
    "    for i in range (0 ,size):\n",
    "        for r in range (0 ,size):\n",
    "            '''移動數字'''\n",
    "            for j in range (size - 1 ,0 ,-1):\n",
    "                if (A[i][j] == 0 and A[i][j - 1] != 0):\n",
    "                    A[i][j] = A[i][j - 1]\n",
    "                    A[i][j - 1] = 0\n",
    "        for j in range (size - 1 ,0 ,-1):\n",
    "            '''合併數字及計算分數'''\n",
    "            if (A[i][j] ==  A[i][j - 1] and A[i][j] != 0):\n",
    "                A[i][j] = A[i][j - 1] + A[i][j]\n",
    "                n = n + A[i][j]\n",
    "                A[i][j - 1] = 0\n",
    "        for j in range (size - 1 ,0 ,-1):\n",
    "            '''再次移動數字以消除合併後的空格'''\n",
    "            if (A[i][j] == 0 and A[i][j - 1] != 0):\n",
    "                A[i][j] = A[i][j - 1]\n",
    "                A[i][j - 1] = 0\n",
    "    return n"
   ]
  },
  {
   "cell_type": "code",
   "execution_count": 166,
   "metadata": {},
   "outputs": [
    {
     "name": "stdout",
     "output_type": "stream",
     "text": [
      "0\n",
      "[0, 0, 0, 0]\n",
      "[0, 0, 0, 2]\n",
      "[0, 0, 16, 8]\n",
      "[0, 2, 4, 8]\n"
     ]
    }
   ],
   "source": [
    "print(move_right(A))\n",
    "print(A[0])\n",
    "print(A[1])\n",
    "print(A[2])\n",
    "print(A[3])"
   ]
  },
  {
   "cell_type": "markdown",
   "metadata": {},
   "source": [
    "可先預備\n"
   ]
  },
  {
   "cell_type": "code",
   "execution_count": 61,
   "metadata": {},
   "outputs": [
    {
     "name": "stdout",
     "output_type": "stream",
     "text": [
      "[0, 0, 0, 0]\n",
      "[0, 0, 0, 0]\n",
      "[0, 0, 0, 0]\n",
      "[0, 0, 0, 0]\n"
     ]
    }
   ],
   "source": [
    "A = madeboard()\n",
    "print(A[0])\n",
    "print(A[1])\n",
    "print(A[2])\n",
    "print(A[3])"
   ]
  },
  {
   "cell_type": "code",
   "execution_count": 253,
   "metadata": {},
   "outputs": [
    {
     "data": {
      "text/plain": [
       "[[2, 2, 0, 4], [2, 2, 2, 0], [2, 0, 2, 0], [2, 0, 4, 2]]"
      ]
     },
     "execution_count": 253,
     "metadata": {},
     "output_type": "execute_result"
    }
   ],
   "source": [
    "A"
   ]
  },
  {
   "cell_type": "code",
   "execution_count": 103,
   "metadata": {},
   "outputs": [
    {
     "name": "stdout",
     "output_type": "stream",
     "text": [
      "2 3\n",
      "[2, 8, 2, 4]\n",
      "[8, 4, 0, 0]\n",
      "[2, 0, 0, 2]\n",
      "[0, 0, 2, 0]\n"
     ]
    }
   ],
   "source": [
    "addnumber(A)\n",
    "print(A[0])\n",
    "print(A[1])\n",
    "print(A[2])\n",
    "print(A[3])"
   ]
  },
  {
   "cell_type": "code",
   "execution_count": 52,
   "metadata": {},
   "outputs": [
    {
     "data": {
      "text/plain": [
       "True"
      ]
     },
     "execution_count": 52,
     "metadata": {},
     "output_type": "execute_result"
    }
   ],
   "source": [
    "isnotfullboard(A)"
   ]
  },
  {
   "cell_type": "code",
   "execution_count": 196,
   "metadata": {},
   "outputs": [
    {
     "data": {
      "text/plain": [
       "2"
      ]
     },
     "execution_count": 196,
     "metadata": {},
     "output_type": "execute_result"
    }
   ],
   "source": [
    "rn.choice([2,2,2,2,2,\n",
    "           2,2,2,2,4])"
   ]
  },
  {
   "cell_type": "code",
   "execution_count": 155,
   "metadata": {},
   "outputs": [
    {
     "name": "stdout",
     "output_type": "stream",
     "text": [
      "1\n"
     ]
    }
   ],
   "source": [
    "ff =0; mm = 0\n",
    "while ff!=2:\n",
    "    ff = rn.randint(0,size)\n",
    "    mm += 1\n",
    "    print(mm)"
   ]
  },
  {
   "cell_type": "code",
   "execution_count": 119,
   "metadata": {},
   "outputs": [
    {
     "data": {
      "text/plain": [
       "int"
      ]
     },
     "execution_count": 119,
     "metadata": {},
     "output_type": "execute_result"
    }
   ],
   "source": [
    "type(rn.randint(0,size))"
   ]
  },
  {
   "cell_type": "markdown",
   "metadata": {},
   "source": [
    "transMatrix(A,B) is not indeed"
   ]
  },
  {
   "cell_type": "code",
   "execution_count": 169,
   "metadata": {},
   "outputs": [
    {
     "name": "stdout",
     "output_type": "stream",
     "text": [
      "wasdk\n",
      "other\n"
     ]
    }
   ],
   "source": [
    "k = input('wasd')\n",
    "if k == 'w':\n",
    "    print(k)\n",
    "elif k == 'a':\n",
    "    print(k)\n",
    "elif k == 's':\n",
    "    print(k)\n",
    "elif k == 'd':\n",
    "    print(k)\n",
    "else:\n",
    "    print('other')"
   ]
  },
  {
   "cell_type": "code",
   "execution_count": 1,
   "metadata": {},
   "outputs": [],
   "source": []
  },
  {
   "cell_type": "code",
   "execution_count": 1,
   "metadata": {},
   "outputs": [
    {
     "name": "stdout",
     "output_type": "stream",
     "text": [
      "addwda wasfa   \n",
      "addwda\n"
     ]
    }
   ],
   "source": [
    "a = input('').split(\" \")[0]\n",
    "print(a)\n"
   ]
  }
 ],
 "metadata": {
  "kernelspec": {
   "display_name": "Python 3",
   "language": "python",
   "name": "python3"
  },
  "language_info": {
   "codemirror_mode": {
    "name": "ipython",
    "version": 3
   },
   "file_extension": ".py",
   "mimetype": "text/x-python",
   "name": "python",
   "nbconvert_exporter": "python",
   "pygments_lexer": "ipython3",
   "version": "3.6.9"
  }
 },
 "nbformat": 4,
 "nbformat_minor": 2
}
