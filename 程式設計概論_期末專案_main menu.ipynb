{
 "cells": [
  {
   "cell_type": "code",
   "execution_count": 3,
   "metadata": {},
   "outputs": [],
   "source": [
    "import tkinter\n",
    "from tkinter import messagebox\n",
    "import time as t\n",
    "\n"
   ]
  },
  {
   "cell_type": "code",
   "execution_count": 9,
   "metadata": {},
   "outputs": [],
   "source": [
    "def _main_menu_():\n",
    "    win_menu = tkinter.Tk()\n",
    "    win_menu.title(\"1\")\n",
    "\n",
    "    \n",
    "\n",
    "\n",
    "    win_menu_menu = tkinter.Menu(win_menu)\n",
    "    win_menu[\"menu\"] = win_menu_menu\n",
    "\n",
    "\n",
    "    gamepackage = tkinter.Menu(win_menu_menu, tearoff=0)\n",
    "    win_menu_menu.add_cascade(label=\"遊戲庫\", menu = gamepackage)\n",
    "    \n",
    "    gamepackage.add_command(label=\"日期計算\", command=_main_dayscounting_)\n",
    "    gamepackage.add_command(label=\"日期計算\", command=_main_dayscounting_)\n",
    "    gamepackage.add_command(label=\"日期計算\", command=_main_dayscounting_)\n",
    "    gamepackage.add_command(label=\"日期計算\", command=_main_dayscounting_)\n",
    "    gamepackage.add_command(label=\"日期計算\", command=_main_dayscounting_)\n",
    "\n",
    "    gamepackage.add_command(label=\"日期計算\", command=_main_dayscounting_)\n",
    "    gamepackage.add_command(label=\"日期計算\", command=_main_dayscounting_)\n",
    "\n",
    "\n",
    "    sys = tkinter.Menu(win_menu_menu, tearoff=0)\n",
    "    win_menu_menu.add_cascade(label=\"系統\", menu = sys)    \n",
    "    \n",
    "    sys.add_command(label=\"離開\", command=win_menu.destroy)\n",
    "    #win.destroy 關閉視窗\n",
    "        \n",
    "    win_menu.mainloop()\n",
    "    #_main_dayscounting_()\n",
    "    \n",
    "    print('1')"
   ]
  },
  {
   "cell_type": "markdown",
   "metadata": {},
   "source": [
    "def _main_dayscounting_():\n",
    "    while(True):###垃圾病毒視窗\n",
    "        print('2')\n",
    "        win_dayscounting = tkinter.Tk()\n",
    "        win_dayscounting.title(\"日期計算\")\n",
    "        win_dayscounting.geometry('400x200')\n",
    "        #win_dayscounting.mainloop()\n",
    "        \n",
    "        #monthday=\"31 28 31 30 31 30 31 31 30 31 30 31 \"\n",
    "        #today=\"1008\"\n",
    "    \n",
    "        today=t.strftime(\"%m%d\",t.localtime())\n",
    "        \n",
    "        #targetday=input(\"請輸入要查詢的日期(格式:1123，2位數月份+2位數日期)\")\n",
    "        label1 = tkinter.Label(win_dayscounting, width=50, text='請輸入要查詢的日期')\n",
    "        label2 = tkinter.Label(win_dayscounting, width=50, text='格式:1123，2位數月份+2位數日期')\n",
    "        label3 = tkinter.Label(win_dayscounting, width=50, text='今天是')\n",
    "        targetday_1 = tkinter.StringVar()\n",
    "        targetday_1.set(\"____\")\n",
    "    \n",
    "        entry1 = tkinter.Entry(win_dayscounting, width=10, textvariable = targetday_1)\n",
    "    \n",
    "        btn1 = tkinter.Button(win_dayscounting, text = \"計算日期\",\n",
    "                              command = daysdistance(today, str(targetday_1.get())))\n",
    "        targetday_1.get()\n",
    "    \n",
    "        label1.grid(row=0, column=0)\n",
    "        label2.grid(row=1, column=0)\n",
    "        label3.grid(row=3, column=0)\n",
    "        entry1.grid(row=2, column=0)\n",
    "        btn1.grid(row=4, column=0)\n",
    "        \n",
    "        #沒有google，我們還有baidu啊(X\n",
    "        #沒有list，我們還有string啊(O\n",
    "        win_dayscounting.mainloop()"
   ]
  },
  {
   "cell_type": "code",
   "execution_count": 5,
   "metadata": {},
   "outputs": [],
   "source": [
    "\n",
    "def _main_dayscounting_():\n",
    "    print('2')\n",
    "    win_dayscounting = tkinter.Tk()\n",
    "    win_dayscounting.title(\"日期計算\")\n",
    "    win_dayscounting.geometry('400x200')\n",
    "    #win_dayscounting.mainloop()\n",
    "    \n",
    "    #monthday=\"31 28 31 30 31 30 31 31 30 31 30 31 \"\n",
    "    #today=\"1008\"\n",
    "\n",
    "    today=t.strftime(\"%m%d\",t.localtime())\n",
    "    \n",
    "    #targetday=input(\"請輸入要查詢的日期(格式:1123，2位數月份+2位數日期)\")\n",
    "    label1 = tkinter.Label(win_dayscounting, width=50, text='請輸入要查詢的日期')\n",
    "    label2 = tkinter.Label(win_dayscounting, width=50, text='格式:1123，2位數月份+2位數日期')\n",
    "    label3 = tkinter.Label(win_dayscounting, width=50, text='今天是\"+str(m1)+\"/\"+str(d1)')\n",
    "    targetday_1 = tkinter.IntVar()\n",
    "    targetday_1.set(\"2222\")\n",
    "    entry1 = tkinter.Entry(win_dayscounting, width=10, textvariable = targetday_1)\n",
    "\n",
    "    btn1 = tkinter.Button(win_dayscounting, text = \"計算日期\",\n",
    "                          command = daysdistance(today, str(targetday_1.get())))\n",
    "    targetday_1.get()\n",
    "\n",
    "    label1.grid(row=0, column=0)\n",
    "    label2.grid(row=1, column=0)\n",
    "    entry1.grid(row=2, column=0)\n",
    "    btn1.grid(row=4, column=0)\n",
    "    \n",
    "    #沒有google，我們還有baidu啊(X\n",
    "    #沒有list，我們還有string啊(O\n",
    "    win_dayscounting.mainloop()\n",
    "    \n",
    "def daysdistance(today, targetday):\n",
    "    monthday=\"31 28 31 30 31 30 31 31 30 31 30 31 \"\n",
    "    if(targetday.isdigit()):\n",
    "        m1=int(today[0:2]);m11=0\n",
    "        n1=0\n",
    "        d1=int(today[2:4])\n",
    "        dayth1=0\n",
    "    \n",
    "        m2=int(targetday[0:2]);m22=0\n",
    "        n2=0\n",
    "        d2=int(targetday[2:4])\n",
    "        dayth2=0\n",
    "        if (m2<=12 and m2>0):\n",
    "            if (d2<=int(monthday[n2:n2+2]) and d2>0):\n",
    "                m11=m1\n",
    "                m22=m2\n",
    "                while (m22>0):\n",
    "                    #print(m22)\n",
    "                    m22-=1\n",
    "                    n2=3*(m22-1)\n",
    "                    dayth2+=int(monthday[n2:n2+2])\n",
    "                while (m11>0):\n",
    "                    #print(m11)\n",
    "                    m11-=1\n",
    "                    n1=3*(m11-1)\n",
    "                    dayth1+=int(monthday[n1:n1+2])\n",
    "                dayth1=dayth1+d1  \n",
    "                dayth2=dayth2+d2\n",
    "                #print(dayth1)\n",
    "                #print(dayth2)\n",
    "                if(dayth2-dayth1<0):\n",
    "                    messagebox.showinfo('提示','輸入不能為過去日期')\n",
    "                    #targetday=input(\"輸入不能為過去日期(格式:1123，2位數月份+2位數日期)\")\n",
    "                else:\n",
    "                    print(\"今天是\"+str(m1)+\"/\"+str(d1)+\"離所輸入的日子\"+str(m2)+\"/\"+str(d2)+\"還有\"+str(dayth2-dayth1)+\"天\")\n",
    "                    label3[\"text\"] = \"今天是\"+str(m1)+\"/\"+str(d1)+\"離所輸入的日子\"+str(m2)+\"/\"+str(d2)+\"還有\"+str(dayth2-dayth1)+\"天\"\n",
    "                    return \"今天是\"+str(m1)+\"/\"+str(d1)+\"離所輸入的日子\"+str(m2)+\"/\"+str(d2)+\"還有\"+str(dayth2-dayth1)+\"天\"\n",
    "                    #wait=input(\"是否繼續執行程式(輸入y表示是;任意鍵表示否)\")\n",
    "                    #if wait==\"y\":\n",
    "                    #    targetday=input(\"請輸入要查詢的日期(格式:1123，2位數月份+2位數日期)\")\n",
    "                    #else: break\n",
    "            else:\n",
    "                messagebox.showinfo('提示','請重新輸入要查詢的日期')\n",
    "                #targetday=input(\"請重新輸入要查詢的日期(格式:1123，2位數月份+2位數日期)\")\n",
    "        else:\n",
    "            messagebox.showinfo('提示','請重新輸入要查詢的日期')\n",
    "            #targetday=input(\"請重新輸入要查詢的日期(格式:11"
   ]
  },
  {
   "cell_type": "code",
   "execution_count": 11,
   "metadata": {},
   "outputs": [
    {
     "name": "stdout",
     "output_type": "stream",
     "text": [
      "2\n",
      "1\n"
     ]
    }
   ],
   "source": [
    "_main_menu_()"
   ]
  },
  {
   "cell_type": "code",
   "execution_count": 16,
   "metadata": {},
   "outputs": [
    {
     "ename": "AttributeError",
     "evalue": "'NoneType' object has no attribute '_root'",
     "output_type": "error",
     "traceback": [
      "\u001b[1;31m---------------------------------------------------------------------------\u001b[0m",
      "\u001b[1;31mAttributeError\u001b[0m                            Traceback (most recent call last)",
      "\u001b[1;32m<ipython-input-16-7c76ab9b3a9b>\u001b[0m in \u001b[0;36m<module>\u001b[1;34m\u001b[0m\n\u001b[1;32m----> 1\u001b[1;33m \u001b[0mtargetday_1\u001b[0m \u001b[1;33m=\u001b[0m \u001b[0mtkinter\u001b[0m\u001b[1;33m.\u001b[0m\u001b[0mIntVar\u001b[0m\u001b[1;33m(\u001b[0m\u001b[1;33m)\u001b[0m\u001b[1;33m\u001b[0m\u001b[1;33m\u001b[0m\u001b[0m\n\u001b[0m\u001b[0;32m      2\u001b[0m \u001b[0mtype\u001b[0m\u001b[1;33m(\u001b[0m\u001b[0mtargetday_1\u001b[0m\u001b[1;33m)\u001b[0m\u001b[1;33m\u001b[0m\u001b[1;33m\u001b[0m\u001b[0m\n",
      "\u001b[1;32m~\\Anaconda3\\lib\\tkinter\\__init__.py\u001b[0m in \u001b[0;36m__init__\u001b[1;34m(self, master, value, name)\u001b[0m\n\u001b[0;32m    500\u001b[0m         \u001b[0mthen\u001b[0m \u001b[0mthe\u001b[0m \u001b[0mexisting\u001b[0m \u001b[0mvalue\u001b[0m \u001b[1;32mis\u001b[0m \u001b[0mretained\u001b[0m\u001b[1;33m.\u001b[0m\u001b[1;33m\u001b[0m\u001b[1;33m\u001b[0m\u001b[0m\n\u001b[0;32m    501\u001b[0m         \"\"\"\n\u001b[1;32m--> 502\u001b[1;33m         \u001b[0mVariable\u001b[0m\u001b[1;33m.\u001b[0m\u001b[0m__init__\u001b[0m\u001b[1;33m(\u001b[0m\u001b[0mself\u001b[0m\u001b[1;33m,\u001b[0m \u001b[0mmaster\u001b[0m\u001b[1;33m,\u001b[0m \u001b[0mvalue\u001b[0m\u001b[1;33m,\u001b[0m \u001b[0mname\u001b[0m\u001b[1;33m)\u001b[0m\u001b[1;33m\u001b[0m\u001b[1;33m\u001b[0m\u001b[0m\n\u001b[0m\u001b[0;32m    503\u001b[0m \u001b[1;33m\u001b[0m\u001b[0m\n\u001b[0;32m    504\u001b[0m     \u001b[1;32mdef\u001b[0m \u001b[0mget\u001b[0m\u001b[1;33m(\u001b[0m\u001b[0mself\u001b[0m\u001b[1;33m)\u001b[0m\u001b[1;33m:\u001b[0m\u001b[1;33m\u001b[0m\u001b[1;33m\u001b[0m\u001b[0m\n",
      "\u001b[1;32m~\\Anaconda3\\lib\\tkinter\\__init__.py\u001b[0m in \u001b[0;36m__init__\u001b[1;34m(self, master, value, name)\u001b[0m\n\u001b[0;32m    315\u001b[0m         \u001b[1;32mif\u001b[0m \u001b[1;32mnot\u001b[0m \u001b[0mmaster\u001b[0m\u001b[1;33m:\u001b[0m\u001b[1;33m\u001b[0m\u001b[1;33m\u001b[0m\u001b[0m\n\u001b[0;32m    316\u001b[0m             \u001b[0mmaster\u001b[0m \u001b[1;33m=\u001b[0m \u001b[0m_default_root\u001b[0m\u001b[1;33m\u001b[0m\u001b[1;33m\u001b[0m\u001b[0m\n\u001b[1;32m--> 317\u001b[1;33m         \u001b[0mself\u001b[0m\u001b[1;33m.\u001b[0m\u001b[0m_root\u001b[0m \u001b[1;33m=\u001b[0m \u001b[0mmaster\u001b[0m\u001b[1;33m.\u001b[0m\u001b[0m_root\u001b[0m\u001b[1;33m(\u001b[0m\u001b[1;33m)\u001b[0m\u001b[1;33m\u001b[0m\u001b[1;33m\u001b[0m\u001b[0m\n\u001b[0m\u001b[0;32m    318\u001b[0m         \u001b[0mself\u001b[0m\u001b[1;33m.\u001b[0m\u001b[0m_tk\u001b[0m \u001b[1;33m=\u001b[0m \u001b[0mmaster\u001b[0m\u001b[1;33m.\u001b[0m\u001b[0mtk\u001b[0m\u001b[1;33m\u001b[0m\u001b[1;33m\u001b[0m\u001b[0m\n\u001b[0;32m    319\u001b[0m         \u001b[1;32mif\u001b[0m \u001b[0mname\u001b[0m\u001b[1;33m:\u001b[0m\u001b[1;33m\u001b[0m\u001b[1;33m\u001b[0m\u001b[0m\n",
      "\u001b[1;31mAttributeError\u001b[0m: 'NoneType' object has no attribute '_root'"
     ]
    }
   ],
   "source": [
    "targetday_1 = tkinter.IntVar()\n",
    "type(targetday_1)"
   ]
  },
  {
   "cell_type": "code",
   "execution_count": 6,
   "metadata": {},
   "outputs": [
    {
     "name": "stdout",
     "output_type": "stream",
     "text": [
      "2\n"
     ]
    }
   ],
   "source": []
  },
  {
   "cell_type": "code",
   "execution_count": null,
   "metadata": {},
   "outputs": [],
   "source": []
  }
 ],
 "metadata": {
  "kernelspec": {
   "display_name": "Python 3",
   "language": "python",
   "name": "python3"
  },
  "language_info": {
   "codemirror_mode": {
    "name": "ipython",
    "version": 3
   },
   "file_extension": ".py",
   "mimetype": "text/x-python",
   "name": "python",
   "nbconvert_exporter": "python",
   "pygments_lexer": "ipython3",
   "version": "3.6.9"
  }
 },
 "nbformat": 4,
 "nbformat_minor": 2
}
